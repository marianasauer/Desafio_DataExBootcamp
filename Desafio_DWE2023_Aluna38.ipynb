{
    "metadata": {
        "kernelspec": {
            "name": "SQL",
            "display_name": "SQL",
            "language": "sql"
        },
        "language_info": {
            "name": "sql",
            "version": ""
        }
    },
    "nbformat_minor": 2,
    "nbformat": 4,
    "cells": [
        {
            "cell_type": "markdown",
            "source": [
                "**Criação do Schema para Organização do Projeto**"
            ],
            "metadata": {
                "azdata_cell_guid": "0065c000-f652-4d89-93b5-c6482f2e84fd"
            },
            "attachments": {}
        },
        {
            "cell_type": "code",
            "source": [
                "USE DW_38\r\n",
                "GO\r\n",
                "--CREATE SCHEMA STAGING\r\n",
                "IF NOT EXISTS (SELECT 1 FROM sys.schemas WHERE name='STAGING')\r\n",
                "   EXEC('CREATE SCHEMA STAGING');\r\n",
                "    --CREATE SCHEMA STAGING\r\n",
                "GO\r\n",
                "--CREATE SCHEMA SILVER\r\n",
                "IF NOT EXISTS (SELECT 1 FROM sys.schemas WHERE name='SILVER')\r\n",
                " EXEC('CREATE SCHEMA SILVER');\r\n",
                "GO\r\n",
                "--CREATE SCHEMA GOLD\r\n",
                "IF NOT EXISTS (SELECT 1 FROM sys.schemas WHERE name='GOLD')\r\n",
                "EXEC('CREATE SCHEMA GOLD');\r\n",
                "GO\r\n",
                "--CREATE SCHEMA LOGS\r\n",
                "IF NOT EXISTS (SELECT 1 FROM sys.schemas WHERE name='LOGS')\r\n",
                "    EXEC('CREATE SCHEMA LOGS');\r\n",
                "GO\r\n",
                ""
            ],
            "metadata": {
                "azdata_cell_guid": "b317f033-59e4-415e-9c47-a566d02f36d1",
                "language": "sql"
            },
            "outputs": [
                {
                    "output_type": "display_data",
                    "data": {
                        "text/html": "Commands completed successfully."
                    },
                    "metadata": {}
                },
                {
                    "output_type": "display_data",
                    "data": {
                        "text/html": "Commands completed successfully."
                    },
                    "metadata": {}
                },
                {
                    "output_type": "display_data",
                    "data": {
                        "text/html": "Commands completed successfully."
                    },
                    "metadata": {}
                },
                {
                    "output_type": "display_data",
                    "data": {
                        "text/html": "Commands completed successfully."
                    },
                    "metadata": {}
                },
                {
                    "output_type": "display_data",
                    "data": {
                        "text/html": "Commands completed successfully."
                    },
                    "metadata": {}
                },
                {
                    "output_type": "display_data",
                    "data": {
                        "text/html": "Total execution time: 00:00:00.812"
                    },
                    "metadata": {}
                }
            ],
            "execution_count": 4
        },
        {
            "cell_type": "markdown",
            "source": [
                "**Criação Tabela de Log**"
            ],
            "metadata": {
                "language": "sql",
                "azdata_cell_guid": "c1a83794-e37e-4d26-b8b7-14d704f394bb"
            },
            "attachments": {}
        },
        {
            "cell_type": "code",
            "source": [
                "USE [DW_38]\r\n",
                "GO\r\n",
                "\r\n",
                "IF NOT EXISTS (SELECT * FROM sysobjects WHERE name='LOG_CHALLENGE' AND xtype='U')\r\n",
                "\r\n",
                "CREATE TABLE [DW_38].[LOGS].[LOG_CHALLENGE]\r\n",
                "    (\r\n",
                "        ID INT IDENTITY(1,1) NOT NULL PRIMARY KEY,\r\n",
                "        NUMERO_ERRO INT,\r\n",
                "        SERVERIDADE_ERRO INT,\r\n",
                "        ESTADO_ERRO  INT,\r\n",
                "        PROC_ERRO NVARCHAR(255),\r\n",
                "        LINHA_ERRO INT,\r\n",
                "        LINHAS_INSERT INT,\r\n",
                "        LINHAS_UPDATE INT,\r\n",
                "        LINHAS_DELETE INT,\r\n",
                "        MSG_ERRO NVARCHAR(1000),\r\n",
                "        SITUACAO NVARCHAR(10),\r\n",
                "        PROCESSO NVARCHAR(30),\r\n",
                "        DATA_INI DATETIME,\r\n",
                "        DATA_FIM DATETIME  \r\n",
                "    )"
            ],
            "metadata": {
                "language": "sql",
                "azdata_cell_guid": "68067924-2eb4-40b2-b9a3-df3fed926792"
            },
            "outputs": [
                {
                    "output_type": "display_data",
                    "data": {
                        "text/html": "Commands completed successfully."
                    },
                    "metadata": {}
                },
                {
                    "output_type": "display_data",
                    "data": {
                        "text/html": "Commands completed successfully."
                    },
                    "metadata": {}
                },
                {
                    "output_type": "display_data",
                    "data": {
                        "text/html": "Total execution time: 00:00:00.338"
                    },
                    "metadata": {}
                }
            ],
            "execution_count": 5
        },
        {
            "cell_type": "markdown",
            "source": [
                "**CRIANDO UM PROCEDURE DE LOG PARA REUTILIZAÇÃO NOS PROCESSOS**"
            ],
            "metadata": {
                "language": "sql",
                "azdata_cell_guid": "dbe45de4-aaef-43ec-8ce8-c8e387eea23a"
            },
            "attachments": {}
        },
        {
            "cell_type": "code",
            "source": [
                "USE DW_38\r\n",
                "GO\r\n",
                "CREATE OR ALTER PROCEDURE [SP_INSERT_LOG_CHALLENGE]\r\n",
                "    \r\n",
                "    @LINHAS_INSERT INT,\r\n",
                "    --@LINHAS_UPDATE INT,\r\n",
                "    --@LINHAS_DELETE INT,\r\n",
                "    @SITUACAO NVARCHAR(10),\r\n",
                "    @PROCESSO NVARCHAR(30),\r\n",
                "    @DATA_INI DATETIME,\r\n",
                "    @DATA_FIM DATETIME  \r\n",
                "AS\r\n",
                "BEGIN\r\n",
                "    SET NOCOUNT ON;\r\n",
                "\r\n",
                "    INSERT INTO [DW_38].[LOGS].[LOG_CHALLENGE]\r\n",
                "    (\r\n",
                "        NUMERO_ERRO,\r\n",
                "        SERVERIDADE_ERRO,\r\n",
                "        ESTADO_ERRO,\r\n",
                "        PROC_ERRO,\r\n",
                "        LINHA_ERRO,\r\n",
                "        LINHAS_INSERT,\r\n",
                "      --  LINHAS_UPDATE,\r\n",
                "      --  LINHAS_DELETE,\r\n",
                "        MSG_ERRO,\r\n",
                "        SITUACAO,\r\n",
                "        PROCESSO,\r\n",
                "        DATA_INI,\r\n",
                "        DATA_FIM\r\n",
                "    )\r\n",
                "  SELECT   \r\n",
                "        ERROR_NUMBER() AS ErrorNumber  ,\r\n",
                "        ERROR_SEVERITY() AS ErrorSeverity  ,\r\n",
                "        ERROR_STATE() AS ErrorState , \r\n",
                "        ERROR_LINE () AS ErrorLine , \r\n",
                "        ERROR_PROCEDURE() AS ErrorProcedure  ,\r\n",
                "        @LINHAS_INSERT,\r\n",
                "        --@LINHAS_UPDATE,\r\n",
                "        --@LINHAS_DELETE,\r\n",
                "        ERROR_MESSAGE() AS ErrorMessage,\r\n",
                "        @SITUACAO,\r\n",
                "        @PROCESSO,\r\n",
                "        @DATA_INI,\r\n",
                "        @DATA_FIM\r\n",
                "    \r\n",
                "END"
            ],
            "metadata": {
                "language": "sql",
                "azdata_cell_guid": "ad0fb261-4c6a-467f-8f94-ecbf319ee96f"
            },
            "outputs": [
                {
                    "output_type": "display_data",
                    "data": {
                        "text/html": "Commands completed successfully."
                    },
                    "metadata": {}
                },
                {
                    "output_type": "display_data",
                    "data": {
                        "text/html": "Commands completed successfully."
                    },
                    "metadata": {}
                },
                {
                    "output_type": "display_data",
                    "data": {
                        "text/html": "Total execution time: 00:00:00.324"
                    },
                    "metadata": {}
                }
            ],
            "execution_count": 6
        },
        {
            "cell_type": "markdown",
            "source": [
                "**CRIANDO TABELA STAGING PARA RECEBER DADOS BRUTOS**"
            ],
            "metadata": {
                "azdata_cell_guid": "8232cb4d-68cf-4145-9fb9-69f5c3bfc04a"
            },
            "attachments": {}
        },
        {
            "cell_type": "code",
            "source": [
                "USE DW_38\r\n",
                "GO\r\n",
                "\r\n",
                "IF NOT EXISTS (SELECT * FROM sysobjects WHERE NAME='STG_DESPESAS' AND xtype='U')\r\n",
                "\r\n",
                "CREATE TABLE [DW_38].[STAGING].[STG_DESPESAS](\r\n",
                "    [ANO_MES] nvarchar(10),\r\n",
                "    [COD_ORG_SUPERIOR] nvarchar(150),\r\n",
                "    [NOME_ORG_SUPERIOR] nvarchar(150),\r\n",
                "    [COD_ORG_SUBORDINADO] nvarchar(150),\r\n",
                "    [NOME_ORG_SUBORDINADO] nvarchar(150),\r\n",
                "\r\n",
                "    [COD_UNID_GESTORA] nvarchar(150),\r\n",
                "    [NOME_UNID_GESTORA] nvarchar(150),\r\n",
                "    [COD_GESTAO] nvarchar(150),\r\n",
                "    [NOME_GESTAO] nvarchar(150),\r\n",
                "    [COD_UNID_ORCAMENTARIA] nvarchar(150),\r\n",
                "\r\n",
                "    [NOME_UNID_ORCAMENTARIA] nvarchar(150),\r\n",
                "    [COD_FUNCAO] nvarchar(150),\r\n",
                "    [NOME_FUNCAO] nvarchar(150),\r\n",
                "    [COD_SUBFUNCAO] nvarchar(150),\r\n",
                "    [NOME_SUBFUNCAO] nvarchar(150),\r\n",
                "\r\n",
                "    [COD_PROG_ORCAMENTARIO] nvarchar(150),\r\n",
                "    [NOME_PROG_ORCAMENTARIO] nvarchar(150),\r\n",
                "    [COD_ACAO] nvarchar(150),\r\n",
                "    [NOME_ACAO] nvarchar(250),\r\n",
                "    [COD_PLAN_ORCAMENTARIO] nvarchar(150),\r\n",
                "\r\n",
                "    [NOME_PLAN_ORCAMENTARIO] nvarchar(250),\r\n",
                "    [COD_PROG_GOVERNO] nvarchar(150),\r\n",
                "    [NOME_PROG_GOVERNO] nvarchar(250),\r\n",
                "    [UF] nvarchar(50),\r\n",
                "    [MUNICIPIO] nvarchar(150),\r\n",
                "\r\n",
                "    [COD_SUBTITULO] nvarchar(150),\r\n",
                "    [NOME_SUBTITULO] nvarchar(150),\r\n",
                "    [COD_LOCALIZADOR] nvarchar(150),\r\n",
                "    [NOME_LOCALIZADOR] nvarchar(150),\r\n",
                "    [SGL_LOCALIZADOR] nvarchar(150),\r\n",
                "\r\n",
                "    [DESCR_COMP_LOCALIZADOR] nvarchar(150),\r\n",
                "    [COD_AUTOR_EMENDA] nvarchar(150),\r\n",
                "    [NOME_AUTOR_EMENDA] nvarchar(150),\r\n",
                "    [COD_CAT_ECONOMICA] nvarchar(150),\r\n",
                "    [NOME_CAT_ECONOMICA] nvarchar(150),\r\n",
                "\r\n",
                "    [COD_GRP_DESPESA] nvarchar(150),\r\n",
                "    [NOME_GRP_DESPESA] nvarchar(150),\r\n",
                "    [COD_ELEMENTO_DESPESA] nvarchar(150),\r\n",
                "    [NOME_ELEMENTO_DESPESA] nvarchar(150),\r\n",
                "    [COD_MODALIDADE_DESPESA] nvarchar(150),\r\n",
                "\r\n",
                "    [NOME_MODALIDADE_DESPESA] nvarchar(150),\r\n",
                "    [VALOR_EMPENHADO] nvarchar(150),\r\n",
                "    [VALOR_LIQUIDADO] nvarchar(150),\r\n",
                "    [VALOR_PAGO] nvarchar(150),\r\n",
                "    [VALOR_RESTOS_INSCRITOS] nvarchar(150),\r\n",
                "\r\n",
                "    [VALOR_RESTOS_CANCELADOS] nvarchar(150),\r\n",
                "    [VALOR_RESTOS_PAGOS] nvarchar(150)\r\n",
                ") ON [PRIMARY]\r\n",
                "GO"
            ],
            "metadata": {
                "azdata_cell_guid": "eccb9e41-822e-4f52-979d-1e72b4a16955",
                "language": "sql"
            },
            "outputs": [
                {
                    "output_type": "display_data",
                    "data": {
                        "text/html": "Commands completed successfully."
                    },
                    "metadata": {}
                },
                {
                    "output_type": "display_data",
                    "data": {
                        "text/html": "Commands completed successfully."
                    },
                    "metadata": {}
                },
                {
                    "output_type": "display_data",
                    "data": {
                        "text/html": "Total execution time: 00:00:00.321"
                    },
                    "metadata": {}
                }
            ],
            "execution_count": 7
        },
        {
            "cell_type": "markdown",
            "source": [
                "**CARGA BULK OTIMIZADA**"
            ],
            "metadata": {
                "azdata_cell_guid": "984da786-f9f8-477d-b06a-2937d80a4723"
            },
            "attachments": {}
        },
        {
            "cell_type": "code",
            "source": [
                "BULK INSERT STAGING.STG_DESPESAS\r\n",
                "FROM 'C:\\DWE2023\\desafio\\fontes\\202201_Despesas.csv'\r\n",
                "WITH\r\n",
                "(\r\n",
                "\tcodepage='65001', \r\n",
                "    DATAFILETYPE ='char',       \r\n",
                "\tfieldterminator=';',\r\n",
                "    rowterminator='\\n',\r\n",
                "\tmaxerrors=0,\r\n",
                "\tfire_triggers,\r\n",
                "    firstrow=2\r\n",
                ");"
            ],
            "metadata": {
                "language": "sql",
                "azdata_cell_guid": "fe7484d3-07a8-4033-891d-2e551191ba9e"
            },
            "outputs": [
                {
                    "output_type": "display_data",
                    "data": {
                        "text/html": "(37530 rows affected)"
                    },
                    "metadata": {}
                },
                {
                    "output_type": "display_data",
                    "data": {
                        "text/html": "Total execution time: 00:00:03.154"
                    },
                    "metadata": {}
                }
            ],
            "execution_count": 8
        },
        {
            "cell_type": "code",
            "source": [
                "BULK INSERT STAGING.STG_DESPESAS\r\n",
                "FROM 'C:\\DWE2023\\desafio\\fontes\\202202_Despesas.csv'\r\n",
                "WITH\r\n",
                "(\r\n",
                "\tcodepage='65001', \r\n",
                "    DATAFILETYPE ='char',       \r\n",
                "\tfieldterminator=';',\r\n",
                "    rowterminator='\\n',\r\n",
                "\tmaxerrors=0,\r\n",
                "\tfire_triggers,\r\n",
                "    firstrow=2\r\n",
                ");"
            ],
            "metadata": {
                "language": "sql",
                "azdata_cell_guid": "48a2a859-c3f2-474e-a66d-74c21aa31515"
            },
            "outputs": [
                {
                    "output_type": "display_data",
                    "data": {
                        "text/html": "(50987 rows affected)"
                    },
                    "metadata": {}
                },
                {
                    "output_type": "display_data",
                    "data": {
                        "text/html": "Total execution time: 00:00:03.482"
                    },
                    "metadata": {}
                }
            ],
            "execution_count": 9
        },
        {
            "cell_type": "code",
            "source": [
                "BULK INSERT STAGING.STG_DESPESAS\r\n",
                "FROM 'C:\\DWE2023\\desafio\\fontes\\202203_Despesas.csv'\r\n",
                "WITH\r\n",
                "(\r\n",
                "\tcodepage='65001', \r\n",
                "    DATAFILETYPE ='char',       \r\n",
                "\tfieldterminator=';',\r\n",
                "    rowterminator='\\n',\r\n",
                "\tmaxerrors=0,\r\n",
                "\tfire_triggers,\r\n",
                "    firstrow=2\r\n",
                ");"
            ],
            "metadata": {
                "language": "sql",
                "azdata_cell_guid": "00e2539d-b1b4-4d2c-a1ad-8da91d66bd3e"
            },
            "outputs": [
                {
                    "output_type": "display_data",
                    "data": {
                        "text/html": "(57749 rows affected)"
                    },
                    "metadata": {}
                },
                {
                    "output_type": "display_data",
                    "data": {
                        "text/html": "Total execution time: 00:00:05.068"
                    },
                    "metadata": {}
                }
            ],
            "execution_count": 10
        },
        {
            "cell_type": "markdown",
            "source": [
                "**DIMENSÕES IDENTIFICADAS**\n",
                "\n",
                "- **D\\_Org\\_Superior | Tabela dimensão do Órgão Superior ||** \n",
                "    \n",
                "    - SK\\_ORG\\_SUPERIOR | código SK do Órgão Superior || INT, NOT NULL, AUTO INCREMENT\n",
                "    - ID\\_COD | Código de ID do Órgão Superior || INT, NOT NULL \n",
                "    - NOME\\_ORG\\_SUPERIOR | Nome do Órgão Superior || NVARCHAR (150), NOT NULL\n",
                "    - DATA\\_INI | Data de criação do item || DATATIME, NOT NULL\n",
                "    - DATA\\_FIM | Data de desativação do item || DATATIME\n",
                "    - ATIVO | Booleano para o status de ativação do item || BIT\n",
                "- **D\\_Org\\_Subordinado | Tabela dimensão do Órgão Superior ||** \n",
                "    \n",
                "    - SK\\_ORG\\_SUBORDINADO | código SK do Órgão Subordinado|| INT, NOT NULL, AUTO INCREMENT\n",
                "    - ID\\_COD | Código de ID do Órgão Subordinado|| INT, NOT NULL \n",
                "    - NOME\\_ORG\\_SUBORDINADO | Nome do Órgão Subordinado|| NVARCHAR (150), NOT NULL\n",
                "    - DATA\\_INI | Data de criação do item || DATATIME, NOT NULL\n",
                "    - DATA\\_FIM  | Data de desativação do item || DATATIME\n",
                "    - ATIVO | Booleano para o status de ativação do item || BIT\n",
                "- **D\\_Unid\\_Gestora | Tabela dimensão da Unidade Gestora ||** \n",
                "    \n",
                "    - SK\\_UNID\\_GESTORA | código SK da Unidade Gestora || INT, NOT NULL, AUTO INCREMENT\n",
                "    - ID\\_COD | Código de ID da Unidade Gestora || INT, NOT NULL \n",
                "    - NOME\\_UNID\\_GESTORA | Nome da Unidade Gestora || NVARCHAR (150), NOT NULL\n",
                "    - DATA\\_INI | Data de criação do item || DATATIME, NOT NULL\n",
                "    - DATA\\_FIM | Data de desativação do item || DATATIME\n",
                "    - ATIVO | Booleano para o status de ativação do item || BIT\n",
                "- **D\\_Gestao | Tabela dimensão da Gestão ||** \n",
                "    \n",
                "    - SK\\_GESTAO | código SK da Gestão || INT, NOT NULL, AUTO INCREMENT\n",
                "    - ID\\_COD | Código de ID da Gestão || INT, NOT NULL UNIQUE\n",
                "    - NOME\\_GESTAO | Nome da Gestão || NVARCHAR (150), NOT NULL\n",
                "    - DATA\\_INI | Data de criação do item || DATATIME, NOT NULL\n",
                "    - DATA\\_FIM | Data de desativação do item || DATATIME\n",
                "    - ATIVO | Booleano para o status de ativação do item || BIT\n",
                "- **D\\_Grp\\_Despesa | Tabela dimensão do Grupo de Despesa ||** \n",
                "    \n",
                "    - SK\\_GRP\\_DESPESA | código SK do Grupo de Despesa || INT, NOT NULL, AUTO INCREMENT\n",
                "    - ID\\_COD | Código de ID do Grupo de Despesa || INT, NOT NULL \n",
                "    - NOME\\_GRP\\_DESPESA | Nome do Grupo de Despesa || NVARCHAR (150), NOT NULL\n",
                "    - DATA\\_INI | Data de criação do item || DATATIME, NOT NULL\n",
                "    - DATA\\_FIM | Data de desativação do item || DATATIME\n",
                "    - ATIVO | Booleano para o status de ativação do item || BIT\n",
                "\n",
                "**FATO IDENTIFICADAS**\n",
                "\n",
                "- **F\\_Despesa | Tabela fato conforme o pedido para análise das despesas ||** \n",
                "    - SK\\_TRANSACAO | código SK da transação || INT, NOT NULL, AUTO INCREMENT\n",
                "    - SK\\_DATA| Data  || INT, NOT NULL, \n",
                "    - SK\\_ORG\\_SUPERIOR | código SK do Órgão Superior || INT, NOT NULL, , \n",
                "    - SK\\_ORG\\_SUBORDINADO | código SK do Órgão Subordinado || INT, NOT NULL, , \n",
                "    - SK\\_UNID\\_GESTORA | código SK da Unidade Gestora || INT, NOT NULL, , \n",
                "    - SK\\_GESTAO | código SK da Gestão || INT, NOT NULL, , \n",
                "    - SK\\_GRP\\_DESPESA | código SK do Grupo de Despesa || INT, NOT NULL, , \n",
                "    - VALOR\\_EMPENHADO | Valor Empenhado || DECIMAL(15,2), NOT NULL, \n",
                "    - VALOR\\_LIQUIDADO | Valor Liquidado || DECIMAL(15,2), NOT NULL, \n",
                "    - VALOR\\_PAGO | Valor Pago || DECIMAL(15,2), NOT NULL"
            ],
            "metadata": {
                "azdata_cell_guid": "531d5835-d88d-443c-ab04-163a947fed8a"
            },
            "attachments": {}
        },
        {
            "cell_type": "code",
            "source": [
                "USE DW_38\r\n",
                "GO\r\n",
                "\r\n",
                "IF NOT EXISTS (SELECT * FROM sysobjects WHERE name='D_Org_Superior' AND xtype='U')\r\n",
                "-- CRIAÇÃO DA TABELA DIMENSÃO DO ORGÃO SUPERIOR\r\n",
                "CREATE TABLE [DW_38].[SILVER].[D_Org_Superior](\r\n",
                "    [SK_ORG_SUPERIOR] INT IDENTITY(1,1) NOT NULL,\r\n",
                "    [ID_COD] [INT] NOT NULL,\r\n",
                "    [NOME_ORG_SUPERIOR] NVARCHAR(150) NOT NULL,\r\n",
                "    [DATA_INI] DATETIME NOT NULL,\r\n",
                "    [DATA_FIM] DATETIME,\r\n",
                "    [ATIVO] BIT\r\n",
                "    PRIMARY KEY CLUSTERED(\r\n",
                "        [SK_ORG_SUPERIOR] ASC\r\n",
                "    ) WITH (PAD_INDEX = OFF, STATISTICS_NORECOMPUTE = OFF, IGNORE_DUP_KEY = OFF, ALLOW_ROW_LOCKS = ON, ALLOW_PAGE_LOCKS = ON, OPTIMIZE_FOR_SEQUENTIAL_KEY = OFF) ON [PRIMARY]\r\n",
                ") ON [PRIMARY]\r\n",
                "GO\r\n",
                "\r\n",
                "IF NOT EXISTS (SELECT * FROM sysobjects WHERE name='D_Org_Subordinado' AND xtype='U')\r\n",
                "-- CRIAÇÃO DA TABELA DIMENSÃO DO ORGÃO SUBORDINADO\r\n",
                "CREATE TABLE [DW_38].[SILVER].[D_Org_Subordinado](\r\n",
                "    [SK_ORG_SUBORDINADO] INT IDENTITY(1,1) NOT NULL,\r\n",
                "    [ID_COD] [INT] NOT NULL ,\r\n",
                "    [NOME_ORG_SUBORDINADO] NVARCHAR(150) NOT NULL,\r\n",
                "    [DATA_INI] DATETIME,\r\n",
                "    [DATA_FIM] DATETIME,\r\n",
                "    [ATIVO] BIT\r\n",
                "    PRIMARY KEY CLUSTERED( [SK_ORG_SUBORDINADO] ASC)\r\n",
                "        WITH (PAD_INDEX = OFF, STATISTICS_NORECOMPUTE = OFF, IGNORE_DUP_KEY = OFF, ALLOW_ROW_LOCKS = ON, ALLOW_PAGE_LOCKS = ON, OPTIMIZE_FOR_SEQUENTIAL_KEY = OFF) ON [PRIMARY]\r\n",
                ") ON [PRIMARY]\r\n",
                "GO\r\n",
                "\r\n",
                "IF NOT EXISTS (SELECT * FROM sysobjects WHERE name='D_Unid_Gestora' AND xtype='U')\r\n",
                "\r\n",
                "-- CRIAÇÃO DA TABELA DIMENSÃO DA UNIDADE GESTORA\r\n",
                "CREATE TABLE [DW_38].[SILVER].[D_Unid_Gestora](\r\n",
                "    [SK_UNID_GESTORA] INT IDENTITY(1,1) NOT NULL,\r\n",
                "    [ID_COD] [INT] NOT NULL ,\r\n",
                "    [NOME_UNID_GESTORA] NVARCHAR(250) NOT NULL,\r\n",
                "    [DATA_INI] DATETIME,\r\n",
                "    [DATA_FIM] DATETIME,\r\n",
                "    [ATIVO] BIT\r\n",
                "    PRIMARY KEY CLUSTERED( [SK_UNID_GESTORA] ASC)\r\n",
                "        WITH (PAD_INDEX = OFF, STATISTICS_NORECOMPUTE = OFF, IGNORE_DUP_KEY = OFF, ALLOW_ROW_LOCKS = ON, ALLOW_PAGE_LOCKS = ON, OPTIMIZE_FOR_SEQUENTIAL_KEY = OFF) ON [PRIMARY]\r\n",
                ") ON [PRIMARY]\r\n",
                "GO\r\n",
                "\r\n",
                "IF NOT EXISTS (SELECT * FROM sysobjects WHERE name='D_Gestao' AND xtype='U')\r\n",
                "\r\n",
                "-- CRIAÇÃO DA TABELA DIMENSÃO DA GESTAO\r\n",
                "CREATE TABLE [DW_38].[SILVER].[D_Gestao](\r\n",
                "    [SK_GESTAO] INT IDENTITY(1,1) NOT NULL,\r\n",
                "    [ID_COD] [INT] NOT NULL ,\r\n",
                "    [NOME_GESTAO] NVARCHAR(150) NOT NULL,\r\n",
                "    [DATA_INI] DATETIME,\r\n",
                "    [DATA_FIM] DATETIME,\r\n",
                "    [ATIVO] BIT\r\n",
                "    PRIMARY KEY CLUSTERED( [SK_GESTAO] ASC)\r\n",
                "        WITH (PAD_INDEX = OFF, STATISTICS_NORECOMPUTE = OFF, IGNORE_DUP_KEY = OFF, ALLOW_ROW_LOCKS = ON, ALLOW_PAGE_LOCKS = ON, OPTIMIZE_FOR_SEQUENTIAL_KEY = OFF) ON [PRIMARY]\r\n",
                ") ON [PRIMARY]\r\n",
                "GO\r\n",
                "\r\n",
                "IF NOT EXISTS (SELECT * FROM sysobjects WHERE name='D_Grp_Despesa' AND xtype='U')\r\n",
                "\r\n",
                "-- CRIAÇÃO DA TABELA DIMENSÃO DO GRUPO DE DESPESA\r\n",
                "CREATE TABLE [DW_38].[SILVER].[D_Grp_Despesa](\r\n",
                "    [SK_GRP_DESPESA] INT IDENTITY(1,1) NOT NULL,\r\n",
                "    [ID_COD] [INT] NOT NULL ,\r\n",
                "    [NOME_GRP_DESPESA] NVARCHAR(150) NOT NULL,\r\n",
                "    [DATA_INI] DATETIME,\r\n",
                "    [DATA_FIM] DATETIME,\r\n",
                "    [ATIVO] BIT\r\n",
                "    PRIMARY KEY CLUSTERED( [SK_GRP_DESPESA] ASC)\r\n",
                "        WITH (PAD_INDEX = OFF, STATISTICS_NORECOMPUTE = OFF, IGNORE_DUP_KEY = OFF, ALLOW_ROW_LOCKS = ON, ALLOW_PAGE_LOCKS = ON, OPTIMIZE_FOR_SEQUENTIAL_KEY = OFF) ON [PRIMARY]\r\n",
                ") ON [PRIMARY]\r\n",
                "GO"
            ],
            "metadata": {
                "azdata_cell_guid": "d4858de2-d799-4db3-8fdb-db2d482cb836",
                "language": "sql"
            },
            "outputs": [
                {
                    "output_type": "display_data",
                    "data": {
                        "text/html": "Commands completed successfully."
                    },
                    "metadata": {}
                },
                {
                    "output_type": "display_data",
                    "data": {
                        "text/html": "Commands completed successfully."
                    },
                    "metadata": {}
                },
                {
                    "output_type": "display_data",
                    "data": {
                        "text/html": "Commands completed successfully."
                    },
                    "metadata": {}
                },
                {
                    "output_type": "display_data",
                    "data": {
                        "text/html": "Commands completed successfully."
                    },
                    "metadata": {}
                },
                {
                    "output_type": "display_data",
                    "data": {
                        "text/html": "Commands completed successfully."
                    },
                    "metadata": {}
                },
                {
                    "output_type": "display_data",
                    "data": {
                        "text/html": "Commands completed successfully."
                    },
                    "metadata": {}
                },
                {
                    "output_type": "display_data",
                    "data": {
                        "text/html": "Total execution time: 00:00:00.990"
                    },
                    "metadata": {}
                }
            ],
            "execution_count": 11
        },
        {
            "cell_type": "markdown",
            "source": [
                "**Carga Dimensao** D\\_Org\\_Superior"
            ],
            "metadata": {
                "language": "sql",
                "azdata_cell_guid": "8075af63-9f31-41bb-913f-707b37d75a1f"
            },
            "attachments": {}
        },
        {
            "cell_type": "code",
            "source": [
                "USE DW_38\r\n",
                "GO\r\n",
                "DECLARE @LINHAS_INSERT INT\r\n",
                "DECLARE @LINHAS_UPDATE INT\r\n",
                "DECLARE @CONTA_LINHAS INT\r\n",
                "DECLARE @VDATA_INI DATETIME\r\n",
                "DECLARE @VDATA_FIM DATETIME\r\n",
                "DECLARE @VPROCESSO VARCHAR(50)\r\n",
                "    \r\n",
                "BEGIN TRANSACTION\r\n",
                "    BEGIN TRY\r\n",
                "--2 Atribuido valor as variáveis\r\n",
                "SET @CONTA_LINHAS=0\r\n",
                "SET @LINHAS_INSERT=0\r\n",
                "SET @VDATA_INI= GETDATE();\r\n",
                "SET @VPROCESSO='CARGA DIMENSÃO ORGÃO SUPERIOR'\r\n",
                "\r\n",
                "\r\n",
                "-- INICIA MERGE\r\n",
                "INSERT INTO [DW_38].[SILVER].[D_Org_Superior](ID_COD, NOME_ORG_SUPERIOR, DATA_INI, DATA_FIM, ATIVO)\r\n",
                "SELECT ID_COD, NOME_ORG_SUPERIOR, DATA_INI, DATA_FIM, ATIVO\r\n",
                "FROM (\r\n",
                "    MERGE [DW_38].[SILVER].[D_Org_Superior] AS DESTINO \r\n",
                "    \r\n",
                "    USING (\r\n",
                "        SELECT DISTINCT COD_ORG_SUPERIOR, NOME_ORG_SUPERIOR\r\n",
                "        FROM [DW_38].[STAGING].[STG_DESPESAS] \r\n",
                "        WHERE COD_ORG_SUPERIOR IS NOT NULL \r\n",
                "            AND NOME_ORG_SUPERIOR IS NOT NULL\r\n",
                "    ) AS ORIGEM\r\n",
                "    \r\n",
                "    ON DESTINO.[ID_COD] = ORIGEM.[COD_ORG_SUPERIOR]\r\n",
                "        WHEN MATCHED \r\n",
                "            AND (DESTINO.NOME_ORG_SUPERIOR <> ORIGEM.NOME_ORG_SUPERIOR)\r\n",
                "            AND DESTINO.ATIVO=1\r\n",
                "        THEN\r\n",
                "            UPDATE SET DESTINO.DATA_FIM = GETDATE(), DESTINO.ATIVO=0 \r\n",
                "            \r\n",
                "        WHEN NOT MATCHED\r\n",
                "        THEN\r\n",
                "            INSERT (ID_COD, NOME_ORG_SUPERIOR, DATA_INI, DATA_FIM, ATIVO) VALUES (ORIGEM.COD_ORG_SUPERIOR, ORIGEM.NOME_ORG_SUPERIOR, GETDATE(), NULL, 1)\r\n",
                "        OUTPUT $action,\r\n",
                "            ORIGEM.COD_ORG_SUPERIOR,\r\n",
                "            ORIGEM.NOME_ORG_SUPERIOR,\r\n",
                "            GETDATE(),\r\n",
                "            NULL,\r\n",
                "            1\r\n",
                ")\r\n",
                "as changes\r\n",
                "(\r\n",
                "    action,\r\n",
                "    ID_COD,\r\n",
                "    NOME_ORG_SUPERIOR,\r\n",
                "    DATA_INI,\r\n",
                "    DATA_FIM,\r\n",
                "    ATIVO\r\n",
                ")\r\n",
                "WHERE ACTION='UPDATE';\r\n",
                "-- FIM MERGE\r\n",
                "\r\n",
                "-- CONTA LINHAS INSERIDAS    \r\n",
                "SET @LINHAS_INSERT=@@ROWCOUNT\r\n",
                "    \r\n",
                "SET @VDATA_FIM=GETDATE()\r\n",
                "--7 Executa a procedure de Log\r\n",
                "EXECUTE SP_INSERT_LOG_CHALLENGE     \r\n",
                "    @LINHAS_INSERT,  --INSERT\r\n",
                "    'SUCESSO',\r\n",
                "    @VPROCESSO,\r\n",
                "    @VDATA_INI,\r\n",
                "    @VDATA_FIM\r\n",
                "--8  Executa o Committ\r\n",
                "IF @@TRANCOUNT > 0\r\n",
                "        COMMIT TRANSACTION;\r\n",
                "\r\n",
                "--Fim try\r\n",
                "END TRY\r\n",
                "--\r\n",
                "BEGIN CATCH\r\n",
                "-- GRAVA LOG DE ERRO\r\n",
                "    IF @@TRANCOUNT > 0\r\n",
                "        ROLLBACK TRANSACTION\r\n",
                "SET @VDATA_FIM=GETDATE()\r\n",
                "EXECUTE SP_INSERT_LOG_CHALLENGE \r\n",
                "    @LINHAS_INSERT,  --INSERT\r\n",
                "    'ERRO',\r\n",
                "    @VPROCESSO,\r\n",
                "    @VDATA_INI,\r\n",
                "    @VDATA_FIM\r\n",
                "\r\n",
                "END CATCH"
            ],
            "metadata": {
                "language": "sql",
                "azdata_cell_guid": "4fe48131-a430-4b72-8fe9-83c34033fb0b"
            },
            "outputs": [
                {
                    "output_type": "display_data",
                    "data": {
                        "text/html": "Commands completed successfully."
                    },
                    "metadata": {}
                },
                {
                    "output_type": "display_data",
                    "data": {
                        "text/html": "(0 rows affected)"
                    },
                    "metadata": {}
                },
                {
                    "output_type": "display_data",
                    "data": {
                        "text/html": "Total execution time: 00:00:00.623"
                    },
                    "metadata": {}
                }
            ],
            "execution_count": 12
        },
        {
            "cell_type": "markdown",
            "source": [
                "**Carga Dimensao** D\\_Org\\_Subordinado"
            ],
            "metadata": {
                "azdata_cell_guid": "e24535b2-c08b-4e7e-b826-1403a61573a5"
            },
            "attachments": {}
        },
        {
            "cell_type": "code",
            "source": [
                "USE DW_38\r\n",
                "GO\r\n",
                "DECLARE @LINHAS_INSERT INT\r\n",
                "DECLARE @LINHAS_UPDATE INT\r\n",
                "DECLARE @CONTA_LINHAS INT\r\n",
                "DECLARE @VDATA_INI DATETIME\r\n",
                "DECLARE @VDATA_FIM DATETIME\r\n",
                "DECLARE @VPROCESSO VARCHAR(50)\r\n",
                "    \r\n",
                "BEGIN TRANSACTION\r\n",
                "    BEGIN TRY\r\n",
                "--2 Atribuido valor as variáveis\r\n",
                "SET @CONTA_LINHAS=0\r\n",
                "SET @LINHAS_INSERT=0\r\n",
                "SET @VDATA_INI= GETDATE();\r\n",
                "SET @VPROCESSO='CARGA DIMENSAO ORG SUBORDINADO'\r\n",
                "\r\n",
                "\r\n",
                "-- INICIA MERGE\r\n",
                "INSERT INTO [DW_38].[SILVER].[D_Org_Subordinado](ID_COD, NOME_ORG_SUBORDINADO, DATA_INI, DATA_FIM, ATIVO)\r\n",
                "SELECT ID_COD, NOME_ORG_SUBORDINADO, DATA_INI, DATA_FIM, ATIVO\r\n",
                "FROM (\r\n",
                "    MERGE [DW_38].[SILVER].[D_Org_Subordinado] AS DESTINO \r\n",
                "    \r\n",
                "    USING (\r\n",
                "        SELECT DISTINCT COD_ORG_SUBORDINADO, NOME_ORG_SUBORDINADO \r\n",
                "        FROM [DW_38].[STAGING].[STG_DESPESAS] \r\n",
                "        WHERE COD_ORG_SUBORDINADO IS NOT NULL \r\n",
                "            AND NOME_ORG_SUBORDINADO IS NOT NULL\r\n",
                "    ) AS ORIGEM\r\n",
                "        \r\n",
                "    \r\n",
                "    ON DESTINO.[ID_COD] = ORIGEM.[COD_ORG_SUBORDINADO]\r\n",
                "        WHEN MATCHED \r\n",
                "            AND (DESTINO.NOME_ORG_SUBORDINADO <> ORIGEM.NOME_ORG_SUBORDINADO)\r\n",
                "            AND DESTINO.ATIVO=1\r\n",
                "        THEN\r\n",
                "            UPDATE SET DESTINO.DATA_FIM = GETDATE(), DESTINO.ATIVO=0\r\n",
                "\r\n",
                "        WHEN NOT MATCHED\r\n",
                "        THEN\r\n",
                "            INSERT (ID_COD, NOME_ORG_SUBORDINADO, DATA_INI, DATA_FIM, ATIVO) VALUES (ORIGEM.COD_ORG_SUBORDINADO, ORIGEM.NOME_ORG_SUBORDINADO, GETDATE(), NULL, 1)\r\n",
                "        OUTPUT $action,\r\n",
                "            ORIGEM.COD_ORG_SUBORDINADO,\r\n",
                "            ORIGEM.NOME_ORG_SUBORDINADO,\r\n",
                "            GETDATE(),\r\n",
                "            NULL,\r\n",
                "            1\r\n",
                "            \r\n",
                ")\r\n",
                "\r\n",
                "as changes\r\n",
                "(\r\n",
                "    action,\r\n",
                "    ID_COD,\r\n",
                "    NOME_ORG_SUBORDINADO,\r\n",
                "    DATA_INI,\r\n",
                "    DATA_FIM,\r\n",
                "    ATIVO\r\n",
                "   \r\n",
                ")\r\n",
                "WHERE ACTION='UPDATE';\r\n",
                "\r\n",
                "\r\n",
                "-- FIM MERGE\r\n",
                "\r\n",
                "-- CONTA LINHAS INSERIDAS    \r\n",
                "SET @LINHAS_INSERT=@@ROWCOUNT\r\n",
                "SELECT @@ROWCOUNT    \r\n",
                "SET @VDATA_FIM=GETDATE()\r\n",
                "--7 Executa a procedure de Log\r\n",
                "EXECUTE SP_INSERT_LOG_CHALLENGE     \r\n",
                "    @LINHAS_INSERT,  --INSERT\r\n",
                "    'SUCESSO',\r\n",
                "    @VPROCESSO,\r\n",
                "    @VDATA_INI,\r\n",
                "    @VDATA_FIM\r\n",
                "--8  Executa o Committ\r\n",
                "IF @@TRANCOUNT > 0\r\n",
                "    COMMIT TRANSACTION;\r\n",
                "\r\n",
                "--Fim try\r\n",
                "END TRY\r\n",
                "--\r\n",
                "BEGIN CATCH\r\n",
                "-- GRAVA LOG DE ERRO\r\n",
                "    IF @@TRANCOUNT > 0\r\n",
                "        ROLLBACK TRANSACTION\r\n",
                "SET @VDATA_FIM=GETDATE()\r\n",
                "EXECUTE SP_INSERT_LOG_CHALLENGE \r\n",
                "    @LINHAS_INSERT,  --INSERT\r\n",
                "    'ERRO',\r\n",
                "    @VPROCESSO,\r\n",
                "    @VDATA_INI,\r\n",
                "    @VDATA_FIM\r\n",
                "\r\n",
                "END CATCH"
            ],
            "metadata": {
                "azdata_cell_guid": "465a9821-30a6-465f-8b9c-7546101f1dba",
                "language": "sql",
                "tags": []
            },
            "outputs": [
                {
                    "output_type": "display_data",
                    "data": {
                        "text/html": "Commands completed successfully."
                    },
                    "metadata": {}
                },
                {
                    "output_type": "display_data",
                    "data": {
                        "text/html": "(0 rows affected)"
                    },
                    "metadata": {}
                },
                {
                    "output_type": "display_data",
                    "data": {
                        "text/html": "Total execution time: 00:00:00.619"
                    },
                    "metadata": {}
                }
            ],
            "execution_count": 13
        },
        {
            "cell_type": "markdown",
            "source": [
                "**Carga Dimensao** UNIDADE GESTORIA"
            ],
            "metadata": {
                "azdata_cell_guid": "dd09feb0-8d22-4374-86cf-8cbaea8c15fe"
            },
            "attachments": {}
        },
        {
            "cell_type": "code",
            "source": [
                "USE DW_38\r\n",
                "GO\r\n",
                "DECLARE @LINHAS_INSERT INT\r\n",
                "DECLARE @LINHAS_UPDATE INT\r\n",
                "DECLARE @CONTA_LINHAS INT\r\n",
                "DECLARE @VDATA_INI DATETIME\r\n",
                "DECLARE @VDATA_FIM DATETIME\r\n",
                "DECLARE @VPROCESSO VARCHAR(50)\r\n",
                "    \r\n",
                "BEGIN TRANSACTION\r\n",
                "    BEGIN TRY\r\n",
                "--2 Atribuido valor as variáveis\r\n",
                "SET @CONTA_LINHAS=0\r\n",
                "SET @LINHAS_INSERT=0\r\n",
                "SET @VDATA_INI= GETDATE();\r\n",
                "SET @VPROCESSO='CARGA DIMENSÃO UNIDADE GESTORA'\r\n",
                "\r\n",
                "-- INICIA MERGE\r\n",
                "INSERT INTO [DW_38].[SILVER].[D_Unid_Gestora](ID_COD, NOME_UNID_GESTORA, DATA_INI, DATA_FIM, ATIVO)\r\n",
                "SELECT ID_COD, NOME_UNID_GESTORA, DATA_INI, DATA_FIM, ATIVO\r\n",
                "FROM (\r\n",
                "    MERGE [DW_38].[SILVER].[D_Unid_Gestora] AS DESTINO \r\n",
                "    \r\n",
                "    USING (\r\n",
                "        SELECT DISTINCT COD_UNID_GESTORA, NOME_UNID_GESTORA FROM [DW_38].[STAGING].[STG_DESPESAS]\r\n",
                "        WHERE HASHBYTES('SHA2_256',CONCAT(COD_UNID_GESTORA, NOME_UNID_GESTORA)) NOT IN (SELECT \r\n",
                "        HASHBYTES('SHA2_256',CONCAT(ID_COD, NOME_UNID_GESTORA)) FROM [DW_38].[SILVER].[D_Unid_Gestora] )\r\n",
                "    ) AS ORIGEM\r\n",
                "    \r\n",
                "    ON DESTINO.[ID_COD] = ORIGEM.[COD_UNID_GESTORA]\r\n",
                "        WHEN MATCHED \r\n",
                "            AND (DESTINO.NOME_UNID_GESTORA <> ORIGEM.NOME_UNID_GESTORA)\r\n",
                "            AND DESTINO.ATIVO=1\r\n",
                "        THEN\r\n",
                "            UPDATE SET DESTINO.DATA_FIM = GETDATE(),DESTINO.ATIVO=0\r\n",
                "\r\n",
                "        WHEN NOT MATCHED\r\n",
                "        THEN\r\n",
                "            INSERT (ID_COD, NOME_UNID_GESTORA, DATA_INI, DATA_FIM, ATIVO) VALUES (ORIGEM.COD_UNID_GESTORA, ORIGEM.NOME_UNID_GESTORA, GETDATE(), NULL, 1)\r\n",
                "        OUTPUT $action,\r\n",
                "            ORIGEM.COD_UNID_GESTORA,\r\n",
                "            ORIGEM.NOME_UNID_GESTORA,\r\n",
                "            GETDATE(),\r\n",
                "            NULL,\r\n",
                "            1\r\n",
                ")\r\n",
                "as changes\r\n",
                "(\r\n",
                "    action,\r\n",
                "    ID_COD,\r\n",
                "    NOME_UNID_GESTORA,\r\n",
                "    DATA_INI,\r\n",
                "    DATA_FIM,\r\n",
                "    ATIVO\r\n",
                ")\r\n",
                "WHERE ACTION='UPDATE';\r\n",
                "-- FIM MERGE\r\n",
                "\r\n",
                "-- CONTA LINHAS INSERIDAS    \r\n",
                "SET @LINHAS_INSERT=@@ROWCOUNT\r\n",
                "    \r\n",
                "SET @VDATA_FIM=GETDATE()\r\n",
                "--7 Executa a procedure de Log\r\n",
                "EXECUTE SP_INSERT_LOG_CHALLENGE     \r\n",
                "    @LINHAS_INSERT,  --INSERT\r\n",
                "    'SUCESSO',\r\n",
                "    @VPROCESSO,\r\n",
                "    @VDATA_INI,\r\n",
                "    @VDATA_FIM\r\n",
                "--8  Executa o Committ\r\n",
                "IF @@TRANCOUNT > 0\r\n",
                "        COMMIT TRANSACTION;\r\n",
                "\r\n",
                "--Fim try\r\n",
                "END TRY\r\n",
                "--\r\n",
                "BEGIN CATCH\r\n",
                "-- GRAVA LOG DE ERRO\r\n",
                "    IF @@TRANCOUNT > 0\r\n",
                "        ROLLBACK TRANSACTION\r\n",
                "SET @VDATA_FIM=GETDATE()\r\n",
                "EXECUTE SP_INSERT_LOG_CHALLENGE \r\n",
                "    @LINHAS_INSERT,  --INSERT\r\n",
                "    'ERRO',\r\n",
                "    @VPROCESSO,\r\n",
                "    @VDATA_INI,\r\n",
                "    @VDATA_FIM\r\n",
                "\r\n",
                "END CATCH"
            ],
            "metadata": {
                "azdata_cell_guid": "4329aff4-bf7b-4703-af4f-98f77c238301",
                "language": "sql"
            },
            "outputs": [
                {
                    "output_type": "display_data",
                    "data": {
                        "text/html": "Commands completed successfully."
                    },
                    "metadata": {}
                },
                {
                    "output_type": "display_data",
                    "data": {
                        "text/html": "(0 rows affected)"
                    },
                    "metadata": {}
                },
                {
                    "output_type": "display_data",
                    "data": {
                        "text/html": "Total execution time: 00:00:01.076"
                    },
                    "metadata": {}
                }
            ],
            "execution_count": 14
        },
        {
            "cell_type": "markdown",
            "source": [
                "**Carga Dimensao** GESTÃO"
            ],
            "metadata": {
                "azdata_cell_guid": "3b936b1b-852f-4223-b636-d63544117d02"
            },
            "attachments": {}
        },
        {
            "cell_type": "code",
            "source": [
                "USE DW_38\r\n",
                "GO\r\n",
                "DECLARE @LINHAS_INSERT INT\r\n",
                "DECLARE @LINHAS_UPDATE INT\r\n",
                "DECLARE @CONTA_LINHAS INT\r\n",
                "DECLARE @VDATA_INI DATETIME\r\n",
                "DECLARE @VDATA_FIM DATETIME\r\n",
                "DECLARE @VPROCESSO VARCHAR(50)\r\n",
                "    \r\n",
                "BEGIN TRANSACTION\r\n",
                "    BEGIN TRY\r\n",
                "--2 Atribuido valor as variáveis\r\n",
                "SET @CONTA_LINHAS=0\r\n",
                "SET @LINHAS_INSERT=0\r\n",
                "SET @VDATA_INI= GETDATE();\r\n",
                "SET @VPROCESSO='CARGA DIMENSÃO GESTÃO'\r\n",
                "\r\n",
                "-- INICIA MERGE\r\n",
                "INSERT INTO [DW_38].[SILVER].[D_Gestao](ID_COD, NOME_GESTAO, DATA_INI, DATA_FIM, ATIVO)\r\n",
                "SELECT ID_COD, NOME_GESTAO, DATA_INI, DATA_FIM, ATIVO\r\n",
                "FROM (\r\n",
                "    MERGE [DW_38].[SILVER].[D_Gestao] AS DESTINO \r\n",
                "    \r\n",
                "    USING (\r\n",
                "        SELECT DISTINCT COD_GESTAO, NOME_GESTAO\r\n",
                "        FROM [DW_38].[STAGING].[STG_DESPESAS] \r\n",
                "        WHERE COD_GESTAO IS NOT NULL \r\n",
                "            AND NOME_GESTAO IS NOT NULL\r\n",
                "    ) AS ORIGEM\r\n",
                "    \r\n",
                "    ON DESTINO.[ID_COD] = ORIGEM.[COD_GESTAO]\r\n",
                "        WHEN MATCHED \r\n",
                "            AND (DESTINO.NOME_GESTAO <> ORIGEM.NOME_GESTAO)\r\n",
                "            AND DESTINO.ATIVO=1\r\n",
                "        THEN\r\n",
                "            UPDATE SET DESTINO.DATA_FIM = GETDATE(), DESTINO.ATIVO=0\r\n",
                "\r\n",
                "        WHEN NOT MATCHED\r\n",
                "        THEN\r\n",
                "            INSERT (ID_COD, NOME_GESTAO, DATA_INI, DATA_FIM, ATIVO) VALUES (ORIGEM.COD_GESTAO, ORIGEM.NOME_GESTAO, GETDATE(), NULL, 1)\r\n",
                "        OUTPUT $action,\r\n",
                "            ORIGEM.COD_GESTAO,\r\n",
                "            ORIGEM.NOME_GESTAO,\r\n",
                "            GETDATE(),\r\n",
                "            NULL,\r\n",
                "            1\r\n",
                ")\r\n",
                "as changes\r\n",
                "(\r\n",
                "    action,\r\n",
                "    ID_COD,\r\n",
                "    NOME_GESTAO,\r\n",
                "    DATA_INI,\r\n",
                "    DATA_FIM,\r\n",
                "    ATIVO\r\n",
                ")\r\n",
                "WHERE ACTION='UPDATE';\r\n",
                "-- FIM DO MERGE\r\n",
                "\r\n",
                "SET @LINHAS_INSERT=@@ROWCOUNT\r\n",
                "    \r\n",
                "SET @VDATA_FIM=GETDATE()\r\n",
                "--7 Executa a procedure de Log\r\n",
                "EXECUTE SP_INSERT_LOG_CHALLENGE     \r\n",
                "    @LINHAS_INSERT,  --INSERT\r\n",
                "    'SUCESSO',\r\n",
                "    @VPROCESSO,\r\n",
                "    @VDATA_INI,\r\n",
                "    @VDATA_FIM\r\n",
                "--8  Executa o Committ\r\n",
                "IF @@TRANCOUNT > 0\r\n",
                "        COMMIT TRANSACTION;\r\n",
                "\r\n",
                "--Fim try\r\n",
                "END TRY\r\n",
                "--\r\n",
                "BEGIN CATCH\r\n",
                "-- GRAVA LOG DE ERRO\r\n",
                "    IF @@TRANCOUNT > 0\r\n",
                "        ROLLBACK TRANSACTION\r\n",
                "SET @VDATA_FIM=GETDATE()\r\n",
                "EXECUTE SP_INSERT_LOG_CHALLENGE \r\n",
                "    @LINHAS_INSERT,  --INSERT\r\n",
                "    'ERRO',\r\n",
                "    @VPROCESSO,\r\n",
                "    @VDATA_INI,\r\n",
                "    @VDATA_FIM\r\n",
                "\r\n",
                "END CATCH"
            ],
            "metadata": {
                "azdata_cell_guid": "9eb832c8-ec4e-4597-9e5b-763d5d618b62",
                "language": "sql"
            },
            "outputs": [
                {
                    "output_type": "display_data",
                    "data": {
                        "text/html": "Commands completed successfully."
                    },
                    "metadata": {}
                },
                {
                    "output_type": "display_data",
                    "data": {
                        "text/html": "(0 rows affected)"
                    },
                    "metadata": {}
                },
                {
                    "output_type": "display_data",
                    "data": {
                        "text/html": "Total execution time: 00:00:00.595"
                    },
                    "metadata": {}
                }
            ],
            "execution_count": 15
        },
        {
            "cell_type": "markdown",
            "source": [
                "**Carga Dimensao** D\\_Grp\\_Despesa"
            ],
            "metadata": {
                "azdata_cell_guid": "8b05498a-9fde-4d3a-9612-24824c9601d1"
            },
            "attachments": {}
        },
        {
            "cell_type": "code",
            "source": [
                "USE DW_38\r\n",
                "GO\r\n",
                "DECLARE @LINHAS_INSERT INT\r\n",
                "DECLARE @LINHAS_UPDATE INT\r\n",
                "DECLARE @CONTA_LINHAS INT\r\n",
                "DECLARE @VDATA_INI DATETIME\r\n",
                "DECLARE @VDATA_FIM DATETIME\r\n",
                "DECLARE @VPROCESSO VARCHAR(50)\r\n",
                "    \r\n",
                "BEGIN TRANSACTION\r\n",
                "    BEGIN TRY\r\n",
                "--2 Atribuido valor as variáveis\r\n",
                "SET @CONTA_LINHAS=0\r\n",
                "SET @LINHAS_INSERT=0\r\n",
                "SET @VDATA_INI= GETDATE();\r\n",
                "SET @VPROCESSO='CARGA DIMENSÃO GRUPO DE DESPESA'\r\n",
                "\r\n",
                "-- INICIA MERGE\r\n",
                "INSERT INTO [DW_38].[SILVER].[D_Grp_Despesa](ID_COD, NOME_GRP_DESPESA, DATA_INI, DATA_FIM, ATIVO)\r\n",
                "SELECT ID_COD, NOME_GRP_DESPESA, DATA_INI, DATA_FIM, ATIVO\r\n",
                "FROM (\r\n",
                "    MERGE [DW_38].[SILVER].[D_Grp_Despesa] AS DESTINO \r\n",
                "    \r\n",
                "    USING (\r\n",
                "        SELECT DISTINCT COD_GRP_DESPESA, NOME_GRP_DESPESA\r\n",
                "        FROM [DW_38].[STAGING].[STG_DESPESAS] \r\n",
                "        WHERE COD_GRP_DESPESA IS NOT NULL \r\n",
                "            AND NOME_GRP_DESPESA IS NOT NULL\r\n",
                "    ) AS ORIGEM\r\n",
                "    \r\n",
                "    ON DESTINO.[ID_COD] = ORIGEM.[COD_GRP_DESPESA]\r\n",
                "        WHEN MATCHED \r\n",
                "            AND (DESTINO.NOME_GRP_DESPESA <> ORIGEM.NOME_GRP_DESPESA)\r\n",
                "            AND DESTINO.ATIVO=1\r\n",
                "        THEN\r\n",
                "            UPDATE SET DESTINO.DATA_FIM = GETDATE(), DESTINO.ATIVO=0\r\n",
                "\r\n",
                "        WHEN NOT MATCHED\r\n",
                "        THEN\r\n",
                "            INSERT (ID_COD, NOME_GRP_DESPESA, DATA_INI, DATA_FIM, ATIVO) VALUES (ORIGEM.COD_GRP_DESPESA, ORIGEM.NOME_GRP_DESPESA, GETDATE(), NULL, 1)\r\n",
                "        OUTPUT $action,\r\n",
                "            ORIGEM.COD_GRP_DESPESA,\r\n",
                "            ORIGEM.NOME_GRP_DESPESA,\r\n",
                "            GETDATE(),\r\n",
                "            NULL,\r\n",
                "            1\r\n",
                ")\r\n",
                "\r\n",
                "as changes\r\n",
                "(\r\n",
                "    action,\r\n",
                "    ID_COD,\r\n",
                "    NOME_GRP_DESPESA,\r\n",
                "    DATA_INI,\r\n",
                "    DATA_FIM,\r\n",
                "    ATIVO\r\n",
                ")\r\n",
                "WHERE ACTION='UPDATE';\r\n",
                "-- TERMINA MERGE\r\n",
                "\r\n",
                "SET @LINHAS_INSERT=@@ROWCOUNT\r\n",
                "    \r\n",
                "SET @VDATA_FIM=GETDATE()\r\n",
                "--7 Executa a procedure de Log\r\n",
                "EXECUTE SP_INSERT_LOG_CHALLENGE     \r\n",
                "    @LINHAS_INSERT,  --INSERT\r\n",
                "    'SUCESSO',\r\n",
                "    @VPROCESSO,\r\n",
                "    @VDATA_INI,\r\n",
                "    @VDATA_FIM\r\n",
                "--8  Executa o Committ\r\n",
                "IF @@TRANCOUNT > 0\r\n",
                "        COMMIT TRANSACTION;\r\n",
                "\r\n",
                "--Fim try\r\n",
                "END TRY\r\n",
                "--\r\n",
                "BEGIN CATCH\r\n",
                "-- GRAVA LOG DE ERRO\r\n",
                "    IF @@TRANCOUNT > 0\r\n",
                "        ROLLBACK TRANSACTION\r\n",
                "SET @VDATA_FIM=GETDATE()\r\n",
                "EXECUTE SP_INSERT_LOG_CHALLENGE \r\n",
                "    @LINHAS_INSERT,  --INSERT\r\n",
                "    'ERRO',\r\n",
                "    @VPROCESSO,\r\n",
                "    @VDATA_INI,\r\n",
                "    @VDATA_FIM\r\n",
                "\r\n",
                "END CATCH"
            ],
            "metadata": {
                "azdata_cell_guid": "2c5c78f2-b593-4353-843d-92afb8dedf6c",
                "language": "sql"
            },
            "outputs": [
                {
                    "output_type": "display_data",
                    "data": {
                        "text/html": "Commands completed successfully."
                    },
                    "metadata": {}
                },
                {
                    "output_type": "display_data",
                    "data": {
                        "text/html": "(0 rows affected)"
                    },
                    "metadata": {}
                },
                {
                    "output_type": "display_data",
                    "data": {
                        "text/html": "Total execution time: 00:00:00.593"
                    },
                    "metadata": {}
                }
            ],
            "execution_count": 16
        },
        {
            "cell_type": "markdown",
            "source": [
                "**CRIAÇÃO DIMENSÃO TEMPO**"
            ],
            "metadata": {
                "azdata_cell_guid": "a12fedbb-92c8-47be-8fca-9432a59e4b97",
                "language": ""
            },
            "attachments": {}
        },
        {
            "cell_type": "code",
            "source": [
                "USE DW_38\r\n",
                "GO\r\n",
                "IF NOT EXISTS (SELECT * FROM sysobjects WHERE name='DIM_TEMPO' AND xtype='U')\r\n",
                "CREATE TABLE SILVER.DIM_TEMPO( \r\n",
                " /* OBS 1: Nas dimensoes havera somente uma chave primaria simples com autoincremento e inteiro */\r\n",
                " SK_DATA int PRIMARY KEY,\r\n",
                " DATA date NOT NULL,\r\n",
                " ANO smallint NOT NULL,\r\n",
                " MES smallint NOT NULL,\r\n",
                " DIA smallint NOT NULL,\r\n",
                " MES_TEXTO VARCHAR(20),\r\n",
                " DIA_TEXTO VARCHAR(20),\r\n",
                " TRIMESTRE INT,\r\n",
                " ANO_MES VARCHAR(7),\r\n",
                ")\r\n",
                "\r\n",
                ""
            ],
            "metadata": {
                "language": "sql",
                "azdata_cell_guid": "bde2d307-ecc5-4aec-8090-0dd8ce3b5e1c"
            },
            "outputs": [
                {
                    "output_type": "display_data",
                    "data": {
                        "text/html": "Commands completed successfully."
                    },
                    "metadata": {}
                },
                {
                    "output_type": "display_data",
                    "data": {
                        "text/html": "Commands completed successfully."
                    },
                    "metadata": {}
                },
                {
                    "output_type": "display_data",
                    "data": {
                        "text/html": "Total execution time: 00:00:00.337"
                    },
                    "metadata": {}
                }
            ],
            "execution_count": 17
        },
        {
            "cell_type": "markdown",
            "source": [
                "**CARGA DIMEMSÃO TEMPO**"
            ],
            "metadata": {
                "azdata_cell_guid": "3ab394aa-26fd-45bd-9072-e18259c56b00"
            },
            "attachments": {}
        },
        {
            "cell_type": "code",
            "source": [
                "USE DW_38\r\n",
                "GO\r\n",
                "DECLARE @LINHAS_INSERT INT\r\n",
                "DECLARE @LINHAS_UPDATE INT\r\n",
                "DECLARE @CONTA_LINHAS INT\r\n",
                "DECLARE @VDATA_INI DATETIME\r\n",
                "DECLARE @VDATA_FIM DATETIME\r\n",
                "DECLARE @VPROCESSO VARCHAR(50)\r\n",
                "    \r\n",
                "BEGIN TRANSACTION\r\n",
                "    BEGIN TRY\r\n",
                "--2 Atribuido valor as variáveis\r\n",
                "SET @CONTA_LINHAS=0\r\n",
                "SET @VDATA_INI= GETDATE();\r\n",
                "SET @VPROCESSO='CARGA DIMENSÃO TEMPO'\r\n",
                "\r\n",
                " \r\n",
                " DECLARE \r\n",
                "    @SK_DATA INT,\r\n",
                "    @V_DATA_INI date, \r\n",
                "    @V_DATA_FIM date, \r\n",
                "    @V_DATA date, \r\n",
                "    @V_ANO smallint, \r\n",
                "    @V_MES smallint, \r\n",
                "    @V_DIA smallint, \r\n",
                "    @V_MES_TEXTO VARCHAR(20),\r\n",
                "    @V_DIA_TEXTO VARCHAR(20),\r\n",
                "    @V_TRIMESTRE smallint,\r\n",
                "    @V_ANO_MES VARCHAR(7)\r\n",
                "    \r\n",
                "\r\n",
                "--Descobrindo a menor e maior ano para criar Range de Data\r\n",
                "SELECT @V_DATA_INI =CAST(SUBSTRING(MIN(ANO_MES),1,4)+'0101' AS DATE) , \r\n",
                "       @V_DATA_FIM =CAST(SUBSTRING(MAX(ANO_MES),1,4)+'1231' AS DATE)  \r\n",
                "FROM [STAGING].[STG_DESPESAS]\r\n",
                "\r\n",
                "--LIMPA TABELA\r\n",
                "TRUNCATE TABLE SILVER.DIM_TEMPO \r\n",
                "--set @dataInicial = '01/01/2012'\r\n",
                "--set @dataFinal = '31/12/2012'\r\n",
                "\r\n",
                "while @V_DATA_INI <= @V_DATA_FIM\r\n",
                "begin\r\n",
                " set @SK_DATA = format(@V_DATA_INI,'yyyyMMdd')\r\n",
                " set @V_DATA = @V_DATA_INI\r\n",
                " set @V_ANO = year(@V_DATA)\r\n",
                " set @V_MES = month(@V_DATA)\r\n",
                " set @V_DIA = day(@V_DATA)\r\n",
                " SET @V_MES_TEXTO =FORMAT( @V_DATA, 'MMMM', 'pt-BR' )\r\n",
                " set @V_DIA_TEXTO = FORMAT( @V_DATA, 'dddd', 'pt-BR' )\r\n",
                " set @V_TRIMESTRE = DATEPART(q,@V_DATA)\r\n",
                " set @V_ANO_MES = FORMAT(@V_DATA, 'yyyy/MM', 'pt-BR' )\r\n",
                " --set @V_MES_TEXTO = DATENAME(MONTH,@V_DATA)\r\n",
                " --set @V_DIA_TEXTO = DATENAME(WEEKDAY,@V_DATA)\r\n",
                " \r\n",
                "\r\n",
                "INSERT INTO SILVER.DIM_TEMPO (SK_DATA,DATA,ANO,MES,DIA,MES_TEXTO,DIA_TEXTO,TRIMESTRE,ANO_MES)\r\n",
                " SELECT @SK_DATA,\r\n",
                "    @V_DATA ,\r\n",
                "    @V_ANO,\r\n",
                "    @V_MES,\r\n",
                "    @V_DIA,\r\n",
                "    @V_MES_TEXTO,\r\n",
                "    @V_DIA_TEXTO,\r\n",
                "    @V_TRIMESTRE,\r\n",
                "    @V_ANO_MES\r\n",
                "\r\n",
                "\r\n",
                "\r\n",
                " SET @V_DATA_INI = dateadd(day,1,@V_DATA_INI) \r\n",
                "end\r\n",
                "--fim while\r\n",
                "SET @VDATA_FIM=GETDATE()\r\n",
                "--7 Executa a procedure de Log\r\n",
                "EXECUTE SP_INSERT_LOG_CHALLENGE     \r\n",
                "    @LINHAS_INSERT,  --INSERT\r\n",
                "    'SUCESSO',\r\n",
                "    @VPROCESSO,\r\n",
                "    @VDATA_INI,\r\n",
                "    @VDATA_FIM\r\n",
                "--8  Executa o Committ\r\n",
                "IF @@TRANCOUNT > 0\r\n",
                "        COMMIT TRANSACTION;\r\n",
                "\r\n",
                "--Fim try\r\n",
                "END TRY\r\n",
                "--\r\n",
                "BEGIN CATCH\r\n",
                "-- GRAVA LOG DE ERRO\r\n",
                "    IF @@TRANCOUNT > 0\r\n",
                "        ROLLBACK TRANSACTION\r\n",
                "SET @VDATA_FIM=GETDATE()\r\n",
                "EXECUTE SP_INSERT_LOG_CHALLENGE \r\n",
                "    @LINHAS_INSERT,  --INSERT\r\n",
                "    'ERRO',\r\n",
                "    @VPROCESSO,\r\n",
                "    @VDATA_INI,\r\n",
                "    @VDATA_FIM\r\n",
                "\r\n",
                "END CATCH"
            ],
            "metadata": {
                "azdata_cell_guid": "c813b329-c3ad-43c0-9393-e394cad6cf74",
                "language": "sql"
            },
            "outputs": [
                {
                    "output_type": "display_data",
                    "data": {
                        "text/html": "Commands completed successfully."
                    },
                    "metadata": {}
                },
                {
                    "output_type": "display_data",
                    "data": {
                        "text/html": "Commands completed successfully."
                    },
                    "metadata": {}
                },
                {
                    "output_type": "display_data",
                    "data": {
                        "text/html": "Total execution time: 00:00:00.454"
                    },
                    "metadata": {}
                }
            ],
            "execution_count": 18
        },
        {
            "cell_type": "markdown",
            "source": [
                "**Criação tabela Fato**\n",
                "\n",
                "- F\\_Despesa | Tabela fato conforme o pedido para análise das despesas\n",
                "    - SK\\_TRANSACAO| código SK da transação || INT, NOT NULL, AUTO INCREMENT\n",
                "    - SK\\_DATA | COD SK DATA || INT  NOT NULL, \n",
                "    - SK\\_ORG\\_SUPERIOR | código SK do Órgão Superior || INT, NOT NULL, UNIQUE, \n",
                "    - SK\\_ORG\\_SUBORDINADO | código SK do Órgão Subordinado || INT, NOT NULL, UNIQUE, \n",
                "    - SK\\_UNID\\_GESTORA | código SK da Unidade Gestora || INT, NOT NULL, UNIQUE, \n",
                "    - SK\\_GESTAO | código SK da Gestão || INT, NOT NULL, UNIQUE, \n",
                "    - SK\\_GRP\\_DESPESA | código SK do Grupo de Despesa || INT, NOT NULL, UNIQUE, \n",
                "    - VALOR\\_EMPENHADO | Valor Empenhado || DECIMAL(15,2), NOT NULL, \n",
                "    - VALOR\\_LIQUIDADO | Valor Liquidado || DECIMAL(15,2), NOT NULL, \n",
                "    - VALOR\\_PAGO | Valor Pago || DECIMAL(15,2), NOT NULL)"
            ],
            "metadata": {
                "azdata_cell_guid": "f053a1cd-e94c-421d-bd9c-d5e356dc7263"
            },
            "attachments": {}
        },
        {
            "cell_type": "code",
            "source": [
                "USE DW_38\r\n",
                "GO\r\n",
                "\r\n",
                "IF NOT EXISTS (SELECT * FROM sysobjects WHERE name='F_Despesa' AND xtype='U')\r\n",
                "\r\n",
                "CREATE TABLE [DW_38].[GOLD].[F_Despesa]\r\n",
                "(\r\n",
                "    [SK_TRANSACAO] INT IDENTITY(1,1) NOT NULL,\r\n",
                "    [SK_DATA] INT NOT NULL,\r\n",
                "    [SK_ORG_SUPERIOR] INT NOT NULL,\r\n",
                "    [SK_ORG_SUBORDINADO] INT NOT NULL,\r\n",
                "    [SK_UNID_GESTORA] INT NOT NULL,\r\n",
                "    [SK_GESTAO] INT NOT NULL,\r\n",
                "    [SK_GRP_DESPESA] INT NOT NULL,\r\n",
                "    [VALOR_EMPENHADO] DECIMAL(15,2) NOT NULL,\r\n",
                "    [VALOR_LIQUIDADO] DECIMAL(15,2) NOT NULL,\r\n",
                "    [VALOR_PAGO] DECIMAL(15,2) NOT NULL\r\n",
                "    \r\n",
                "\r\n",
                "    PRIMARY KEY CLUSTERED([SK_TRANSACAO] ASC) \r\n",
                "        WITH (PAD_INDEX = OFF, STATISTICS_NORECOMPUTE = OFF, IGNORE_DUP_KEY = OFF, ALLOW_ROW_LOCKS = ON, ALLOW_PAGE_LOCKS = ON, OPTIMIZE_FOR_SEQUENTIAL_KEY = OFF) ON [PRIMARY]\r\n",
                ") ON [PRIMARY]\r\n",
                "GO"
            ],
            "metadata": {
                "azdata_cell_guid": "753d461f-5c35-4e81-9abe-c43c1fc14dc1",
                "language": "sql"
            },
            "outputs": [
                {
                    "output_type": "display_data",
                    "data": {
                        "text/html": "Commands completed successfully."
                    },
                    "metadata": {}
                },
                {
                    "output_type": "display_data",
                    "data": {
                        "text/html": "Commands completed successfully."
                    },
                    "metadata": {}
                },
                {
                    "output_type": "display_data",
                    "data": {
                        "text/html": "Total execution time: 00:00:00.333"
                    },
                    "metadata": {}
                }
            ],
            "execution_count": 19
        },
        {
            "cell_type": "markdown",
            "source": [
                "**CONSULTA BASE PARA CARGA FATO**"
            ],
            "metadata": {
                "language": "sql",
                "azdata_cell_guid": "0bc7fd77-435a-49d0-b79c-2ed825060a1c"
            },
            "attachments": {}
        },
        {
            "cell_type": "code",
            "source": [
                "USE DW_38\r\n",
                "GO\r\n",
                "\r\n",
                "SELECT TOP 50\r\n",
                "        CAST(REPLACE(STG_ORIGEM.ANO_MES,'/','')+'01' AS INT) SK_DATA,\r\n",
                "        ORG_SUPERIOR.SK_ORG_SUPERIOR,\r\n",
                "        ORG_SUBORDINADO.SK_ORG_SUBORDINADO,\r\n",
                "        UNID_GESTORA.SK_UNID_GESTORA,\r\n",
                "        GESTAO.SK_GESTAO,\r\n",
                "        GRP_DESPESA.SK_GRP_DESPESA,\r\n",
                "        CAST(REPLACE(STG_ORIGEM.VALOR_EMPENHADO,',','.') AS DECIMAL(15,2)) AS VALOR_EMPENHADO,\r\n",
                "        CAST(REPLACE(STG_ORIGEM.VALOR_LIQUIDADO,',','.')  AS DECIMAL(15,2))VALOR_LIQUIDADO ,\r\n",
                "        CAST(REPLACE(STG_ORIGEM.VALOR_PAGO,',','.')  AS DECIMAL(15,2)) VALOR_PAGO,\r\n",
                "        STG_ORIGEM.VALOR_EMPENHADO,\r\n",
                "        STG_ORIGEM.VALOR_LIQUIDADO,\r\n",
                "        STG_ORIGEM.VALOR_PAGO\r\n",
                "\r\n",
                "    FROM [DW_38].[STAGING].[STG_DESPESAS] STG_ORIGEM\r\n",
                "    INNER JOIN [DW_38].[SILVER].[D_Org_Superior] ORG_SUPERIOR\r\n",
                "    ON STG_ORIGEM.COD_ORG_SUPERIOR = ORG_SUPERIOR.ID_COD\r\n",
                "    AND ORG_SUPERIOR.ATIVO=1\r\n",
                "\r\n",
                "    INNER JOIN [DW_38].[SILVER].[D_Org_Subordinado] ORG_SUBORDINADO\r\n",
                "    ON STG_ORIGEM.COD_ORG_SUBORDINADO = ORG_SUBORDINADO.ID_COD\r\n",
                "    AND ORG_SUBORDINADO.ATIVO=1\r\n",
                "\r\n",
                "    INNER JOIN [DW_38].[SILVER].[D_Unid_Gestora] UNID_GESTORA\r\n",
                "    ON STG_ORIGEM.COD_UNID_GESTORA = UNID_GESTORA.ID_COD\r\n",
                "    AND UNID_GESTORA.ATIVO=1\r\n",
                "\r\n",
                "    INNER JOIN [DW_38].[SILVER].[D_Gestao] GESTAO\r\n",
                "    ON STG_ORIGEM.COD_GESTAO = GESTAO.ID_COD\r\n",
                "    AND GESTAO.ATIVO=1\r\n",
                "\r\n",
                "    INNER JOIN [DW_38].[SILVER].[D_Grp_Despesa] GRP_DESPESA\r\n",
                "    ON STG_ORIGEM.COD_GRP_DESPESA = GRP_DESPESA.ID_COD\r\n",
                "    AND GRP_DESPESA.ATIVO=1 \r\n",
                "    \r\n",
                "\r\n",
                "GO"
            ],
            "metadata": {
                "language": "sql",
                "azdata_cell_guid": "e2112614-0543-4dda-909d-a4713c34ff16"
            },
            "outputs": [
                {
                    "output_type": "display_data",
                    "data": {
                        "text/html": "Commands completed successfully."
                    },
                    "metadata": {}
                },
                {
                    "output_type": "display_data",
                    "data": {
                        "text/html": "(0 rows affected)"
                    },
                    "metadata": {}
                },
                {
                    "output_type": "display_data",
                    "data": {
                        "text/html": "Total execution time: 00:00:00.604"
                    },
                    "metadata": {}
                },
                {
                    "output_type": "execute_result",
                    "metadata": {},
                    "execution_count": 20,
                    "data": {
                        "application/vnd.dataresource+json": {
                            "schema": {
                                "fields": [
                                    {
                                        "name": "SK_DATA"
                                    },
                                    {
                                        "name": "SK_ORG_SUPERIOR"
                                    },
                                    {
                                        "name": "SK_ORG_SUBORDINADO"
                                    },
                                    {
                                        "name": "SK_UNID_GESTORA"
                                    },
                                    {
                                        "name": "SK_GESTAO"
                                    },
                                    {
                                        "name": "SK_GRP_DESPESA"
                                    },
                                    {
                                        "name": "VALOR_EMPENHADO"
                                    },
                                    {
                                        "name": "VALOR_LIQUIDADO"
                                    },
                                    {
                                        "name": "VALOR_PAGO"
                                    },
                                    {
                                        "name": "VALOR_EMPENHADO"
                                    },
                                    {
                                        "name": "VALOR_LIQUIDADO"
                                    },
                                    {
                                        "name": "VALOR_PAGO"
                                    }
                                ]
                            },
                            "data": []
                        },
                        "text/html": [
                            "<table>",
                            "<tr><th>SK_DATA</th><th>SK_ORG_SUPERIOR</th><th>SK_ORG_SUBORDINADO</th><th>SK_UNID_GESTORA</th><th>SK_GESTAO</th><th>SK_GRP_DESPESA</th><th>VALOR_EMPENHADO</th><th>VALOR_LIQUIDADO</th><th>VALOR_PAGO</th><th>VALOR_EMPENHADO</th><th>VALOR_LIQUIDADO</th><th>VALOR_PAGO</th></tr>",
                            "</table>"
                        ]
                    }
                }
            ],
            "execution_count": 20
        },
        {
            "cell_type": "markdown",
            "source": [
                "**CARGA FATO**"
            ],
            "metadata": {
                "azdata_cell_guid": "8e5fa2f0-ab20-4854-8f4b-4688769c0202"
            },
            "attachments": {}
        },
        {
            "cell_type": "code",
            "source": [
                "USE DW_38\r\n",
                "GO\r\n",
                "DECLARE @LINHAS_INSERT INT\r\n",
                "DECLARE @LINHAS_UPDATE INT\r\n",
                "DECLARE @CONTA_LINHAS INT\r\n",
                "DECLARE @VDATA_INI DATETIME\r\n",
                "DECLARE @VDATA_FIM DATETIME\r\n",
                "DECLARE @VPROCESSO VARCHAR(50)\r\n",
                "    \r\n",
                "BEGIN TRANSACTION\r\n",
                "    BEGIN TRY\r\n",
                "--2 Atribuido valor as variáveis\r\n",
                "SET @CONTA_LINHAS=0\r\n",
                "SET @LINHAS_INSERT=0\r\n",
                "SET @VDATA_INI= GETDATE();\r\n",
                "SET @VPROCESSO='CARGA FATO'\r\n",
                "\r\n",
                "-- INICIA MERGE\r\n",
                "MERGE [DW_38].[GOLD].[F_Despesa] AS DESTINO\r\n",
                "\r\n",
                "USING (\r\n",
                "    SELECT\r\n",
                "        CAST(REPLACE(STG_ORIGEM.ANO_MES,'/','')+'01' AS INT) SK_DATA, -- CRIANDO SK DATA\r\n",
                "        ORG_SUPERIOR.SK_ORG_SUPERIOR,\r\n",
                "        ORG_SUBORDINADO.SK_ORG_SUBORDINADO,\r\n",
                "        UNID_GESTORA.SK_UNID_GESTORA,\r\n",
                "        GESTAO.SK_GESTAO,\r\n",
                "        GRP_DESPESA.SK_GRP_DESPESA,\r\n",
                "        CAST(REPLACE(STG_ORIGEM.VALOR_EMPENHADO,',','.') AS DECIMAL(15,2)) AS VALOR_EMPENHADO, --TRATANDO VALOR_EMPENHADO \r\n",
                "        CAST(REPLACE(STG_ORIGEM.VALOR_LIQUIDADO,',','.')  AS DECIMAL(15,2))VALOR_LIQUIDADO , --TRATANDO VALOR_LIQUIDADO\r\n",
                "        CAST(REPLACE(STG_ORIGEM.VALOR_PAGO,',','.')  AS DECIMAL(15,2)) VALOR_PAGO -- TRATANDO VALOR_PAGO\r\n",
                "       \r\n",
                "    FROM [DW_38].[STAGING].[STG_DESPESAS] STG_ORIGEM\r\n",
                "    INNER JOIN [DW_38].[SILVER].[D_Org_Superior] ORG_SUPERIOR\r\n",
                "    ON STG_ORIGEM.COD_ORG_SUPERIOR = ORG_SUPERIOR.ID_COD\r\n",
                "    AND ORG_SUPERIOR.ATIVO=1\r\n",
                "\r\n",
                "    INNER JOIN [DW_38].[SILVER].[D_Org_Subordinado] ORG_SUBORDINADO\r\n",
                "    ON STG_ORIGEM.COD_ORG_SUBORDINADO = ORG_SUBORDINADO.ID_COD\r\n",
                "    AND ORG_SUBORDINADO.ATIVO=1\r\n",
                "\r\n",
                "    INNER JOIN [DW_38].[SILVER].[D_Unid_Gestora] UNID_GESTORA\r\n",
                "    ON STG_ORIGEM.COD_UNID_GESTORA = UNID_GESTORA.ID_COD\r\n",
                "    AND UNID_GESTORA.ATIVO=1\r\n",
                "\r\n",
                "    INNER JOIN [DW_38].[SILVER].[D_Gestao] GESTAO\r\n",
                "    ON STG_ORIGEM.COD_GESTAO = GESTAO.ID_COD\r\n",
                "    AND GESTAO.ATIVO=1\r\n",
                "\r\n",
                "    INNER JOIN [DW_38].[SILVER].[D_Grp_Despesa] GRP_DESPESA\r\n",
                "    ON STG_ORIGEM.COD_GRP_DESPESA = GRP_DESPESA.ID_COD\r\n",
                "    AND GRP_DESPESA.ATIVO=1 \r\n",
                "    \r\n",
                "    ) AS ORIGEM\r\n",
                "\r\n",
                "    --ON (DESTINO.SK_GESTAO = ORIGEM.SK_GESTAO AND DESTINO.SK_GRP_DESPESA = ORIGEM.SK_GRP_DESPESA)\r\n",
                "    ON\r\n",
                "    HASHBYTES('SHA2_256',CONCAT(DESTINO.SK_DATA,DESTINO.SK_ORG_SUPERIOR,DESTINO.SK_ORG_SUBORDINADO,DESTINO.SK_UNID_GESTORA,DESTINO.SK_GESTAO,DESTINO.SK_GRP_DESPESA,DESTINO.VALOR_EMPENHADO,DESTINO.VALOR_LIQUIDADO,DESTINO.VALOR_PAGO))=\r\n",
                "    HASHBYTES('SHA2_256',CONCAT(ORIGEM.SK_DATA,ORIGEM.SK_ORG_SUPERIOR,ORIGEM.SK_ORG_SUBORDINADO,ORIGEM.SK_UNID_GESTORA,ORIGEM.SK_GESTAO,ORIGEM.SK_GRP_DESPESA,ORIGEM.VALOR_EMPENHADO,ORIGEM.VALOR_LIQUIDADO,ORIGEM.VALOR_PAGO))\r\n",
                "  \r\n",
                "    WHEN NOT MATCHED\r\n",
                "    -- QUANDO NÃO HÁ, INSERIR O DADO\r\n",
                "    THEN INSERT (SK_DATA, SK_ORG_SUPERIOR, SK_ORG_SUBORDINADO, SK_UNID_GESTORA, SK_GESTAO, SK_GRP_DESPESA, VALOR_EMPENHADO, VALOR_LIQUIDADO, VALOR_PAGO)\r\n",
                "        VALUES(\r\n",
                "            ORIGEM.SK_DATA,\r\n",
                "            ORIGEM.SK_ORG_SUPERIOR,\r\n",
                "            ORIGEM.SK_ORG_SUBORDINADO,\r\n",
                "            ORIGEM.SK_UNID_GESTORA,\r\n",
                "            ORIGEM.SK_GESTAO,\r\n",
                "            ORIGEM.SK_GRP_DESPESA,\r\n",
                "            ORIGEM.VALOR_EMPENHADO,\r\n",
                "            ORIGEM.VALOR_LIQUIDADO,\r\n",
                "            ORIGEM.VALOR_PAGO\r\n",
                "        );\r\n",
                "--FIM MERGE\r\n",
                "\r\n",
                "--GRAVA LOG\r\n",
                "SET @LINHAS_INSERT=@@ROWCOUNT\r\n",
                "    \r\n",
                "SET @VDATA_FIM=GETDATE()\r\n",
                "--7 Executa a procedure de Log\r\n",
                "EXECUTE SP_INSERT_LOG_CHALLENGE     \r\n",
                "    @LINHAS_INSERT,  --INSERT\r\n",
                "    'SUCESSO',\r\n",
                "    @VPROCESSO,\r\n",
                "    @VDATA_INI,\r\n",
                "    @VDATA_FIM\r\n",
                "--8  Executa o Committ\r\n",
                "IF @@TRANCOUNT > 0\r\n",
                "        COMMIT TRANSACTION;\r\n",
                "\r\n",
                "--Fim try\r\n",
                "END TRY\r\n",
                "--\r\n",
                "BEGIN CATCH\r\n",
                "-- GRAVA LOG DE ERRO\r\n",
                "    IF @@TRANCOUNT > 0\r\n",
                "        ROLLBACK TRANSACTION\r\n",
                "SET @VDATA_FIM=GETDATE()\r\n",
                "\r\n",
                "EXECUTE SP_INSERT_LOG_CHALLENGE \r\n",
                "    @LINHAS_INSERT,  --INSERT\r\n",
                "    'ERRO',\r\n",
                "    @VPROCESSO,\r\n",
                "    @VDATA_INI,\r\n",
                "    @VDATA_FIM\r\n",
                "\r\n",
                "END CATCH"
            ],
            "metadata": {
                "azdata_cell_guid": "2d9ada23-7edd-4633-8770-8d0614c81653",
                "language": "sql"
            },
            "outputs": [
                {
                    "output_type": "display_data",
                    "data": {
                        "text/html": "Commands completed successfully."
                    },
                    "metadata": {}
                },
                {
                    "output_type": "display_data",
                    "data": {
                        "text/html": "(0 rows affected)"
                    },
                    "metadata": {}
                },
                {
                    "output_type": "display_data",
                    "data": {
                        "text/html": "Total execution time: 00:00:00.692"
                    },
                    "metadata": {}
                }
            ],
            "execution_count": 21
        },
        {
            "cell_type": "markdown",
            "source": [
                "**Star Schema**\n",
                "\n",
                "![](data:image/png;base64,iVBORw0KGgoAAAANSUhEUgAABBsAAAI5CAYAAADg9jLDAAAgAElEQVR4nOzdfXyU1Z3///fkHogxoJGxjaDNSEsoOgFkjZQvGBpS3HU2lUYqN1oE+1uhSQSkgtoC/UqDRVGI2N0qogXp0qiLw1bFWSI0YvixQKa1oNWJQEhhIAIhBkgCyXz/mEkySSbJJE7uX8/HI7tk5lzXOYmUOdf7+pxzGY4dKXQJAAAAAAAgQIK6egAAAAAAAKB3IWwAAAAAAAABRdgAAAAAAAACirABAAAAAAAEFGEDAAAAAAAIKMIGAAAAAAAQUIQNAAAAAAAgoAgbAAAAAABAQBE2AAAAAACAgCJsAAAAAAAAAUXYAAAAAAAAAoqwAQAAAAAABBRhAwAAAAAACCjCBgAAAAAAEFCEDQAAAAAAIKAIGwAAAAAAQEARNgAAAAAAgIAibAAAAAAAAAFF2AAAAAAAAAKKsAEAAAAAAAQUYQMAAAAAAAgowgYAAAAAABBQhA0AAAAAACCgCBsAAAAAAEBAETYAAAAAAICAImwAAAAAAAABRdgAAAAAAAACirABAAAAAAAEFGEDAAAAAAAIKMIGAAAAAAAQUIQNAAAAAAAgoAgbAAAAAABAQBE2AAAAAACAgCJsAAAAAAAAAUXYAAAAAAAAAoqwAQAAAAAABBRhAwAAAAAACCjCBgAAAAAAEFCEDQAAAAAAIKAIGwAAAAAAQEARNgAAAAAAgIAibAAAAAAAAAFF2AAAAAAAAAKKsAEAAAAAAAQUYQMAAADQSYKCmH6jdwsLC1NISGhXDwPdQEhXDwAAAADoC0JCQjTo2hhFRPTr6qEAHar03FmVnS/t6mGgixGtAgAAAJ0gNCyMoAF9Qr/+A7p6COgGqGzoZKFhYerff4CCgoK7eihAh6mpqdbFixd0uaqqq4cCAEC3cfny5a4eAtApwsPDu3oI6AYIGzpZv379dXX0wK4eBtDhXC4XYQMAAADQR7GMopOxKRD6Cv6uAwDQiMvV1SMAgE7D1UAn4zMGfQV/1wEAAIC+i7Ch03EFhr6Cv+sAAABAX0XYAAAAAAAAAoqwoZNxrxd9BX/XAQAAgL6Lp1EAAAAAXa5E7z85Ry8e/hqniJ+vl55KUUzAxgQA7UfYAAAAAHQD552HFXv3Js0c1o6DP9us+/eUBXxMQGMV5VJEZFePAj0ByygAAAAAoLcrL9URe65yP8hVwdFSVVxp+ylKt/9M/a76md4pDfzw0PtQ2dCtFOiVe5bJ+nVOcdcKbZubEKgBAQAAoBPt/c8sFQ9ox4EXiqUbJvp+75hVK5Zk6Y39JaqUFPVIjvbPT1DJm3M17t0U7Xk5TTHOHD00focm572sNKOkT15UksWhJQfWaHKU5zzVBVo1aqa04ZCWxOboofFLtbu2jwlZ2vNymvTmXI1bssv9Wv8YJUzP0guPTlRMcMMhlXi3U5TiJqdp3s/m6+7hUWpJ2Sc5eu5Xa+p+lnCjRc++tUaTv+bakfaOpyco/dtbWv+rZ/TRtUm6a/wdGm6UPtn+jDa8m6uTiY/qqfR7NDzav3NF37lIH+VLCX62R99G2NDNnP5Yuv25pZo4sO3HluzO0qIzgR8T0MCVClUoQhH86wEAQMD9aKVVS8a048D9WRr2777eKNMrP12ow5Yc5b6aoJhwP883fKLSvrlGO/Ys1+Qpngvugvf0+sD52pogqUSSJmplbTjhUSJpwqp8vTQ1RjqWo4csc7XqloN6dkrTi/badpVlxTr8xyw9ZEmTI8eqBWbfg6zcn6Vp9+3SqFUblLshXjH9/fxZ/NTW8fQER3Lm6md5SXrmdx/pCe+A4M67ND1dKv3bFj05fa6SXnxZ99zoxwkjb1Li7R01WvQ2LKPoK45ZteK+RI282aRhN5s0Zn2BJKngaZOGPe3+c8mbczVsbo77s0NyJ9o3L9T73sv/qgu06tYRWrXf095zvmE3m/TQmyX156x9fWyKFm0pVKWPITU8fpSmzM/S9k9aWWt4sVDbn56vKWNNGnbzCI27b7lyPvN19vYp/u/lmjZ+RN2Yfmtv5YD9WQ1/Z4HgzNFDN2epIJDn9KgoPaKCD3KV+0GBjpRWtOMMpXono5/6ZbwjqucAAOh4lZ9ZtWp+isZ4z5l+0pb5T5XOO6WYb8b6HzRIkuI1+cF4bd97sG4eV7Bzs2LSJio+uMUD6w2dqMm3SWUXWx5reFSsEuau0Qv3F+u3r+2S79ngYb3y6AbFPrVBK6f6CBqcOXro5qVa9bxFI2/OUoFKlDPXpFVbrVo0foSG3TxK97982Oec1L/xVOrwy3M17laTho1N04p3iyW5b/bVzh0f2lY/F35oY45+mzZKw24eodQnd6i42nPyf+zQCs/r4/6/DTp80X3uwi0L6+a3z9klqVg5tf/dx6Zpxfttn21W7F+pRz+dozfXTW9QuVBRXv/n6O9O1wt/nKNPfr5SBe2ZGgIt4N5kt1Oo7b/L0t72/JcpKZT+xdcbxR2TaB9TXclc48q1B//g0JIxUtneLE2bNUevJOzSw8ObdtGmBLm6WDkLLPpV2Ry9lHNQ8VGVKt6+VNPS5kvvvKy0b/r5czXnsw16aMEhWf6wS79PiFG4vx+k3V6pPvmv9XryNx/p+uS7dEficBn1id5Zs0Hv2E7qjp8/pfk/HC7/quGilfTzj/SREvxsDwAA2q9AL6Zl6avHNmjbU7Fyz8bKVPzuej2Utl6mvyxU64tnr1XaihSlLk7RtIKFWvLwTCUYWz1IkhT3vXsV/393ae/jEzUh5LD2vhujtOx4rxa79MR4k56QpLk5+uyxhqOp/GKH3t8dp1GL/FnjEK64+EQpu1DFkuIbv+08pIP/SNTk78W2cI586TarPv48SlKJHJLeL4zRtl2H9GzxZj30/Xl65Z926eGRfgyn0Xji9mRp0ek5evfgy4qqzNequ9bo/XGzdCjjsCzWQ9o6tOHRu/dUatl/HtTDF/K1yjJLq949qBf+pUyvP5Ij0zMH9dlQqXjrXN3/+0TlTnVo1bIoLfvUodvr5p8xSnlqh9LWS/psg1J/mqPDk+c1/b00q1TvvHJJ89ckKsLzSoV9veYsfEf9bpSOVNylZ343XwmRkiITtejhP+nRd0v1wg9bm+GVylksGWOZCaJ1hA3dTqIe+V3DcjR/lbw5V+Mcvt658LUS7ef2HtSvp0xUuGoT7RzFB8uvu/lRt/9AE7RB5y+03K4uQT45Sve/tktzzClqUmxXsEm/yp2oX+9bqNs9y0zi71+jX+8fpcc3FyjtsQQVPG3Sc9XzFLXtRVU+lq+X/s8hrZq3UK/YpYRH0mR6vlDmvGZ+vxfPq1jXKXZoo6Bhf5aG/bupLlQpeNqkF02e8kBJUpn2vjxLK57OV+XwND372yxN/qaki4XKeXqJnt5SoLKBcbr7kRf16+lxCnfm6KHxBxU3/5BeX5+o33++VAn/sGrRj5dquzNck+en+ZW6++eI3nrwZ8pNfkYb8p9oEBAkTZmu+b8q1Sd/eFIzHkzSC6/co5v8OGPEjYlKDNj4AABASyovlijn6Tk69IZJcSNjVPKxQ4WFh1VycY7f54hNXa/9t+frlaezdH/KH/XghhwtGOPHpPBbiUobmaVd+5dqQtQu5ehevdDgQr3pMgpJ2r0kUcOWSIqxaOWOHKV9y++hSoOi1PzIwiXPHK3gaZOmvez+84N/cGhJrCSlKGVcwxnk5MmJigqWNDRFkycs1/uflUgj27DBg2c8hz/crJLdB3X//trXpeu+iNOIpIN6fFmWwn42V2lj6s87YUqKYoMlRSUqZYo07VChNMahXZ8dUskCi3I87aLij6tkkEmjvrVUqx69QQvS0zThW1FSdaUKc7O04fWDKiwpVrGzjfPD0o+UG5mkZ2qTBhVo/eOlevT9PykhRNL+lfrnlwr0pwXugCgiMUkRCz9S6Q/vavGGUul/Parr75HeLHlZ91zblgGhL2IZRQ9QsneDFnktgRh2a6JS57+ovX5XU31baStStHdxiqYt26wCp/99x33vXsVv2aW9lZKqPYn2//HKVHcv1TjPuFbtb3p82e739H5/i0bF+dObJ0EucCfIjZUcK1TlhIl1QYNblG6fMFGVnzvqwo+9X1ynJfkOvTQ1XO8/O1/vJ6zX/k8P6qXR0sGWuh95r349JV+L/jlNK7YUqKS6pcZeduerLHmTu4/b8/Wzp60qU6X2PmvRb8MXKvdThz7Lmauypy1ataf2YyJfum2zPv58qRJUqFceXKiyh3fos88PapmpJEBLKCpUkPWoPvnpm3rhPq/KhSsVXrsPR2v4fS/ozZ9+okezCkT1HAAA3U2ilr22WcsWzZNlgkXzFq3Q719brjYvmzcm6sHnrNr2iPTbl3b4uQQ0TrenxumN3Hzt/fMfpR9P9OvO+oRV+frs03y9NOWQnv5dfjPLIhor097duxT+TyPkc9o4MFax/XfJftg9l0p4zKHPPs/Rg36dW5IqpUrVhRXtGU/Cwxu07S1r3deD5ihNfiZfW++/Tnt/NVFT/v2w756rpfC6BCVNy7zOse2pFMUEx+vhd3Zp2fdOa8OPE7Xo3TKVvb9c9/81Ub/OserdnKVt/+8dMUpzHhxVV9Wg0pM68t1EDa+91fzdRA3//GT9stjG7ZsR/cNndPL4MwQN8AthQ3dXYtXjs3Yp9t82K3ffQe3fd1D7d2zWgpvzdf+TVr/3CohNXa/9eeuVUvZH3Z9i0XP7/cxGv5WotJE52rW/UjrsTrQneCfaE7K053OHPvvc0WAzo1fu8+wN8e/h+vWONZrclg0vW0y0W1eXJKtQB9+srEu03VUWLQiO1d3rDmrPcz9Q2X/OVNIP16jgoj8dpmjyUEnBUbp9cor07iEV6rB2/b7SK023aGZqpXZ/XOg5yCt5dx5U/hcTNTnJXRYYMyax7R8ovnz5jjZ8NV+Lbq8rnlNB9gxNuudn+tk9kzQjuz5ciLh9keZ/tUHvfOnHeUudcrJhAwAAnSRcYcY4JYxL1ISkibp9XILijOHtmytVlqj4ZJnU3//j4ybcq/g3srQiJ0pzJvtfxK/gGE34+SrNKFioRdtanrFWnivW3ufn6PG9aXr2p80sDAlP1JxfTpR1wXy9/nGJyi5Wqsx5Wl+1MoyC/9+9T0Plx1a9sTdBExNar2rwNZ64ESna/d9WHW6cnARHKS5pjp59LE2FBV43v/bmu29clViVszVcP7otXooZoVEDrbL62n8hOEYJU5fq14+M0vt/L1TlxTLFDLxOUcFS8Z4d2tvqqBuJMCrhO141CtF36K6KLXrdXipdKVXBpi2qmHKHVxVDtIaPMbYaNkjRLKGA3wgburvqSkn5+u3ieXpozlI99/xS3T9vnhatz/e81wadmGg/+AeHPjtg1bKozVr1375T3qZaTrSjjLEK371Le881PSY2YUSTfSPaK2bcHD37X1YtCHlRL7Z1M54rkvr7+vgO90q0O0dpfq4i7ryj/kPDvl5Plj+qndaX9bJ1px4tf1Lr6zbAjNAdd0YoN7+1FKFUby28XtcvfIsNIgEA6BG+1Cspo9zVsd9N0ap/3KvfP+5juaqk2j0Y3BtRzlWOU9LQibIMK1ThoHt1e5PlED7aewtP0LwVM1W4LEvvn2t8rGe5xc0mjUyZo82Vs7T1f7JavEEVO/Vl5b44SvmPpmjMrSM0xrJGx1OXKqWFClpT+S7dP9akkXM+UPy65zRjaPNtWxpP1JTleunm93T/aM8m5Yt3qEQF+u1Yzw22X5Vp2aKUuvlowkCHVk0coWHfz1JZeo6WjAuXguP14O/mquz/TqzbSP0Vu6QSq352q/u807bH64UZCYoZl6bE3JkadqtFvy2J82NvjtZE665fP6Hr857U1OlP6qPYJ/TM3YQG6Fjs2dAjzNRLOfcqvPi0KivDlTL5asVW/lFJW9pxqvYm2pYsrRgYpTmvtCHRjorXjBXLtStlgZ4b0/JjgyrPFavgtQXuBHmH739Ow2+fq18mpejxJZsVt8Ki2HD3BpGP756oXz/ua1wxusEsbd6Zr3kJidLe9/S+pIf9GHrl2eM6fVaKCg+XBt2g+P89pMNlaZqgfO3IlWTyavy/O7TrWJrSYku0/c3NCv/Ry4pXnEr+JVyr3nf3HVWcow1b45T2n/GSDjUapklx/Zfr/d3FSpsWq+LdO7RXcZonSWU79MT3N8ucs0lpytH9aQc183+yNNm5QVPSHFqQl1X/7OtGIhLmaE5EfT5devyIho+p36Vz+Jjh2nC8VDJH17evaLV4TvesOamTMrJBJAAAnSC8v0OH/1qsyphY955S1ZUq/ushFfZvZgLQxLV6cMdBn8sNYqa+rM+mer4xpumlz9N8tIrVjByHZjR+ubn2U1/WS97jv32pcv/SSt9tEDNunl7YMc/HO2l66fOmr141aZ62PuarfRvHExyjCY/laP9jDV9+eJ/D59wy/Nuz9OzjC/Vs49eHzdSzeTMbvW7RC3+xNGqZopXWQ1pZ++2/tfojtC7yJt2V/oLuSv8a5yg/ovy/SQm33+RHFQT6OsKGHiFcUUPjlTDU64J6f1tuk/9dr6Tcp1VflEmKUtzkufr98mYS7d1LNe7mpe4/1z5pYuhEWYYt14rq5U0TbR/tGzBatOxxq5Ie26CUd+Y1eVRS3QZCA+M0eep8bf0fi+Kb++wMjlXac1bp6SV6KGW5Si6GKyZppl6wLtUEnxtqxmrG82t08MdzNWZLlCakz2p5Y0P7Bk35aZYKz3nG88AmLZscJQWnadlPZ+qh0SZp3FLNaZyF3BKn4ucTNfK/yxSVtFBbVyQqXNLklTkqXjBH475TosqBCZqxaoP7iRyNU//gBC3YMF/3z5uoYc8maMaDowKQXksRsQnyfgBIdOJdqvj56ypImKMEFej1P1Tort94RQbXDvev32ij2rF/KQAAaLMEzfyPe/X44hSNnF9f0RpunKh5/5EVkPlCd1S2f7M2fHja65URSnskRS09h8J/xXr/+T82uPVz3ffmasYYf8Obvq30g2d1h0X607kXdBd3ntAKw7Ejha6uHkRfEhU9UNHRzdWHFWjVzesV572rrzNHD413aN7nSxt+oDR6QoJU+zSK+U0eOwS3sj1Zmvar6/TCjjm+Nx7qAyqOvqMNv9mgXCVpzs/n6K4bOy6TLi09p7JSHzWTAAD0USEhIfpG7JBm3i1RztxEFf5bw32walWWlamyWlJwuKKifNx08jE3BDpCRbkUEdl6u6KjX3T8YNCtUdnQ3QWHSypUwcdlShjpSVyry3T440IpeESXDq0jBSzR/scOrXhkqV63VypmTJqWveIOGorfX6Mc760krrtTc6YnNLN+sfeIuPEuzX/xLs3/GueoOJqvAiUosQODCgAA+qqCrWv03IftOPAfB9VwnSfQMfwJGgCJsKH7i0nRklUH9ficUVrldZM4yjxTK1em9NrkOmrMTC3wkeq32TdTtCwnRcsavRw7eaEWTA7A+fucUuX+5g79s/6kcy+2/BxmAADQFuEyJc3T7adbb+nTNxP1cILpaz3RCwACibCh2wtX3NTl2jp1uSrPlalSksKjFNW/q8eFvilad627pEuKYFMgAAACKkoJ0xf22n0YAPQ9hA3djkPvv7RGxVe1/ciyTxxSk0cSAQEWQtAAAAAAoGWEDd1KjEbNt7S7/C1quEUPx/fWhRUAAAAAgJ6CsKFbidXkRxaKrQQAAAAAAD1ZUFcPAAAAAAAA9C6EDQAAAAAAIKBYRgEAAAB0kq/KSrt6CADQKQgbAAAAgE4SGRnV1UMAOsW5s2e7egjoYoQNnc3lUmXFpa4eBdDxXK6uHgEAAN2OIYhVzAD6BsKGThYaGqorly939TCADhcaGtrVQwAAAADQRQgbOtnlK1cUHT2wq4cBdLjS0nNdPQQAAAAAXYQ6LgAAAAAAEFCEDQAAAAAAIKAIGwAAAAAAQEARNgAAAAAAgIAibAAAAAAAAAFF2AAAAAB0I1cuVar8fLkcf3hYWR+Uq/y8j68PsvTwHxye76u6esgA0ASPvgQAAAC6kbzfb1PBldOSwylH5EZtPOyjkdMhZ7lVG89Kjg9CNfuNdJk7faQA0DzCBgAAAKA7ufo7mv7jaRp0YryKIswyDfLR5qxD4yuGyPyNs7L+PafThwgArSFs6KbKz5dL2qfsx5xKe9oiY5MWTlkfy5Hx6XSNlaR+kYoM6+xRAgAAIOBKPtLiB57xu3n5l2O1rAOHAwDtQdjQTWU+s1Fmo1OOL8tl3XxGoU1aXJbjS4ciN2/UIaddjtErtTa1aSQBAACAHibmDq1+7eH6m03VVSqvClNkP0mXylUVFqkwVam8OkyRYU5ZM1qubLCvS9bi7fXfx8/f1GDe6NyWqVlFs2XLMLv/vL7hug13e8maMUvHHrApfXQzHZ2yKnNmtmqPtqyyKe14tvYlpssy2K7s5MXSqkbHn7Iqc+YxzbaxDATobQgbuilzarrSR5+VY1yVhpiNalq0UCXnuCKFmU0adCBbmce7YJAAAADoeOWH9d7/DtKPvj9ERXve09nbfiTzuQ/1XulY/civK3SLVtddzDtlzZil7BtqL/rtysk1yaI82WWWOXWtbKnuACLnhrX1wcCBbO00WaQ9dml0852aGgcZ3nPU4fFyNDrevnWnNNzk728CQA9C2NBNvfebWdoX4WfjirMadF9a8++f2a3MHz+l+oza+wNHkuzKTt6ooZvX1qXO1gYnqG3v3c53Vw2S8+Hp2rRuiHLWSem1SXnuJG1a13BZiH1dsjYO2URlBgAAgJdy+xvaF/0jJQ0M5FmNsjyRrsytnov+A3lyJKVpqbKUtc3Z7HzMvsehSdOWSiuzZD3V/FywRabZmq2NXsfbladJmqRjX+cHAtBNETZ0Uz/4+aaGJWbeJXOeMrqq8iqFRYZJflQ2NEiZD2QrOcNad9Hv3LZRutuknflOWVLNSrfZlC67sjOKlOYVDDRs11ww0DTI8BqF4rVT+05Z6j+gTlm10REv0xC/fzUAAAB9Qth1Jg2JkBRmlOkmd51r5E0mhYVJihoiU1g7N+waPEQmR5GcMsu5x6FJ04wyapK0cp+cqb72CrMrzzFJaYONUpKU1cJc0LF+lpLXS1K80jevde8t5sU8zqSNnuOd2/I0dFqatJKwAeiNgrp6APBP0Z73dLhc7jK6PUWSynX4nQ9V1J6TjU7XatNO7TslSU7tyzVpfMZ4mdbnNIgGGvK3XcsmPTBJO7fWH+3MP6ZJSSY52nk+AACA3qr847eVd0JSeYHe3u2UJDl3v62Cckkn8vT2x+XtO/GpIjlMQ2Q8ZdXG7YeVPTNZyTOzdfiT2vlhQ85tG2X9JFuzkpM1a/1hHc7dJ2czpzbN3ySbzSabrZnqh9FpmpSbI7vsyskdqrHtqZAA0CMQNnRrRcr9o13t/BhpkXGIdKxY0ql92mkaL7PMGn+3VXkHmjnA33ayanFyspKTk5W8zkckETtWkxx5nrDCrpyi8bLcEIAfCAAAoJcZdOcizRguadAkLbovXpIUf98iTRok6buztSzF1zMxW2NX9sydmjTNLGf+TplW2TzhgE22Ve4K1obcN5xW2+rb1d+0ag+jLA9IGzM2Sg/4qqIA0FsQNnRrkRoyzL05ZORNJhnD5Cmji5QUJuOwIYps55mdRdLQWMm+NVuHty9WcrJ7rwXrHt81C/62cy+j8HwYZfjaPMjzAbPN6V6WMY59hwEAAHwpP/yePjwur8pWr2rXNvG6GVS3/5anatV72e5oHxWsdTec6pnHmZS9tb11rp5+PmnUN4Behz0bujWn8rYf07+ap8i5+20du9usKSrQ27uHyhxnVMH2PA01m9TWTNu5LVOLNVu2wXZlO9K1yVabKrsfnWSXudGjh+zK86udn0anadJrWcoyTdLSVEnNVkkAAAB0Xy6Xq43t/Wx4/lNtWf9nz6PPs3XI83L23z1/+Hu28uoaX5bjRKhmt3A6c4ZNtozGrxplWZfeuKXSbZ7ZXepaud+1aG3jY0enyxZrVWby4iYbkKenNuolNV2W2nPXncerH5/jANAbEDZ0a/GascCkMEmD7lskU5gkTdKi+9ybAU35RUsfKw3Vb9Yj6e7V7qqDA9lyJKV5la8ZNTbJ4dmJ2Otgzy7Fvtu1p/jNqLFJ0k6NpXQOAAD0SC6Xq/7L/UKrxxiCg/069/j7U3Vb1WX/BzMzrN3Vru022KK1Nktn9wqgBzEcO1LYtkgWX0tU9EBFR7f+/KLsA1L66CLl/vGsxt5r1tn/ecP9TGXZ9YbnOct1DmQr83hapz86ssFjLiXFz+fxlahXeu6szpeea9MxBoOhg0YDAEDg1IYMNTU16td/gMLDw9XahNogySXpmmuu7YQRAl2v6OgXXT0EdDHChk7mb9gw5xfZMvt73e60yzF6JRf66FbOnT2rc+fOtH6nx2CQQe6gofYLAIDuzOVyqbqmRperqmS6+dsKDvGvWLimpkZBQWyZhr6BsAEso+im1j7q/xIJSVK/Ti+eA1pkCDIoyBAklx/ZQVhoqC5duqjg4GAFBQUROAAAuq26qobqatW4XH4HDQDQ1/CvYzcVeTXhAXq2iIh+uvFbcX63P/GPYl26eKEuaCBwAAB0VzWeJRSumuar9+x2u8xmnroFoO+ijgtAhwhp452eAQMGqLq6us07ewMA0BVqamp8fma9+uqrSk1NVUJCQheMCgC6D8IGAN2CS56JW1cPBACA1nieQOHy8alVWlqqV199tfPHBADdDMsoAHSK0tJSvfbaa/rFL36hsrKypg1c8vvRYQB6rk8//VTnz5/v6mEA7eZyuVReXq7Q0FBF9Oun7468tcH7jzzySBeNDAC6F8IGAB1u165dev7555Wamqqvvvqqq4cDoIt8/vnnOnr0qOLi4hQREdHVwwHaxeVy6ezZc+rfv5+CgztmKn3lUqUqqi7L+c5i5RhXK32Uj0YHs7XYmabVdxW09ecAACAASURBVBklhSny6rAOGQsAtBePvuxk/j76Eujprly54nPfBoPB4HONq/PkCR3628cKDQ2VwWBQcHBwZwwT6NNiY2M7ra/y8nJ9+OGH+t73vqfISDZBRs/lcrlUXV2tyqoqVVdXN6lsqOXr887fR19+8B9bVXDltOTI1aHIJN+PQ3falVs+QkkmyfFBqGa/kS62o0R3wqMvQWVDN1V+vlzSPmU/5lTa0xY1/YxxyvpYjoxPp2usJPWLVCSBNnqwSxUVOnHihEJDQyWJsAHoYKdOndKZM2d0662+L5Q6gsFgIGgA/HH1dzT9x9M06MR4FUWYZRrko81Zh8ZXDJH5G2dl/XtOpw8RAFpD2NBNZT6zUWajU44vy2XdfEahTVpcluNLhyI3b9Qhp12O0Su1NtVX7A30DAOjB2rMbbcpPCxMwcHBPPoS6GA1NTXauXOnCg4WKGEUu+YDgTZx4sT2H1zykRY/8Izfzcu/HKtlLbxvX5esxdvrv4+fv6nBvNG5LVOzimbLlmF2/3n94QbHu9tL1oxZOvaATemjm+nolFXZ+WOVnmp096nVsmXU1lvYlZ1RpLR1FmlbtvYlpssy2O8fEUAPRNjQTZlT05U++qwc46o0xGxU06KFKjnHFSnMbNKgA9nKPN4FgwQA9FhBQUH69re/LafT2dVDAXoeg0EGSe7/69sHH3zQ/vPH3KHVrz1cX9laXaXyqjBF9pN0qVxVYZEKU5XKq8MUGeaUNaO1ygaLVttql1k4Zc2YpewbakMDu3JyTbIoT3aZZU5dK1uqO4DIuWFtfbBwIFs7TRZpj10a7c+CDYssWqzsAy2EEwB6NcKGbuq938zSPn/3zqo4q0H3pXXoeAAAvQ8VRED7BQUFqbKySuVffaXIq67q2M7KD+u9/x2kH31/iIr2vKezt/1I5nMf6r3SsfpRmzdqMMryRLoyt3pCgwN5ciSlaamylLXN2WylrH2PQ5OmLZVWZsl6aq1fVQnjM1YrLzlbdhv7SQB9EWFDN/WDn29qmAJ7p9ieZLuqvEphkWFSa5UNZ3Yr88dPqb4gzjvdliS7spM3aujmtbIMtis7ebGsDU5Q2967ne+u7OuypYzatoulVbYGiXjm8TStTXUqe52UnsHHTl/0te70AADQDQQZDAoKClJoaIhOnXLK6Tzh15Ob+/fvr2/G3uB3P+X2N7Qv+kdKCvTe4oOHyOQoklNmOfc4NGmaUUZNklbukzPV115hduU5JiltsFFKkrLynbL4tXzXrPRVecrc5tTa1AD/DAC6PcKGHqIuxVZtsj1Ih9/Zp0H3JmmIH8ebvNfmHchWcoZVm9a5P0yc2zZKd5u0M98pS6pZ6Tab0r3W1dV+lDRs58cHzN0WaQlpNhpqbg1rdfWVTh4JAABtV1sRFBQcrODgYJWdL9WVK1fkckkuNZ84GGRQRcWlNoUNYdeZNCRCUphRppvci2ojbzIpLExS1BCZwtq5O/ipIjlMQ2Q8ZVXW9sM6vD1Z2ZKkeO07ZWlyU8m5baOsnxyWNdndSsObCyV8GJ2u2XsyZT01u31jBdBjtf7sHXShIuX+0a7yQJ92dLpWm3Zq3ylJcmpfrknjM8bLtD5H9mYP8redt/FKXyUtXudfa/QuFy9c0JclJfqy5HSrX6ecJ3XmzJfula+UdQMAeoAgg0EhISHq37+/IiMjFRk5QFdFRipywIAmX1d53u/fv3+b+ij/+G3lnZBUXqC3d7v3V3HuflsF5ZJO5Ontj9szS7Qre+ZOTZpmljN/p0yrbLLZPF+r3DeVGnLPAVfb6tvVzyP9Y86YrWMr8yRTO4YLoMeisqFbi9SQYWEKk1eKrdpkO0zGYUN8bBzpH+MQKa9YkvZpp2m81sos3b1YeQfSZfa1ic8pP9s1Njpdq/dkutf2tXOs6JkuXbqkomNH/LrTYzBIIaGhihwwoIWttgAA6B5qqxuCg4NlCAqSq6ZGkuRqYS2FwWBQaEjbpt6D7lykGcGSNEmL7nPP+uLvWyRTmKSY2Vr2XUnyZ5NXqxYn1y6SjVf65rWyDHbKmmvS+HVezUaPl2lJjuyp6fVVC3VzwHrmcSYt3mqXxe8lsWalJW3UrNyhYpcxoO8gbOjWnMrbfkz/ap4i5+63dexus6aoQG/vHipznFEF2/M01GySr0cvt3rmImloomTfmq3D26Xkusch2ZXuY4dhf9v5Ys6YrbwMq5wPtGOg6LFCQkIUGRlZN/HyNQGrnawZgoIUHBTEIy8BAD1GXeBgMMjl52dXUFBwm/ooP/yeZ88GHxtEXu3/ecwZNtkyGr9qlGVdeuOWSrd55nepa+V+16K1jY8dnS5brFWZyYub7AmWnlrbZ8NzGz1PuXCfO52bUEAfQNjQrcVrxgKTwiQNqk2xvZLtKb9o39o357ZMLdZs2Qbble1I1yZb7Zo796OT7DI32mPBrjy/2jXHrPQH8pS5RzL5s8EEeoWgoCCFedaStnanR3IHDkEGgwyeLwAAuru6zzCDocXPulpBQX5+vp3/VFvW/1mhkqRsHfK8nP13zx/+nq28usaX5TgRqk7fEWGwRWttRAYAmkfY0K0V6cN3zmrsvWadbbJBZNuu2h3rZyl5veebu1fLlmGWDmTLkZTmtbmPUWOTHJ7HHnkd7Hkkku92fm0NJI1O06TXZmnnEIrn+gqDwV1e6n97Q4P/DwBATxLIz6/x96fqtqrL/h8wM0yRAesdAALDcOxIoR8P6kGgREUPVHR0688vmvOLbJn9vI6X0y7H6JX+X/gHiH1dshZvr/8+3vuJF+jzSkvPqaz0nF93eggYgK5x/PhxnTx5UmPHju3wvsrLy7Vnzx6lpKR0eF9AdxUSEqJvxFLmib6h6OgXXT0EdDEqG7qptY+2sRiuX+fn2b7X/wENESQAAAAAfQ9hQzcVeTXFcAAAAACAnimoqwcAAAAAAAB6F8IGAAAAAAAQUIQNAAAAAAAgoAgbAAAAAABAQBE2AAAAAACAgCJsAAAAAAAAAUXYAAAAAPRmB7KVnJzs/sqwyinJvi5bds/bzm2Zda83ZVd27bFexzu3Zda/lpwp6ylP63VN2zbW8NhkJa+z1/fm63if429tTJ6f75RVmY1fc49C1oxkZR/4mr9bAM0K6eoBAAAAAOgoZ5T92lBtstlk9Hq1LgQ4kK1ZRbNlW2dueugpqzJn7tSkzTbZBjd8yymT0jevlWWw+xzJW+2yZJglWbTali6z3Bf/OQcsSh/d+MRex8odHGRu26S1qcYGx3vebWb8TftJa3ReySnrymOabbOpyU93IEc7TRZpj10a7eNnB/C1UdkAAAAA9Fr9NFQ7te+Uj7dOWZW5Z7xsGb4vtu1bs2Va5X3x3rz4IcYmrxlvMMlx3He9hDdzxmqZcvc1U1lhbH78rfZj1BCTVXk+qhfsexyaNC1Nkxwb66oyAAQWYUOfcEbWjPpSM3e5mF3ZdSVr7jKyzG2+/4lvrkyuYVlaw+Mbl8f5LlFzNh3XKasyvUrp3G3cJW8NztmgLK9ReV9zpXh1pXON2jf6mbI9P4d9XcNzSXZlN+jXR/ldo99Jw3K9Fn6XAAAAHaK/LOuWSisbz0usWjzzmGY3EzS4WTS+tiqhbilD7Tkcyp7pmdPsGe+pSmjIvscq0w1NX2/KqKE65pljWbW4wZzO2Mz4ffXjNSbPnM2cYdP4PY3nXXblOSZp7GCjxiZJO/NbD0QAtB3LKPqAM7s26tgDNtmalLC52dfN0rEHbFrr433ntkx3aZ2t9oPIruzkbNk9ZWum+bUlb3ZlJ+fInpourUvWYq32OsY357aspuNq8eK7vjSuvizPruzkjRrqVd7n3JapzG1Lm5TiObdlKmubU2tTJd29uj7FP2VV5sxsDWlQsidJFlm0WNkHbD7K/9Rs+V3970TuD+YMqzats0it/C4BAAA6hlGWdTZZPHMP2dIlWbR681BtTM7W7GbnIg4VnZLMgyWNTpfNliZrRo7nvdp5mV3ZyXmyZ5g957BqcbJVkhQ/f5PP+WVTTh3TUI1Vw+URLY+/aT/O442XUbiZM2yyZThlzciU9Ym1Gpu/UdZPDsuanO1uMHyfnKkW+ROLAPAflQ19wDXGG2Td4ysHdl+A541r5mJaduXkTtKmBom3WemrpI2+qiCGD5XxlFUbHemNjvHNeIOp2XG1xlkkDY2VnNs2So3K+4ypSzUpN8dn8u0zXR9s0dL5Dp8lduMzVktLmkvR/Si/G52u1aad2neqjb9LAACAgDNr/N3uAEGSNNiitaukxc1s5GieNkk7Z/qeB3mfM22+w2s+Y9Fqm002m81ntUNTTlkzFksP+HOx7z3+tvbjrmI4VuzUvlxT3bE2m80zV/PjFADahLChL/jONNnG5TVZ6qDtizWraHYzQYOHaUiL//A71s/ylNTlafw694eEKWms55j6ZRI+l2iMTvc9ruZ7qyuNW6zZnoDBpKGxLR1TX4qXpaXN/qzNr/VrLhDwv/zOOEQ6VqxWf5cAAACBd6bB8tGNQ5Y2vPM/Ol2bknZqlq8lCrVhRN3xs7QzKa1JFYT7Rs+sNjzZwWu5Q7K7wrZ+jua1jCI5W/ZGy1+bjL/Z82bKeqrhkt1ZRbOVHrtPO03jG/wM5nEmZW9t3w0wAM1jGUVfMTpdNlu61xIDSXev1qYhG5W8bnazGwPJUSSnzM1eJNcuGbCvS1begXSZYyVHkVOSUXUlbweylXncz3EltvRDNNr1eJ20aYjDfSHf7IeOpxTvlFWZK5svkXMedzS/pnB0umbvyZT11Oz69tv8L79zFklDE6VjrfwuAQAAAu8apdtsSm/0qjmj/hVj6lrZEt37Th2ue9Uzh/LM1RozpqbLUv+dLOts7j+ObtjWuS1Ts9bXn9W9lHWtbKm+R+te8tDotVbG3+DnaHzedTavcUqSWWsbnV+j05tdbgyg/ahs6GOMiZOkovq78MbUtVqtxc1UFpiVlrRTs7w3STxlVeYSaXajcjXztHQ5XrPKOdii2c2ez49xDR4i0/a8+mT91D7t1NBmL9CNqbOlJQ03WrSv85G6D7ZotilbOb4S9wPZmpU7SWktfMiYM2br2Mo8ySRJ/pffObdleqow/P9dAgAAdLrBFq31mtvYArSnlDF1rdc5bc3f4ALQ61DZ0Aec2fWMfrxyh+c7i1bbLJJXoZw5Y5MmZcxSctHqJh8AxtS1Wr0uWcnJ8jrex4fPYIuWJmVq1rohstWeb733MU0vqBsm3bXjktJXuZdWuMUrffNaGSU5PaVx2XXt3aNI3zxJmXWvezYJ8nEBb85YrbzkTFk3z5a2L1byds8bw9O1aV1r6wTNSkvaqFm5Q5V2yl1+t9b73XEmLd5ql2WaZ2lJ7c/utRGl379LAAAAAOjhDMeOFLq6ehB9SVT0QEVHD+zqYfjku8wtUJfCdmUnL5a17vt4n7sFo/coLT2nstJzXT0MAC04fvy4Tp48qbFjx3Z4X+Xl5dqzZ49SUlI6vC+guwoJCdE3Yod09TCATlF09IuuHgK6GJUNqONznVvAmH2uFwQAAAAA9D7s2QAAAAAAAAKKsAEAAAAAAAQUYQMAAAAAAAgo9mzoZOFh4aqsqOjqYQAdLjwsvKuHAAAAAKCLEDZ0ssqqym77NAogkEp5EgUAAADQZ7GMAgAAAAAABBSVDQAAIKBcLpfP12q/fDEYDB09LAAA0IkIGwAA6AM6IwBofD7vs9bU1Mjlcqm6pqZhH436IXQAAKB3IGwAAKAXay0AqKmpCUgAUNtHdXW1oq6OVv8BkQ16q66u1sBB12rgoIb7FlVfuaKS06dlCDIoOIjVnQAA9BaEDQAA9FLeAcB1g42eAKDeDUNulKumRsEhDacDFZcu6cSJYgUHB/sVANT2U1NTIxmCdFXU1YqIiGjSLirqap/HV9fU6EzJaRkkBQUFUd0AAEAvQNgAAEAv5B0ARPTrp6t8XOgHBwf7PHZAZKSioqL1VVmp3wFAbahRXV3jM2hoSXBQsGpqahTUzHgAAEDPQ70iAAC9VG0AUNNomYSfR7v3WfC7tXupRI2r7X25PH0BaF7+lkMyLPV8rTkmZ0d3eKhQU3PPS4cKZdjSQm9/P653TlW3cKJqHfnouAquBHyEALo5KhsAAOilagOAZvZ/bPlYVxsDAJfLHUx4+nr3T/+t8gsXWj3MbE7QdYOv8xzbjoECfUaEPsqKU2JndzsiTq4RLbx/c6Qqfn9E70y5SXcNblydVK0jHx3R+qpr9AxXHUCfw//sewynVi49oyc9392THKs3k3yvfQ2YQ4WaeuparddJzdf1zff39+N6J/obPj5galXryEcnVDr2BiXwNw4AOk9dAOC+iH/vnT/J4fi8xUOuv/4b+tcf3uM+3OvYtpryz/+inf9j08ED+32+Hx4ern/94T0aOvRGnT9f2q4+gL4sf8shPWN0zwfztxxS7q0jlPSXT3XEGKoZtgpJwXp94Xc0PcZ7DukJLEqOaapNmuos14wSr3nloUIZNldIkp4aGSEZJZUc01RbuN6c3k9b1nypI8YKPemM1MmFQ2WUpKCBuud+6a0mgYNX0DBxoI+fAEBvxzKKnmTkNXJljZAra0THBw1ejEnfabm/myNV8e6RZkroaj9oIgkaAKCL/eCuf1b8iO/q0qVLPr+G3niTpqbdq5CQwPyDPen7yUq8444mr0dFReneH9+noUNvDEg/QN9QoTtql1FscSpxeqym2r9U/qFCPWOM1RMjJKlaM5wD3PPFhf305qZjcsqoJzzzx5PJl5V7yHO6jy9Js0bIlXWNRtm+VL6cWrlZ+sjTNkkVPsegW0fIVRs01AoaqHvuv8ZrPkjQAIDKhh7svLasKdaRlBF6YsR5bVlzUpp1vbTpS8l8WTNs1aovt/ORaB8q1NRTIRplK9eTkp6aOcL9IeUr0fZUOLyZJBJtAOjhkiZ9X+Hh4fpoz4cNXr/VnKDJKT8IeH/fGz9BYWHh2r3rA0nStTExSk29RwMHDQp4X0Dv1nQZxfRZpZq6SVq/sPamULBeT/bEADHRmqovdUTnlbumWDNK3C/fk3xeuk7SyGhNj5Gkfrop5oJUUqmDIwfoCc+ZEm+NkE41HUNSc0sqvOaD6wdKR65m/gf0dVQ29CQfn6nbGGjloas1feE10o5jys89qSMp3/F8YFToTV3vTrRnSndscUrNJNpv2a4oKWuEXAsjdXDHMTlJtAGgTxj3vfGaeGdS3fdj/+n2DgkaGp//m9+M1b3T7iNoAALivLZsuqJHU65ofu55z2vVOnLa88eSUr2pEA3I/dJTwTBCJ5NbeOJLTLhGfXxB+Z5v8//iax7YCs98cNSNzP8AUNnQs4y8Rq7p3pf4Rj2RUijDX6LlqpszRujR2iUPIwboqR2VcvpKtAdL9yRf607HY8I1SpUk2gDQh9w29p8UHh6uCxcuKPGOcR3e363mBH135C3NPm4TQGvcyyjcIvS7kRU6nTJC00ec19QdxVo5+GolKVgHdxySYbNUu2fDLacLdeuaQ5oh6Z6YYMnc3PmNmpP8qa739PHUyLY9wrZO0EAl3tq+QwH0LoQNPZpTK3eE6CNzqVYeMnrW6l3WkRIpMUbSoQt60jhAc2oT7RjJmfup5jd3Oq9EO1GeRNvYXONmeAKH/I+l+bcSNABAd3bLrc1edXQIggag/RKnj2jmUbRXa7pnGUX+X6Sps0bozRivt2Pi5Mpqesyb05ser6TveN3Aatq2rh0A+IGwoSf5+IwMS8+4/zwyUq87L+mmWd9RYoxTuUs/1ZaF10uS3tx0yFPFEKGPsowyHirUDBJtAEAnCApq+wpNgwwdMBIAANCVDMeOFPJQ604UFT1Q0dEddcf/vLas+VI3LeyCZzADjZSWnlNZ6bmuHgbQZ7lcLlVXV6uyqkr9+vXTjTfFten4kyf+odLScwoPC1NwcLAMhuYDAZfLpeqaGlVVVqq6pkZG4zd0zbXX+tXPxQsXdO7cWX1Vdl5h4eEKDgpqsS+gJwsJCdE3Yod09TCATlF09IuuHgK6GJUNAAD0VgZ3zUBlRaXOfFmiqKiGJdDVNdWqrq5RWGhog9fLy7/ShQsX3PUGfl74G+SuaqiqqtI/io+rqOioXK76+xmXLlXo0KG/acyYMV7DMygiPEKXL1cpIiKC+gYAAHoRwoZe5WrW0gEA6hjk3ieh/MIFfVHokMslubxWfZ84cUKnT52WOcHsdYxBBoMUEhqqyAED/A4ADAaDgoODFRoWpksXL+rKleoGfVVVVqj0XKkuX77coC9XTY369e/favUEAADoWQgbAADopWoDgAH9+6u6pkaumhpJqqs46N+/v/r1i1DkgAF17SXJEBSk4KAgvwOA2jZBQUEKDQlR0IABqqmpkcvlalDdEBER3qAvg8GgIE8/QZ7lEwQOAAD0DoQNAAD0Qt4BQEhoqIIbBQ2SFB4WptDQUIWHhzc5zhAUpCDPxb+/gUPt5pBBQUFNgobLly/77Ms7dCBoAACg9yBsAACgl6q9eA82GOTycSEfHByikBD3V3PHtiUA8A4cvIMGyb0xXnBwcJO+2tMP0FOFhIS23gjoBcrLv+rqIaAbIGwAAKAX876YbxwA1F7fN77Q/zoX/s315ytUIGBAX1NRcUnOEycU0a+djxcHujvPv+uVFZe6eCDoDggbOll1dXVXDwHoFPxdB7ofX6FCR+6T0DhYYE8GQKqqqlBVVUVXDwMAOlxQVw+gr6mq5MMFfQN/1wEAAIC+i8qGTna5qkpFR7/o6mEAAAAAANBhqGwAAAAAAAABRdgAAAAAAAACirABAAAAAAAEFGEDAAAAAAAIKMIGAAAAAAAQUIQNAAAAAAAgoAgbAAAAAABAQBE2AAAAAACAgCJsAAAAAAAAAUXYAAAAAAAAAoqwAQAAAAAABBRhAwAAAAAACCjCBgAAAAAAEFCEDQAAAAAAIKAIGwAAAAAAQEARNgAAAAAAgIAibAAAAAAAAAFF2AAAAAAAAAKKsAEAAAAAAAQUYQMAAAAAAAgowgYAAAAAABBQhA0AAAAAACCgCBsAAAAAAEBAETYAAAAAAICAImwAAAAAAAABRdgAAAAAAAACirABAAAAAAAEFGEDAAAAAAAIKMIGAAAAAAAQUIQNAAAAAAAgoAgbAAAAAABAQBE2AAAAAACAgArp6gEAAICO43K5mn3v9OnTKisra7GNwWAISH/l5eUKDg4OaF8AAKD7ImwAAKCXcrlc9V/uFxq8P2jQIFVVVam6urrhgQaDDKq/+Pc3BGipv4iIiID2BQAAujfDsSOFzd9iAAAAPVLtRX+NyyVXjUtXRUWpX7/+DdpUVFaosrJSV0dd3eD1y5cvq/yrMl2pvqIgg0EGz5df/dXUaEDkVQqPiFBwUHDd+9XV1SotLdU111zT4LgrVy7rq6++0pUrl/3uCwAAdH9UNgAA0Eu5XC5VX7misPAIXTfY2OT9qxTV7LFXqq/o/LmzMoSE+H3xX+Ny6fLly7rmmmsVEhra5P3ogQN9Htevf38dP3a0TX0BAIDujQ0iAQDopVySampqmi5d8Dh69KjsdrvP94IMBtXU1Mif8se6qobqalVWVfkMGkpLS7V7926fx1dXV/vdFwAA6BkIGwAA6K08IUDjvRpqvfrqq1qwYEELhzd/bGM1niUUrpoan+/b7XZNnDgxIH0BAIDuj7ABAIBezOX5qrVt2zbt2rWrSbujR49qxYoVTY5ti5qaGtXU1B+1a9cuvfbaa03alZaWau3atSotLW13XwAAoHsjbAAAoI+ZNWuW7rzzTtntdpWVlWn27Nm65ZZb5HK5GgQAbeJ5AoWrUWzw6quvKi4uTm+//bYkacWKFRoyZIgKCgq+5k8BAAC6MzaIBACgD0lNTVVqaqqef/75uiUUN9xwg4qKihQdHR3QviZOnKiJEydq165duvPOOyVJb731lv7617/qxhtvDGhfAACge6GyAQCAPmb58uX65S9/qdjYWF111VXKzc3VggULdPTo0YD39eqrr2rOnDmKjY2VJJ09e1azZ8/ukL4AAED3QdgAAEAf8pOf/ES7d+/Wn//8Z82ZM0ejR4+uq2oYP358QPt69dVX9dxzz2nDhg3atGmTJOn48eOaMGGCbrnlFgIHAAB6McOxI4XsyQQAQC/jcrlU7XkUZVhYuOJMNzdps3z5cu3evVsffPBBk/e+LDmtkpLTCg8LU3BwsAwGg199Xbp0SaNG3ybJvRFk7dKM2qUULh9PnLhwoVxFx4761RcAAOgZ2LMBAIA+6sYbb9T58+c77Pzee0BER0e3+OhLAADQuxA2AADQR/3kJz8J3MkMBhmkZqsSzGazzwoKAADQO7FnAwCgRwsJCVVYWFhXD6N78gQA1dVX2nzopUsXZfCcw19BQUEKMgTp3NkzberrfGlpm/vqa4KCmLIBAHoW9mwAAPRoUVdHK3rgoK4eBtChKiou6eyXJbpype3BEQAAXYGYHADQYwUFBatf/wFdPQygw0VE9FMoFTwAgB6EsAEA0GPV1FQrPDy8q4cBdIrLly939RAAAPAbYQMAAAAAAAgowgYAAICewMU2WwCAnoOwAQAAAAAABBRhAwAAAAAACKiQrh6AJPXr318R/frznHT0apcuXtKlixd0+XJVVw8FAAAAADpUtwgbBg66ViEh3WIoQIcJD49QZWWFxGbiAAAAAHq5bnGFX119hbABfUJQECuXgE5l36DUX739tU5h+aVVD5oDNB4AAIA+git8oBPV1NR09RCAvuXKaR1Wop5dNFExbT64RLueXajTVzpgXIC3igpVREQooqvHAQBAAHGbFQAAoF0qVOr8RPkf5Cp37ydylla04xwFejaxn+54riDgowMAoCtR2QB0Jp6RDnS+Qqs2PJvfrkNLCqW7m3uzukR7/325Vry2Q4XnJClKcY9t0LtzEzwH5+uV36zRhvcLz6ac/wAAIABJREFUVHIxSnGT52rZ8nm63VNiUfC0SdOUo88eS6jv7825Grdkl+e7KMVNTtO8n83X3cOjmvbvzNFD45dqd90Lc7T186VKaNKwQKtuTtMrnu/CjQma/MBCLZmdqJjgNvwyUO+KU7m/fVLPbrmk4fck6Y4xNyn65Ed6/a2n9Obf+mnG4qc0/06jnydL0JxNO3WXsel/OQAAerLuETZw/QUA6Ci3LdRLL6e1axlFztxEFfp6q7pYOfNS9KuyOXop56ASYqMU7n3hfrFAq2bO0u6ELL20Y4Niw8tU8MIc3T/zvLb+11Il9G++1wmr8vXS1BhVlhXr8B+z9JAlTY4cqxaYw320nqiVeS8rrdXrWk8QUV2pkmM7tOGRuUr63yzl/j/27j8s6jJd/Ph7QBkUFh0NnQoxgTyBuYKyfiW/fWXxDKy1cCTF1kL35I86YUCitZK25lkJW8EWSM8x07Z0+0UGQZvppItXh/B0RsFT4m4LqEiK0jpI/mBU4PvHMMMMM8BgKAzcr+viaubzeZ7nc890CfO553mee2vMTbwvA9ylEtLmZcBzm/lzifUbHxG7mBU3ajmwcRkPH1rJ7tQwh5ZGDL8/guG3JlohhBCi18gyCiGEEANLUx2H3kjh0QcnMP7eAMbfG8DEB2N4ZnMJdU2ODdGwbxOr/xbPtu0pTBvbLtEA1O3ZzA5DCplpcQSpvfBS+TDjhVdZbtjOlj11Dl1D6eVDyJJNvLawhv94q4iGbr5Mu1yVePvFsConlaADm/jwuPFwzZ6XeHRqAOMnhbH0jXIMAFcq+dNzUYTeG8D4SZsoBdClM37JdnI3xxF6bwATY1LZ913r2FfK2fFUGBPvDSA07iXz8bqD6eb3emm+8bXX7F7GrKkBjL93Mo+u3Ytj70hfUMtHSdsZt2U3qy1nLjQ2Yl5AMUhNROpuXrtnO8/k1vZGkEIIIUSfIMkGIYQQA0pdYSoLD/qQ8FYRuq+OoPvqCAfeSsH/0AJeKHTstrfyfwsgMpxpHcxQqKkogllhBFkmIVyDmDYLDlbUdCNaJf5BYVBaif1eRax+0JgwGf9KN9b8j51ACDVUnGyAU7tYsTuAzJIKvj2SS+ShBHYch7p96azzegnd3yv49mhK2/KMgyVc+2Uuur8eYdu0Ep55pYAGDBzKXM75hXv5+u8VFK9QsiFjLw2UsiupnJhdx/j27xVsm22cR+Edkc6eryr49q+5RH2dbk569Hllf2L3g6t57B7TgRN8mvIwMxOe4ZmIh1lZeMLcdNz81YQV/gmH/q/UnqBWNiIVQgjRz/SNZRSdKmXHI2sp+DFDPLSO/CWyFlIIIQTQBBzawoqni/AJmEwIRyitqKG8CmbM7sY4rq0T5C33TpiRTvEbcT0f8wgv7C2icHwZhX1eQ5XU6Yoo/9t5non7wHSUCSfr8P6nyfivTWfFnSkkzAvH37RtxIwoIsca202LjIL5x6hkDEVv13GwNJ5DmaZRRlFJGBMijvDC2nTcnllCXKgx2WA4tZcNa3ZSWlFHTW0dcy/fXPy3W+lfviQieoX5eX1hJh+FbWd/nBqo5aNF6/n0wdd4aDjAOCIe/JKPylYQ0mnp1FIyH5zM5iePUPWcfFYRQgjRfzhBsgHOfw3TXk0lXNX9vnUH01nxj56PSQgrNxppxB13p/gXJYRg4Rvkz1ZSU2fAoIwiymsMhvxwdjnY3XtMCHx4hMqmEPzVcWz7e5xxc8c9FudfL6F8ZUjb7Iamcg7tgciV/t0ItIFDB4tQ/p9ldKdXl74uYR/hPP1PSvgemLOO/Gfb3+gmsGdvGLlvbeLRBwt4uWgTke3HuQEMNaVBJpOw9Q2i228CkVGC/8Fctvx7ODseymXPY6dZ9+tjRBUVsFbVyb4YfdC4WWu406ft+YmKs4RFmzI9akLCzvLRSXioNblw56w1PNTlpg0hrPiiisfvGHcLIhZCCCF6jyyjEH1TXTmlpwy35VKN9Sco/csBDvyllBM3Vbasnk+ThjAk6VPqezw6IcQt4TYMn4lhTIsIZ8b0MKZN9MHLzfHuPrNfYNHldJ55uYgavQHDlQZq9Oetzys3seLlImr0DTToazj48nJeVSawWGOnsoQdBn0Nh/6wmBcOxZH5ZA99421ooO7rXFav3IzXb1KIU4P3+Ml453/MPnvbC6hDiFuZzvKf7uXYqdZj/1PCoTqgqY7C3btQzg0jCH8mzCqi4JNyGtrve+HqhX/EYjJ/E0dlaQV1VxpoUHnh7QV8V8S+/+mZl3Y7DL8vBLVF8iDk5w/w6Y5PqW2ExppP2a59gAiLWQzuPiEE3uHAwOpxqCVZLYQQop9xkj9tlRS+ns6hm4m2rhJ+2cG5UwWsW5XOh7o6DIDXs7noloVYlSMzflMVRbFpJ/PjW4iIqWDV4U1Emj4vNpWyYXI8bD/G4lOWZcvadhW3Kmc21JuQx9J5bWW4TdmxbpU9MzNQ+ckmXs3JZV9VA0p1CHOf3cCqOf4dTLvtnppPXmLFK7mU1hoAL5bnHuHpTqeE/niVHy9nYUUKxRuicOxjeXfVczxvM2t+/yV3ah7igbBA1Bzn003b+VR7lgeeX8+y2EAHdwcfTsTzX/IlIbKbuBADxdAQVuUW4J+5lkfDl1B3RYl3YDiLnp5s/J01NIRVu3Yy7KWXmD21kga8CJmdwvu58YRY/mJ+I47xb7Q+XpJLcQAcXBXG+FWAyp/IOct4//MYgn70L8LtPHrvdkCJd2gUi39bRNr01ikIExez7clUFkYF8MwV8PJLZdvexfh8soyI5XsxDPUm5LHNvDYRKAV+6k3Fy2FM/KQBr4gU3l8XhhKIfvENjiXEE/pyAwz1JnpDAZmzaviPqXG8qgcvvxjW5kThrW4g7v8uZuF92/F/dBnTfvpjX1svCl7B9hvvsDlhJifGLWbZlhV2So8KIXrCkKFDcR8yFDe3bmSGhXAyV69c5eqVy1y/fq23Q+kRilMnKnu98ORo9V0o3TuaZ1jKhns343+Ta1Lrdi9hesUyqzrmRpXsiIpib0wury0Jwdviw1+nyQbK+Y/wGCp+c4TMWa2f/nTpTFw5jPf3J+Cd3759WxwvkM62Od5wKpelMal4bbAYw047c9mzVyp4vMOyZ1Czewmz/v0ii7a8yuIgLww1BbwQnw6/3cu2OT52+zjs2+3MevgzYt7dwqIQb5sd153TCT5a9AwHNBmsn28voVDP8XfXsFIbwWs7HqEnJ7aeO3sGg+FmZk8IITrie49fxyd16Yz/zwCr38l1+UuY/kkY+RsXE2RanqcvZ8dzMZT8ssS8iaG59OW/VbAq9Ba+AGdi5/0UP179Nwc4q47ochbEmZpqbtyQnSTFwHSXjy+DBjnJ96RC/Ajnas9iaLza22H0CKddRlF3aDsr5htLbI2/11iua/ayLcapnQ5p4GIteN/tY5Vo6FoQkYuCKDx0BNMk/9L9u/COC7fedbwzY8OJ/Bk0XOl8mYBDZc+aStn170XMSNvO8uk+eKm88J4YT2ZaOAf/fSelTcbkycKXN/HM1ACW7q6DpjoOvmIsWxYat4UNq1qP23PlIjWMwmds+0RDKRvuXYK5qpcunfFLco3ly7pdGq2O3CUBrH5lE7MnBbBBZ4zZHNOVSnLXGscaPzWKFe9Utr73tv261khp+kqOP7mb1ywTDTcaaTR/fhtO4PzX2P3kcVamlyKpASH6F+/IVNLu/oyFUwPMpS/HT41n793prIp07lvomn2bePUPFj/vlPZMyUxxC5WyfcFMHt/ZjWoiQgxATU2SaBMDg4uL096i23DOV1JXwAsLivD5t10caC1bptu7i+X3lrBwTYGD9bpDiFsXxaHnonh07S5Ku1EK2///ziPonSIOGWjd8MubuP8X1NbgYCrTWz/A2rsBNlTtZd9BfyYHOfKhtouyZ3UVVF4JZ0ao9QwJr9BwZlyppKL1zThUNYpVJRVsm+NNw/5NPLNnMq8drkC3PYRO63JNnMfLs0pY8XAc694pdbgGffdKoxmVNIXx9pH23yAaOJQZw38oUzjw1wq+zV1CwysxbChuS9TY79eB7z9l+w/LWDHNNJOmkdKcx5n5yDM888hMHs9pSy64T1vBsh+28+n3DoxbX0utbNgghHMY6k/culx0fz1mLn359V+P8P66OPw7KGXpLHwiU1j+rMXPYyE9uxQtNJVvZVZDDwthRclVvlwuCzCEEEJAc3Nzb4fQY5xzLlKTASjhP55L4KBPACETofTrCmq+roQZMQ4P4zN7M7ppJex4JZ2FUR+waHsuy0MdmObgF0bcxHSKdKnM8Coil3nGtawmraXP2n8YM6/D9Y4hbW8ucZ3M/LXRYdkzx8yYFYVP68yEytJcDLNymeYFEEZUBGzpqKOrD9HZR5hWvJ0Nr8QT8d5i3n4vhZCuPpB3qzTaZAAiI8PwspkdUk7R2wYi3209NzaG+NmprPu6ElrXG9vvZ199yQHcf56BedFO2WbWXFrJ/gLjh7zS9IfZXPZnVgQDuPPAz91ZWVLPI9Gd7cZQz0cpdzKH3eh3PCL7NgjR11TsZcsfTt/ETXcD5RX0bBUIIexxd6fLohVCCCGEk3HOZAMA8WzLnYey5jwGg5KoyGH4GD4g4p1uDqMOY9GrBcx4M4ZZ2/YSH+pIssKfabP92XCghKgRH8CvthDUdSfjZpGz4eDL8ax4vYQohzY/7KLsmcoHn6FFHNQ1EPfLttEadEUcvHsyy72hJ2o6eE9fTGZeODviotiybwHbulOLvsvSaHVUODyYEuWPyLq4hyxmscX+IPWnTxAYGmh+HhgayPbT9RA8vK19Y1cfAYfzyKaznEUtiQYh+hrvyTw9+2Z/aXgRNDuBCfI1vhBCCCFul5Ze31KxxzhxskGJ19ggQsZa3ObrbvIDpaGOmrMNMFTp8OwB/xnzCIpJZ53Ki8U7HEk1tHL1ZsbzG3g8Jp4V+UUWG5HZCUtfQ+lby41lz/Z2ML1SGcbi34Yza3UKfxqbTrSP0rhB5OoiZqx7iSBX21US3mNC4K3POPR0CNMoYe8eILHr0A0XTnP+AngplYAXYyaWUF7eAN5waH8RENDW+H9KOFQXR/QIU2m0NwjCn5rW0mgzFgY5OBvBn8m/VLJhXwkJIWF41eSy/X1/4t4LAgcXzFhy9wkh0OL58LCHaHz+T5SGLCaEUv70biMP/d4iZXBHoGM7iw9XcxP7lwohbrWxUSx/Nqq3oxBCCPFj9Z/7LyEGDOfcs6FHlLIjarJxY7D7o9jw3TzefqGDmQYWezCYN0EcG07M+EoqR8xjWvvlEPbaW1KGkLAunsq16ezT27ncqjDG3xvAxKjF7DIs4P3P04lU2bYz8Zmzmfzf+lCQEE7o1MlEJBTh/+reDhMZPo++SmZQAUunTGD6c+UMm9bx2JRtZ1brJmoTH06nJm4nqyK9AH/mvrCM8lWTGR+2jHLPydb9TKXR7gtnQ0MK768IQ4kX0S++gf+n8YTeZ9zUc8WerhIGXkSm5RJ/KoXp9wUwPu4DfDZs5+nALro56o6HyPjtnXz52znM+e2X3PnbDB5ypCa6EEIIIYQQQogOOWfpy7oClj5QQNhHm1g0sTU90NRA+dspzD4UQ/HWmLYSZx2WvhQA6EvY8KuXGJWzl0Xje2jMAVgarfFkCaWEEHZP50supPSlED2v09KXQvQjUvpSDGSd3y8I0X/0p/sF51xG4R3Fqg1HeGHxZDZYzAzwCo4nLS2q397gNuh2sf2/zlscmUDcs1H4dHegphr2/ftyXninFIM6hLkvbGfR+B4cf8Cp58DvH+Bh/ox+y0Oyb4MQQgghxG1Vx741i9lS/iOGCFrGtvX99z5CiN7gnMkGlPjPeYn357yEQd9g3ABR6YWXk5cs64pXaDzLHSnv2BVXHyLX5RK57haNH5rKt2/0wDhOYzgPZV/lKrKbuBBCCCFEb7hYW45P9E7ib2am7re7WFjc0HU7IX6kxkvg7tnbUdw+TpJsqGDftk3U/KT7PRuOV4DMsBW32iBJNAghhBBCCNEvXarnRMURTuhBNW4ygT7Dce/mnXR94TOoYuDP+td4aIBMhXaCZIM3k5fFOFwloj2vwBieDpIJUUII0V/90FDf2yEIIYToAw69l06Nx010vFwDY8LtnztVwLpV6Xyoq8MAeD2bi25ZiHFfuD1Rxj3KanNZ+uBeIk17zB3fQkRMBasObyLStPt8UykbJsfD9mOs8sll6YOpHDRdY0Y6xW/Ewe4lTF9VZDw21JuQx9J5bWU43u0quNVZtsML/8g4Ep5ZRnSgV9t5q9hSObRwJ7oXwyzuqerIXRLG6oOLef/vqXaqr5Wy4d44drQ7OmNDCdvm1LQ71zpGN65V+koAj5pmQqtCePw3G1g1x9/Yp66EHb/fxPZ9pdRd8cI/cglrX0pgWi/c0tV/8xGb/z2DL++I4KEHHyBQDccLM9i+5wBnw1ayPvERAh1MHAz/+Qq+LIGQAZJoAKdINvgQ+WwKkb0dhhBCiD7J09NuHSEh+p0fGmSatxCdmZtWwKqbWRKsS2f8f9o7UcmOJ1Moj8nlwB9D8Hb028/AcOLu3sTe4peInNX6N6r0M/6kWsb7IbRWbw8nzXID/NbDxpt5bziVy9KYJWz46REyZ9n+nTO1MzTUUP5BOktj4qjILWB5sJ0g7/bB++1d7HsmjGhThbtTe/nwf5SdfKEbwqq/V7CqNVFQ+W8VFu9tDQCL3q2wfb+7cS1T/wbdFpbOX8yOoCKeHlvKhvgFHAxJZ9ve7fgoGyh9bTEL4y/yfl4qIbdx2fyJ3CU880UEGa9/yWrLBMHPH+KxRKj/5h3WPLaEiC1v8Mg9DgzoOY6wzqoA9kMDuPSlEEKI/kDh4iI/8jMgfoQQ3WP4toANy6IINZWkv3cys/71JXK/NTg4QgMXa8H7bh/HEw0ABBG5KIjCQ0cwXal0/y6848IJcu20Y5ux4UT+DBqudB6r0suHkCWbeG1hDf/xVhF2U5IBS1j82F4KDrSVnC//5A28n1xGj9/73sS1vELDCKGGI+V11O3ZzA5DCplpcQSpvfBS+TDjhVdZbtjOlj11HYzQ8xp1aaz862J2Zz9mNXOh8VLb4+H3P8ZrHyzm+PNplPaP4hE9Tv5yCSGEEEIIIfqZUrbEpfPD9FfJ/+oIuq+OoPuqgMxIA3+I20ypQ2OEELcuikPPRfHo2l2U1jp+df//O4+gd4o4ZACayjm0x5u4/xdk0aKI1Q+2JkFesY3GULWXfQf9mezQcnAl/kFhUFrZOufA9vy0yHgOvbfXeN5QQu7r4cTN+nHrEnbMb41/SS5taYDuX6uh+DMOEkJ4qDc1FUUwK8w6KeMaxLRZcLDC/qvrefV8uuMqy54LM+/J1li2mccjHuaZpIeZ+dhmSk1JB88wVjx9le17HFnSWU9tzcBa+inJBiGEEEIIIUS/Y7hSR+4ri3lm8TLW/eElnlmcwNJXcqnrYraAJZ/Zm9F9sZmohg9YGBXDqzoH+/qFETcxlyKdAcqLyGUeMyZaNggn7YsKvv17Bd/+pm3HhIOrwhh/bwAT448QuTeXpwMdDhVGeHW4LMJr2jwS6t6g8GtoOJDLh3OjmPYjlyQserc1/jfirEqGOnotU7IidPkRpmW/yuNjf1w8Pab+Sw54RvCAeff3Uja/UM/KfX/mjR1/Zn9KPWu2tSWI3MMicNd+SVdphPq8ldw5ZiUffX+rAu97nGDPBiGEEEIIIYTorjDWvvUSQZfP02AwoIwchrfHMdbFne7eMOowFr1awIw3Y5i1bS/xoTEOdPJn2mx/NhwoIWrEB/CrLQR13cm4F8NsOPhyPCteLyFqQxRd70zUwKGDRSj/zzL8AbuLDVyDiH7Sm1mfFuDz3RESlm5CSa4DEd0EB69lb88H7zEh8HoJ5StD2mY3NJVzaA9ErvS/NfG25z6ZxYssKs3Vn+XE/WEEmu6c7w8jcMdZ6glhuLl9Y5eV6YbHZnD2NKjvuFWB9z0ys0EIIYQQQgjRDylxU/sTMj2MGRHhTJsegr+6s00RO2Goo+ZsAwx1vL//jHkEfZjOulwvFkc6kmpo5erNjOc38HhpCivyO9+nwKCv4dAfFvPCoTgyn7StKWHJJ2Ie095J5YWzS4ie2GnTH+1mr+Uz+wUWKTex4uUiavQNNOhrOPjycl5VJrBYc5s2hHZXE3KfxUYNwx/gocZ3+FNZPdyop3TnOzTOeoC2FsMJDFV3mWyA4ah9BlApCvrIzIbr16/R1HS9t8MQ4pZTKHo7AiGEEEII4ZhSdkQtZkNVA8YSk0t4+yXjTAPbFIBxD4bVgLnSxNhwYsa/xLqml5jm13V7q+KbyhAS1sUz66l09s3YRKTKuvfBVWGMXwWo/Imcs4z3P48hqKt7cXUUMTNSaZgWjo/D70HHdswPMJe/XPRuBassB73Zaw0NYdWunQx76SVmT62kAS9CZqfwfm48ITeVJeoJw3no5dV8+uYa5rwMEU+sJmPWwEoa3CzFqROVLb0dxKjRd/Z2CELcFpcvX+byJSldJkRP8r3H5hOcEP3SmZpqbty40dthCNErRqvvQune0XfH9sozlvLqpOU0bNzFqpk+KF2BJgM1+9NZ+JwXmUdTMM8D0KUz/j8DKG6394AQPerSCUq+gZBp4zqdBXHu7BkMhv5R3qJPzGxQKBSd/PIQov+4WK/v7RCEEEIIIQaAEOK3zuOF56KYuKxtU0elOpyErel0vuBg4KnZt4nccosDo37O4sdCHNgvQjiq/i+ZPBADf9a/xkMDZGJEn0g2CCGEEEIIIURP8p6WwLYvEjA0NGBoAlyVeHn12lz8Ps0nMoXlkb0dRf82PPo1rv4A7p69HcntI8kGIYQQQgghhNMrfX8Tr/7XTXT87ggQ0NPhCGFjICUaQJINQgghhBBCCKemJCAigWnnb7L73WE8HRJwc1UqhBAdkmSDEEIIIYQQwol5EfJYiuzDIEQf49LbAQghhBBCCCGEEKJ/kWSDEEIIIYQQQgghepQkG4QQQgghhBBCCNGjZM8GIYQQopt0Oh2pqakATJ06lRdffJG8vDx+8YtfoFKpyMvLQ6fT8eKLL+Lu7m7VV6/Xs2LFCk6fPm3Vf8+ePWzZsgWAMWPGkJmZSWVlpdV1Hn74YdauXWs13i9/+UuSk5PJy8ujurqa5ORk87mqqiqef/55Ll68CEBCQgKxsbG35k0RQgghhLDgPMmGlmYuNVwBviLnN7XEvRKD2qZRLQW/yUX9SiJTAYZ44ul2uwMVQgjRnxkMBoqLiyksLLRJJIAxEVFdXU1aWprNuaqqKtavX8+aNWvw8/OzOufh4cHWrVvNx/V6vd3raLVadDodp0+fNicO9Ho9x48fNz9WqVRUVVWRnZ3Ntm3bUKlUAGRlZaHT6QgNDe2ZN0MIIYQQogNOk2y4fvE7kjPzCVbXUvH9JQp2/YPBtq2o+L4Cz11vcqy2jIopaWTNtk1JCCGEEDdr0KBBXL58mTNnztgkDCorKykrK7OaXWCpsLCQhIQEm372DBkypMPrtFdZWUlgYCAARUVFxMbGcuDAAZKSksyJBoCFCxfy9ttvc//999tNlAghRF91/fo1mpqu93YYQtxyCkVvR9BznCbZABA8O5HEKReomH4N32A1tpMWrlE7vRq34ABGHM4h+XQvBCmEEKJfc3V1JSUlhd/97necPXuWzMxMVCoV58+fR6vVkpmZ2WHfUaNG4e/vD7QtxTAtmbh8+TJPPfUU0La0wt517CkrKyMiIgKA9957j1mzZuHh4dFheyGEcDaDBtl+zShEf+Q6yA1o7O0weoRTJRs++/0CvnL0i5jGC4yYH9fh6dr8ZBZsLm87EL0RbVJw2/PDOWjeGsvO7BjUh3PQrCqwHsDU3rJdB9cqy9bwXGHrk8BEdq6G3JKpJM5WG+M4MNOmf1m2hjd9d8rMDCGE6IPc3d1JS0tDr9eTkZHBypUrGTVqFAkJCaxbt461a9favdG/fPmyeZlDaGgohYWFbN26FbBdRmHS/jrtx62qquKzzz7j/fffB2DYsGGcOXPG6lrCuVy4cIFLly4xYsQIPD09ezscIfoEhUKBUmZkiQHgYr2+t0PoMU6VbPjF8ztJnGJx4Oolrrl54sY1Ll1zw3MIXLt0DTdPN+hyZkMAibuyiBltfFaWrSE533RzX0vBWxATsJ+vzsUQMyURrTaxdcw4iwRAu3ajO7pWDBu1iZhTGecsExcBBNGu/7kC3qwIIsC3G2+OEEKI206lUjFu3Dj0euMHA39/f+Lj48nIyLC7OWRERATZ2dkdJiMcuU77fkePHmXVqlXmfRh0Oh1Hjx61uVZjYyMZGRnExsbKEoo+zGAw8PXXX9PY2IhKpWLq1Km9HZIQQghxU5y69GV18WeUXwIulfNZcTVwifJP/4vqmxgrOGkjAQe+ohbg3FfsD3iQxOkB5Lxf1nEnR9t1YeavZ7Lfon9tySlmRgRQcdMjCiGEuFUMBgOLFi1Co9Gg0WgYOXKk1WyE0NBQQkNDSUhIMCchTPz8/IiPj2fevHloNBqio6Px9fVFpVKZl1FoNBrmzp1LWVlZp9cBaGxspLq62rw0A4wJD51Oh0qlsrlWbGysbA7ZxzU2NnL+/HkaGhr47rvvejscIYQQ4qY51cwGo2oOfHCBqfOCu27aLWrG8oUx2VCyn4DpWTAFYlZ9QVlSMPauVutgOyjgOU3rbIbojWgfbXfaZyozK3IpI5hgysitfpDE6V+wX/acEEKIPkepVLJjxw6b4/Pnzzc/jo2NZdKkSSxdutRcdtK0N0NoaChardamf2xsrE1ZSnvXgbaEBmCzGaVKpTJXwujoWqLvam5uNj++ceNGL0YihBBC/DhOmGzwxHe8G26A57gA3NwA1ASMcwPcUI/3tbNxpCNqOcVYplJG7uZyCtBgXuxwOJHgKe3bO9oObJeqytY+AAAgAElEQVRRtJ97oSbm15CcX0sqb8L0LOCLm3oVQggh+gY/Pz8+/PDD3g5DCCGEEKJXOOEyilq+KCzlElB78GNKLwGXSvn4YC1widLC1tkJ3RyzIOk5+HUM6sNfULFsJ1qt1vizK5GKYjtLJBxt56gpccw8kE569Uzi7CYshBBCCCGEEEII5+CEyYYgHl8+kxFA0PwVzBwBjJjJivlBwAhmvfgEQQ6NU0FOvKZ1LewCTv1aS+IUKCuuYGaYRQWI0VOZWfEmBeesezvaznFqpkYAvlM7rGohhBBCCCGEEEI4A8WpE5UtvR3EaPVdXZayuV5/mv+sHEPilLY9Gy58/iEXfjaXYMr48H9GMPefLco32FSOuD2sylwCQcukfKVoU3v2DIbGq93qo1AoblE0QvQPvvf4dd1ICCeh1+v5/PPPzc/j4trKeJ+pqZZ9HMSA5cj9ghD9wbmzZzAYGns7jB7hVHs2lOXnkHPI+PjY5tY9Df6WY97dIOdvFo1ry2BKHLdbcJIWbdJtv6xwEi0tzTQ1N0NLFzk+hQIFbYkGSTgIIYQQQgghnInTJBsGD7ubrJVPdK/TEM9bE4wQN82lNXHQRfJAAQoU3LhxHVdXV1xcXCThIIQQQgghhHAaTpNsQOGC5zBJHgjnNvKOO3Bzc7xeyunqU1wzNMoMByGEEEL0Ky1dzfIUQjg950k2CDEADRo8mKtXLsvMBiGEEEL0Gy0tLW0/xgNd90GSE0I4G0k2CNGXtbTQ3Nwsf16FEEII0S+YkgzNLS24uSlRKpUoFIpO8w0KBbi6uN6+IE3OFZAcn0M5ADFs1CYSfK6AnJKpJM5WA2XkaJ6DDcaqdpa62jS+Nj+ZBdVPoE0KNj7eXG7V39Tesp0QzkaSDUL0opMnT/LWW29RWlpKfn6+zfmWFhzO+AshhBBCOIOWlhaabtxg+Cg1nj/5icN9breCtFM8odVi/za/loKkNxm7S0vMaHvnW5MT5rYLyBljSkqUkXsggBi+oIxggmdnoZ1tTEDkjsmySFy0a9fzL1GIW8qltwMQYqAqKyvj2WefpaWlhYsXL/Z2OEIIIYQQt0UL0NzcjHsfL2XpG1DAF4ftnyvLTofVWR0kGtpTE7M6kYriMuPTw19QERFHXEQFb+bXdtzN0XZC9FEys0GIXhIcHEx+fj5FRUUcPHjQbptLl37g7JkzDB48mObm5m5tLilunlqtxtW1F6ZrCqeh0+lITU0FYOrUqbz44ovk5eXxi1/8ApVKRV5eHjqdjhdffNHmw7Rer2fFihWcPn3aqv+ePXvYsmULAMOGDeP3v/89fn5+ZGVl8cknn1i1bT9mXl6euS/AL3/5S5KTkwHs9v/mm29s4t+6datNO8uYxowZQ2ZmJnq9nueff56LFy+aj6lUKhobG/nd735HbGwsoaGhPfdmCyH6H8v9Guw4efIkw4cPZ/jw4bc1rPaCk7SQrUGzKojEXW2JhYrNC6hYtpMshxINrUb7ElBRTS3B1BZXMPNRNWpmQtpX1M6OQW2nS5mD7YToq5wn2dDSzKWGK8BX5PymlrhX7P1jq6XgN7moX0lkKsAQTzzl3kw4sYaGBmpqahg8eDAtLS0MGuQ8/2Sd1ffff4+XlxfTp0+XhIOwy2AwUFxcTGFhod1v5XQ6HdXV1aSlpdmcq6qqYv369axZswY/Pz+rcx4eHmzduhU/Pz90Oh2FhYUkJyczatQoPvjgA3MS45tvvrG5mbfsC8YEQ15eHrGxsVb9wZjssBe/veu0H7exsZG3336bbdu2mcczMbUvKyuTZIMQokv2Eg35+fl8/PHH/PGPf+Qvf/kL4eHhtz2u9oKTtGiTailISqZgdRYxQMCynTxYvYDkfOt9GDp1rpqKAF/U5wpILyynvFBDDgBBfHUuxnaGxLkC3nSknRB9mNPcuVy/+B3JmfkEq2up+P4SBbv+wWDbVlR8X4Hnrjc5VltGxZQ0x38BCNEH3XXX3Xh4DEXp5oarq6tUpLhNjhw5wpdffsmDDz7Y26GIPmjQoEFcvnyZM2fO2CQMKisrKSsrM88qaK+wsJCEhASbfvb4+vraHBszZgynT5/u8mZ+4cKFvP322zQ2NtqcGzJkSIfxt7+Oh4eH1XFTcqKystImhrKyMv7lX/6Fjz/+mKqqKodeoxBCWDp48CDJycmcPHmyt0NpR83UCMitAXyMR4KTdjLTah+GzpSRE7+fmbuyqC15k4ANWrJMfQ7nkFxSS0y7e5bakv0OtROiL3OaZANA8OxEEqdcoGL6NXyD1dhOWrhG7fRq3IIDGHE4h+TTvRCkEMLpBQUFsX///t4OQ/RRrq6upKSk8Lvf/Y6zZ8+alxGcP38erVZLZmZmh31HjRqFv78/0LYUw7QU4fLlyzz11FOA9TIIS8XFxUyfPr3LGIcMGQLA1atXOX/+PPPmzbMa11789q5z+vRpc0ympRXJyclkZWWxYcMG81IPvV7P5cuX8ff3JzAwkKNHj0qyQfRL586d47vvvuvtMJza5cuXcXd35/r169wzzp/Bg9u+Pnz11Vd7MTJbBUkaco63PoneiHY2cM50Vk1M9kZyNBqSl9mb4VDAc5qC1semZRi1FBwI4MFsi2ZTHiRgVS5lsxMtZm3X8lUn7WSjSOEsnCrZ8NnvF/CVo/vINF5gxPy4Dk/blJiJ3mhdUuZwDpq3xrIzOwb14Rw0qwqsBzC1t2zXwbXKsnMgyVgqJ7k1q2maAtW262wZOdmQKGVthBCiz3N3dyctLQ29Xk9GRgYrV65k1KhRJCQksG7dOtauXWtzAw/GD9l6vR6VSkVoaCiFhYVs3boVaFsKoVKpyMjIMLezTBYkJCQ4tETh6tWrgDHp0H4ZRUfx27vOhQsXrJZRmCQnJ/PUU0+xadMmfvWrX3H06FE++eQTqz0fZs2a1ec3fxOiO86dO0dxcTFjx45lxIgRvR2O03J1dWXo0KFcv369z8/YjMnWEtP+4OgYEmebngSTqNVSlq1Bo2lrErRsJ1lJWrRJ7TuriclObHcsmERt6+f/2VkkOtJOCCfhVMmGXzy/03qa0tVLXHPzxI1rXLrmhucQuHbpGm6ebsapRp3ObAiw2uilLFtjse6qloK3ICZgv3Ft1JREtNrE1jHjLDKX7do5sIYqIDqA/WkFTO0kOSEGluDg4D6XyRdCOEalUjFu3Dj0ej0A/v7+xMfHk5GRYXcjx4iICLKzsztMRpjGDA0NpaioyO6eC11pbGwkIyOD2NjYLm/2LePv7nXc3d0JDAyktraW6upqq75vvPFGp8s0hHBG5eXlTJ06FR8fn94Oxam1tLTQ1NSE4dq1frM3UrDdxIIQwqlLX1YXf0b5JeBSOZ8VVwOXKP/0v6i+ibGCkzYScOAragHOfcX+gAdJnB5AzvtlHXdytJ0l3zhSI/aTLuVrRKvhw4cTHGw/U93c3HSboxFCdMVgMLBo0SI0Gg0ajYaRI0da3VSHhoYSGhpKQkKCOQlh4ufnR3x8PPPmzUOj0RAdHY2vr6/NDf6sWbPQ6XTodDqHYjItwTCNaVkRwjRjQaPRsGjRIk6ePNlp/B2NO3fuXI4fP87q1avNfaurq1Gr1Xh4eFi9huDgYAoLCx2KXQhncfHiRe68887eDkMIIZyGU81sMKrmwAcXmDqvp6cRqRnLF8ZkQ8l+AqZnwRSIWfUFZUnBdtdG1TrYzuZKs1OZmdR+bZYYCC7W16NwUUBLR8WeWikUXL92jatXrqBofS6E6BuUSiU7duywOT5//nzz49jYWCZNmsTSpUu5ePEi0FY6MjQ0FK1Wa9M/MjLS/Ni0zAGwWTbRUZnL2NhYu/EmJyfb7P/QVfyWr6P9uPaqbLRPVpgSLkIIIYQYuJww2eCJ73g33ADPcQG4uQGoCRjnBrihHu9rZ+NIR9RyirFMpYzczeUUoMG8S8PhRIJtdpl1tJ09amJWjyU5u4xU283GRT9WX69Hf+ECHVeWNlKgQKGAQYMH4+nhgaQahHA+fn5+fPjhhz0+rr0EgBBC9Cd/+ctfejsEIUQPcMJkQy1fFJ7iX4JnUXvwY05FBzOLUj4+OJZgfzWlhV8wNjiA7m3bU0tB0nPway3qwzlULNuJ1rQvw7kCkt8vgynt5iwc/sKxdh0ZHUOqbzK51QEwplvBCiemdHfH09NYSq6lg9kNps2SFC4uuLq4SMlLIYQQQvRLl374AZVstilEv+WEyYYgHl8egBswYv4KAtwAZrJivnE+w6wXn3BwnApy4jXktD6L2WCskVuWXcHMRy0WN4yeysyKdArOZVntRltW3Ek7BzaKBFDPfgI0z8H09rvNiv5qkIsLSqWyw0SDiWXCwUWhQNH6I4QQQgjh9BQKFMCFC9/zww8N3Lhxo/MlpgoFd/uMQalU3rYQhRA/nhMmG6r5r0+NezZcKP6MCz+bSzDlfPY/I5j7z46vSVDPzjLWym0nOCmr3b4LamKys4wPRyeSNaXzdmXZGjQWe2IZS9+0JhOsSuWAqVyO+bHsYtvvKVpnKjjc3pR0kESDEEIIIfoJBcYSmA0NDdy4fp2WFjpdYqpAwajRakk2COFknCrZUJafQ84h4+Njm78wPvhbDq2PyPmbRePaMpgSdzvDA6T0jeicSzdmKEiCQQghhBD9kUKhwNXVFY+hQ2lqbqaluRmwv8TU9HnI1cWpi+gJMSA5TbJh8LC7yVrp6BKJVkM8b00wQvwIkkQQQgghxEBl+hzk4uLCoMGDce0k0WDZRz4/CeF8nCbZgMIFz2GSPBBCCCGEEMKZmWcrKBS0OJpEkGSDEE7HeZINQgghhBBCiH7Bcl+qrjbOBqQMuBBOSJINQgghhBBCiF4jSySE6J9kpxUhhBBCCCGEEEL0KJnZIIQY0OxN3WxpaTH/tCffvgghhBBCCNE1mdkghBiQWlpaaG5uNv80Wfw0NzfT0tJic6zZ4pwY2HQ6HRqNBo1Gw+rVq2lsbOTdd99Fr9cDkJeXZz7eXlVVFXPnzjX3z8vLA0Cv17No0SLz8aysLHOf9uc6Grt9XPX19WRlZZnjMsWm0+lsxtTpdFZtTMfnzp1LVVVVp7Fbtm8fu+l9qaqqYtGiReaxLGOxjN/ytbWP0TKWzuIR4sewTDg78iOEEMI+mdkghBhwTB8Qm5qaGD5iJINcBwFtHxibmpqJmPnPjBx5h0UvBYbGq/zwQwOurq7GIzLLYUAyGAwUFxdTWFiIu7u7zXmdTkd1dTVpaWk256qqqsjOzmbbtm2oVCoAsrKy0Ol0+Pv7o9FomD9/Po2NjWzatMl8Y71+/XrWrFmDn59fh3Hp9XqbuOwlJCyZrqfX63n77be5//772bNnD9XV1Wi1WvO4GRkZrFy5EoAnn3ySyMhI8/Hw8HA8PDzYunWrOb6srCzy8vKIjY21ut6kSZN47733SElJsXnvGhsbKS4uxsPDgzNnzpjHMsVo+f6tXbsWvV7f4XsZGhra6esWwp72CYT2aQRTktpUFcH0F8BUllH+JgghhDWZ2SCEGFBMHySbm5vxGjackSPvYNjw4QwbrjL/jBg5ksCgCVbHhg0fzjDVCAYNdjPPbpBvtAamQYMGcfnyZc6cOWNzrrKykrKyMpKTk+32PXDgAElJSeabY4CFCxdSXFyMwWCwauvh4YFKpaKwsJCEhIROEw0AQ4YM6TCuruj1ejw8PLh69SrV1dU89dRT5nMqlYrY2FiKiops+o0aNYohQ4bYHF+4cCHV1dU2yY7AwEACAwPZs2ePTZ8zZ87g4eFBZGQkhYWFduP08/NjxowZVFZWdvpedpVkEaI9yyS04do1fvjhB5uf69dv2Bxram6mqalJ/iYIIYQdMrNBCDHgmD5Qurh0L9+qVCppbmqiqalJvsUawFxdXUlJSeF3v/sdZ8+eJTMzE5VKxfnz59FqtWRmZnbY15RA6IhWq2XHjh0MGzaM3//+96hUKkaNGoW/vz9gnDWRmprKmDFjzNc1cXd3t4nLXiKgs+uBMYFgb8aGyeuvv87GjRvNMdhra7ru1atXbc7NmjWLrVu3Wi3tADh69CjBwcH4+/uTl5dnc95kzJgxnD59usv3UghHWSahr12/zqjR6nYz24wmBU+2OXb58iUu1tfTePWK+W+K/G0QQggjmdkghBhwWqD1m6ju921uTVTI91cDm7u7O2lpaWRmZpKRkYFer2fUqFEkJCSwbt26Dm+UL1++3OE5MC4Z0Gq1PP744xw9etSmT2hoKIWFhUyaNMmhuOrr6zt9Habr7dq1i/fee49Tp05x/vz5TmcGPPnkk2i1WiZNmkRlZaXdNqYkg71kh7u7O9HR0ezevdt8TK/XU1hYSGpqKvPmzeOrr77qcOzTp08zZsyYLt9LIbrDlIRWoLCbaOiIh4cnXsOGmWc3CCGEaDNwkw3nCkg2b2aVQ1nrsZz82tYGZeRoNOQctt+9LFtjsRlWa3+gNj/Z4ngyBedMPWopSLLfx5p1u5zDwOEcks1xtcaWVEBt+zhaj1m/NuMYHcVVlm0Zh/E1m9tlW5zp4PUK4ZRaWjCtyP3bX//KZ3s+dejnxo0brb2MYwihUqkYN26c+abX39+f+Ph4MjIy7N6wR0REkJ2dbW7f2NhIRkYG06dPR6lUmtuFh4ebN3Fs36c7cV25cgXAfOPe2NjI8ePHGTFihN1+Xl5e+Pr6snXrVvOxqqoqdu3aRXh4uFXb6Oho9u3bZ/M6LV9TRzMk/Pz8GDlyJNXV1eb4oqOj0Wq1aLVatm7dSlmZ7V8anU6HTqfj/vvv7/S97GxmhhD2mJLQTU1N3e/bLEloIYSwZ8AuoyhIO8UTWi3Bds/WUpD0JmN3aYkZbXu2LFvDm7470WrVxgPnCkhOKiA1OwYIIHFXlrHf4Rw075cRkwQ5mudggxbtlM7jqs1P59Sv27XrIOFhFMNGbSLBGBMKuYdjSPSBgGU7yZqtbhv3tL24LF99GTka42vWjjbFkkxyfmrrONbXSc+vtRpfCGf1T/fdh/sQdz7O+8hmzbzJ2HvuYXbsHAYNGrC/MoUFg8HA008/zenTpwHM+yn893//N2CcfXD69GkSEhJsljr4+fkRHx/PvHnzzMfS09MJDQ21SiaY9knIyMjgxRdftOmTkJBgs4RAr9ezYsUKm7gWLlxo97herzcvo7A87ufnR1ZWFhqNBsBqyYZljH5+fgQGBrJ161Z8fX2t9nkwvabOhIeHs2LFCqZPn05ZWRkRERHmc3fddRfnz5/n1KlTVjFOnTqVF198EXd3907fSyG6rTUJbU5FO5hQNiX0JAkthBC2BuwnZ9+AAr44nEiwnZv/sux0WJ1lN9HAuQLeZKP1jfboGFIjjDf6ce2aB/mqqc1Pp2LZTrK6SDQAqMcEUFBcRuIU+2mQrvpWnK4Fn67bBvlaJwpq89+EDdavWT07lZlJuZTNTrTpHzBGEg2i/xg79h7mPTqf/PyP+KGhwerc+H/6J/5l9iO9FJnoi5RKpfnm15KpYgJAbGwskyZNYunSpVy8eBFou2kPDQ01V3qwpFKprMYIDQ013zjb65OVlcUnn3xifp6QkGA3LpVK1a3jAMnJyXY3uTQlIyxfp73HlkyvSaVSWfW1vH77BIG7uzsvvPACQIcxmvrZey+F+LH+9+hR9u213cjUklp9J/8S+wiyQ4MQQtg3YJMNwUlayNagWRXU9o0/ULF5gTExYC/R0CrAt7Mb7Qpy4jXkAERvRJukpjY/gJlhFrMg4nMox/q6ZlMS0ZKDRvMcQe1mJ3SlrLiAgOmJ5teh2Qy0XmeqnbjavSrGdpqkKOA5TQGAMS4HEidCOBP1nXcy79H5fJz3Ed9/XwfAxIk/5RcPPdzLkQln5efnx4cffnjLxu8oISCE+PEmBQejVLpRWPCx3fO+Y8cye/YjKN3dbZLUQgghjAbung0YEw5abSqkte1hELBsJ09UL2i3R4K1iuqOzxmXUWjRajcSU/hF694GFZyqaT09OoYsrZaN0Z0MMSURrVZLKumdxmFUwHOteym86buTxCltr8O49tWU0LAXl9WraovRrhg2arVodyXCga/oKiohnNGIESOY9+ivuOvuu5kS+jNJNAghxAB2X2AQc+Lm2Syhu/fe8cx7dD5K2RtECCE6NaCTDUZqpkZgdaMdnLSTmQcW2N8ccnQMT/CcdRLgcA4LDswkzurb/mDillXwZn4t6tlPwCrLzSIdjCxsJlTXgs9Y6xv8w19QEOCLcW5CaxJAq3VwFkRbXFbXshNjWfYC9kfEWe9rMTqGJwJyyO10HwkhnJeHpyfzHp1PxMx/7u1QhBBC9DI/P3/mPTqfoR4eAEy4fyKzH5kj5S2FEMIBA3YZRUGShpzjrU+iN6KdDZhvtNXEZG8kR6Mh2c5ShuCkncxMMi1TAAIT2ZkdgxqsvvE37nmwgJwxWhJ3zSTZtIzBdE07SzVq85NZsLm89VkMG7UxQDCpEcks0ORYHO98T4e2ZRTGZQ+pHcT1YNursomxo2UcwUkb+UKTTIG9ZSBC9AODBw/u7RCEEEL0EXf7+DDv0fn879FSZv5zZG+HI4QQTkNx6kRlr2+dO1p9V5+dilaWreG5wrbn3d1HoVPm/RtM2io+iP7p3NkzGAwd168Xt56plrrh2jW8vUdxh/eobvWvrPg7164ZULq54erqKt9u9QG+9/h13UgIJ6HX6/n888/Nz+Pi2raePlNTbS7BK3qO5d+FpqYm7p84qVv9f2hooKamWv4u3GJ9+X5BiJ7Un+4XBuzMBkcFJ2nRJt2iwUfHkKWNuUWDCyE6pFCgABobG7l65QpDhg51qNvFi/U0NzcZdx6XD5NCCCGEEEJ0SJINQogBRwG4uLhw4R/fc/XqFZqamq3qo1+7fp1jx44REmwxz0ihAFq4ZjDg7u4upc6EEKI/aU1Cuw12o/HqVdyHDHG4a1NT062LSwghnJgkG4QQA45CocDV1ZXBbm780NDAjRtNtNCWbDA0Gjh5ogo/v3FtfVAwaJArQ4YOlWmyQgjRz5iS0I2NV6mv1zOsxXaVccMPP/CTn3iisEg3X79xnXPnamXGmxBC2CHJBiHEgGJKEri4uDB40CBcPDxobm6mpaWFltYPl4NcXVEqlXi27j6uUChQKBS4uLjg6uqKi4uL+ZgQQgjnZ5mEPvNdDdWnTlkloQH2frYXjeafcXF1NfZBgUIBgwYPxtPDQ2a8CSFEO30i2aBwceH69Wu9HYYQt9zgwYP7zYYvzsyUOABj0sEy0QDGzcIGDx6MUqm06mOZdJBEgxBC9A+OJKEBlO5KPDw8rGa3KVxccG1NRMvfBSGEsNYnkg0tzc24ye6yYgC4fv16b4cgWlkmHFraTZcdNGgQrq6uDBo0yKaP5X+FEEL0D10loQEGDxqEUqnE1TSzwSLh4GKRkBZCCGHk0tsBCCFEb2k/U0HR7sOivdkM8kFSAOh0OjQaDRqNhtWrV9PY2Mi7776LXq8HIC8vz3y8vaqqKubOnWvun5eXBxhLHi5atMh8PCsry9yn/bmOxm4fV319PVlZWea4TLHpdDqbMU1xZGVl2VzH8tiiRYvQ6/Xo9Xreffddq3FNbebOnUtVVVWnr1eIvsZyuZwp4Wz50/6YqZ2r/H0QQgi7+sTMBiGE6G2WHxLbJx2EsGQwGCguLqawsBB3O7PydDod1dXVpKWl2ZyrqqoiOzubbdu2oVKpAOPNvU6nw9/fH41Gw/z582lsbGTTpk3mG/b169ezZs0a/Pz8OoxLr9fbxGUvIWHJ8npbt25Fr9czatQoPvjgA3N8gNWxvLw8ioqKCA8PN5/Py8ujuroarVZrjiUjI4OVK1cC8OSTTxIZGWk+Hh4ebjW+EH2FZbK5/cwG0/H2fy9EX1dLWuo/WNP67BGND7sjht3aSx6rZM65O9g9+nsURz1oeUxtv93fTvPp8Lt4aLRrBwM1ceLLM9RPHUOI3LUJJyQzG4QQQohuGDRoEJcvX+bMmTM25yorKykrKyM5Odlu3wMHDpCUlGR1o71w4UKKi4sxGAxWbT08PFCpVBQWFpKQkNBpogFgyJAhHcbVFXd3dzw8PKxmQHRmzJgx5sd6vZ7q6mqeeuop8zGVSkVsbCxFRUU2fUeNGsWQbpQVFKK3tJ/xZu9HOImJI2lJn0BL+oRbn2iwNMG/40QDwL2eNO45wafn7JVPbeLElyfYfM1TEg3CaUmyQQghhOgGV1dXUlJS2L59u3lJAcD58+fZsmULc+bM6bCvKYHQEa1Wi0ajIT4+nujoaFQqFaNGjcLf3x9oWyZheV0Td3d3u3E5Qq/Xc+LECVQqFefPn2fevHlWSzksjwGEhoZa9R81apTdWR4mr7/+OhqNhhUrVrBw4cJO2wohxK1W8s4x5hy4aH6cduwi72yq5J0Df0WRegxFaiUlgHFWxDHrY3WnmPPOKd7ZZDxuGodjla3tjpF2tPVCdaeY804tYBw/7Z1jKDadotYUiIuKRxaOtJNwMCUaRpIRLrPAhPOSZIMQQgjRTe7u7qSlpZGZmUlGRoZ5+UFCQgLr1q3r8Eb/8uXLnSYBNBoNWq2Wxx9/nKNHj9r0CQ0NpbCwkEmTJjkUV319faevw5TcWLp0KYsXLzYnNz744AO0Wq15hobp2NatWzl+/LjN8ozz5893umTjySefRKvVMmnSJCorKzuNSQghetzX/2hLBByDsMd8mFP2PSXHKslQ+7B6AkAju7nTOAMiHh54pxZQs7p1RsRZzXUOHDONdxUWTKAlfSSTtd9TQi1pu+DL1rYR2Pt92AiTJtCSMharuQ42CQdJNIj+Q5INQgghxE1SqVSMGzfOnAzw9/cnPj6ejIwMuzffERERZGdnm9s3NjaSkZHB9OnTrUqthoeHmzdxbN+nO3FduXIFwHyD39jYyPHjxxkxYgTQltz48MMPu1ymAeDn54eHhwfffPON1bV8fX3ZunWr+VhVVe2rbxMAACAASURBVBW7du2y2tcBIDo6mn379nW5l4QQQvQoi2UUxsTCMB5bMIiMvYPYbF5W4c5K0+MJHqyvNVDLRfMMhju1TRw51zqLYeJwHvMGGMI4b6DOwJGJHoS1jhQ2yd7sLXciJnQQn0XCYfPHkmgQ/YckG4QQQvQpppJzjv7cbgaDwaqKw8iRI61u1ENDQwkNDSUhIcEmQeDn50d8fLx5SUJ0dDSxsbE2yxJMex5kZGRw11132fTx9fW1WY7RvrqEKa6FCxeyZcsWc9/AwMBOEwuWSybsLcdYuHAhu3bt4tSpU+ZjsbGxAOZrr1+/nrVr19rE6OfnR2BgoFViQjiupaXv//sQwjlc5J2dN1gZdYNlpmUQXOdEXevDY5dZo1bCge9bZzBM4Kymo00cAW8lk7++3Lr0AkqO3kRCtTXhMPkeSTSI/kNx6kRlr/8lGq2+C6Ws3xQDwLmzZzAY5Bu9vq6xsZH9+/fz8MMP93YoA47VjZLxQJd9/ALG3/K4bkZVVRXPP/88Fy8aP8iOGTOGzMzMHqvCkJWVxSeffGJ+npCQYL7pF85Lr9fz+eefm5/HxcWZH1dXn+TGtWtdD6JQoEAq6/S0/Px8oqOjcXXt5KZT3DI3f79gXY2CiSP5kn9wYNIEVk+4yDubajgR5cO4vWfZTRMf1QG482W6P2HHKlHsMn5ue8TbFYLvZPfEeuZolex+TI1xL4bvGZfiz7gDf+VOrXHfhfUT3TmivsOi7RBzuzA7EQphqT/dLzh5skFK2Qjn0p9+efRnkmzoHaYkQ3NzM0OGejB48GC6+gOlAO7wHnU7whPitugs2VB3/jwKBQ79u7h27RpXLl/C1dUVFxcXSTj0AEk29K5b++XkRUkGiD6jP90vOP9t7sSRnZeUuVUm+NPS0borMJayefsEn84aZyfhYLHxi/P/HxBCiB7T3NLC9evXGTt6NK6u8gtSCEsj77gDFxfHV8CeOnmCG9evmRMNknAQQghxO/WzT3KmqVCmaVFnYcGdsPN7CL7O49omzNOirGZFtE2VmnNuEJO1l1gDrI9v3UTGYgrV+onuoMZYysZiWtQJdSNraj05a9ph1kXFIwvhI5uEg+wwK4QQ7ZlnNTQ1gcJFEg1C9ICWlhaamppkZoMQXRrGYym3eHa0EAOQ828QaVXKZhiPpYyEvacoOXCWE1H3te4U63gpm4+0N4hIn0BLiidH9p6iVkrZCCHEbdHcuoSio30aioqK+PnPf36boxKib/v5z3/OSy+9ZPecaVlSr6+XFUIIMSA5f7LBppSNmtVRN3igdnjrc+hOKZtHNHcY12p5K5kMUspGiAFKdnHvHc3NzTS3NJufl5WVcfLkSbtt8/Pzb1dYQvQp+fn51NfX2xw/efIkRUVFbQe6sdGqEEII0dOcP9lgo5a0vYP4Ul1P2jHTMSllI4RwXEtLC25ublal/cRtYL4xajtUVFTET3/6U5544glz0uGPf/wj/v7+ZGVldZiIEKI/y8/Px9fXl6ysLAAuXrzI8uXL+elPf0pZWVkvR9c/VVZW8pOf/KS3wxBCCKfi/Itiv/4HitR/GB9P9ORPtVcZt+A+wrxrOZD6V95JuROA3TuP8bi5lI0a9bFKHt90jMcxlbLp6AJqFmv+yp2pxszF+ok3uQuui4qwSTfXVQhxew0ZMoSf/exnFBcXU1FRwfDhw3s7pH7v0qVLDBkyhOvXr+Pp+RMCJ9wPwLPPPsu//uu/8oc//IGkpCR++OEHALZv3054eHhvhixEr/njH//Is88+y/LlyykqKqKoqIhf//rXVFdXW/2+OlVdzdkz37X+u/KUfRtu0oULF7hx4wbTp0+XShRCiFuvH/2udvJkg5rV6WpWd3IOLvIOg1mZch+7LU9P8KclvX2fYeyeYNE/pfVhxH20RNhp+5jxkWwoI0T/o1Kp+P/s3Xtc1GXe//EXB+Uwig4uZKajArWiFuiSSdpK+hvMvUOlxO1grquWrZmVlqthq2zrbZnaYmlRam3rth4yXPG+U6d18S6zw6RQptYCJhi5oI4HBofk8PsDmRgOOhCKwvv5ePCQ+X6v6/p+vgjK9zOf67oGDRrEqVOnmjuUVsHT05P27dtz7ty5WlubZWRksHPnTgDat2/P559/zs6dO4mMjFQiSFqtjIwMPv/8c+e77V9++SUZGRkuSbh27QwEBgZy1uHA2LGjkg2N1KlTJwIDAwkICGjuUFq1kh9KLuHWlyJXhrKyssr1q1qIqzzZICJy6RiNRoxGTX26HLp3705ZWRklP/zgMo1i/vz5LF26lGXLljFv3jySkpJ44403mD9/PiaTqdY7uRfjcDg4e/Zsvef9/Pzw1S+zcoWLiIggMDCQzZs3k5SUxJAhQ+jRowcPPPAAY8aM4cUXXwSgU2AnDAYDPm3b4uXlpWSDXNVOn7RReq4UTy9PrUMiLVbJDz9w7oeS5g6jyXgcPpTd7D+t13TuokyltAr/+T6fkpJGrPsh0sJVbdFXlWyomkZRtQhex44dSU9PJykpiX/9619A5WJ4PXr0aNB10tLSsFgs9OrVq87z0dHR9OvX7yfcichPY7PZeP/9952vExISnJ+Xl5fj6enp8r1/++23M2TIEOeOFNXPHcrOwlHiULJBRESahSobRETkinWhqoWGJhoAhg0bxsGDB4mNjSUsLOynhCbSbC70vd+YnwsREZFLQckGERG5Mnh44HH+z7rExMT85EUh/f39mTBhAkuWLGHy5MlKOMhVr6rSR0RE5ErTAre+FBGRq5WnpyclJSUU2+2X7BpBQUFMnjyZlStXUlhYePEOdbBarZjNZsxmM4mJiTgcDv7+979js9kASE1NdR6vYrPZmDhxorOf2Wxm4sSJfPvtty7Hq7YzrJKamupyLCcnh4kTJ5KTk+PSxmq1ApCcnOwcKzU11SXmmjE5HA4SExPrvHZd7WveQ81Y5cpSXlFxwQSeiIjIpaTKBhERuSJ4enjg6elJmzbe/Oc/R6moqKDiIouAeXh4EBLa8OqEsLAwRo8ezauvvsrMmTPx9/d3u29JSQm7du0iLS2tzsUkrVYrubm5LFiwwOW40Whk9erV2Gw23nrrLaZMmYKvry82mw2z2cy9996Lw+Fg6dKl5OTkEBISgs1m48CBA0Dlg37VgqURERGsXbuWGTNmuMRgtVoxmUxYLBaXazscDnbt2oXBYCA/P9859syZM5k6dWqtWOtrn5SUxNy5cwkJCQEqkxypqanEx8e7/fWTxjtyJI/Sc+fc+rkoLy+j2G7H19cXpRpERKQ5XBGVDZ7as1haidKysuYOQeSK5OHhgYeHB55eXnh5eXHSdoLjxwo5fuwYx44V1v/RyMoEgFtuuYVOnTqxbdu2BvXz9vbGbreTn59f61x2djYZGRk89thjjY7LYDA4kwrZ2dmEh4cTHh5Oenq6s03Vsffee8+lb2BgIAcOHHCpRgDIz8/HYDAQGxtLWloaAOnp6cTFxREVFVUrhvrajxs3zploABgxYgS5ubnOig65tIpOn+JY4QV+Hqr9XJw+dYo2WhhSRESa0RVR2XC8sAA/f398fP2aOxSRS6SCM2fO4OnhgdINIvXz9PDA29sbf39/ysvLne/g1vVO7k99gPrkk084fvw4EyZMaFA/Ly8vZsyYwbPPPsv333/PkiVLMBqNFBQUYLFYWLJkSYNjsVgsrF69mg4dOrBo0SJnsiEjI4OhQ4cCsHbtWkaMGOHsM2LECFJSUlwe9ENCQrjnnnsYN24ct912mzPpkZmZSWRkJKGhoaSmpmKz2TAYDPWuWVFf+8DAwAbfmzQdXz8/PDw8Llj140zceXri5eWFp6en85iIiMjldEUkG374oYQffigB9M6IiEhrVfUw5OXlhYenJxXl5UDdiYaafRoqKyuLTZs2NXgKRRVfX18WLFiAzWZj8eLFPPnkkwQHBzN16lSSkpKYN2+eM2HgjqppFKmpqWRmZhISEkJOTg5bt25l3bp1AHTo0MGlmsLX15e4uDg2btxIp06dnMdDQkJ45513sFqtJCcnM378eNLS0sjLy3O2yc7Oxm63c+LECZdKBaicrtGQ9nL5eHt7U9G2rVvTKKonHZRoEBGR5nBFTKMQERGBHx+SvM6/K+vl5YW3t3e9H16NmIZXWFjIypUrmTx5MkFBQT8pXqPRSM+ePZ3VBaGhoYwbN47FixfXmsrgjpiYGKxWKzabjczMTGbPno3FYsFisTB79mwyMzNd2oeEhNCpUydyc3NrjRUaGgrAgQMHiIuLc46TkpJCRkYGERERrFixwmWhSahMLNTVPiYmhjVr1ri0T0lJwWQyNSixIo3n5Xnxn4mqn4vqVQ0iIiLNQckGERG5otR8R/ZiHw1RXFzMm2+++ZO2vSwpKXHZkaFTp04u7/ZHRUURFRXF1KlTG7yWgdFoJD4+nkWLFnHo0CFnwgAqkwdWq5VTp0659ImJiXEmIarvkvHggw8SFxfH/v37iYiIcLbv0qULBQUFAMydO5dZs2a57C5RlYio2d5mszF9+nSX9iaTSYtDXkYeHrj1c6GpEyIiciXwOHwo+8K1eCIiIlcwUw/3y/rT0tKwWCz06tWrzvPR0dH069evSeLKyclh1qxZzuRAt27dnOs7iNTHZrPx/vvvO18nJCQ4P88/kktpaWlzhCUiItJgV8SaDSIiIpeD2Wxm8ODB9Z7382u6hYqr1k4QERERaY2UbBARkVbD19cXX1/f5g5DREREpMXTmg0iIiIiIiIi0qSUbBARERERERGRJqVkg4iIiIiIiIg0KSUbRERERERERKRJKdkgIiIiIiIiIk1KyQYRERERERERaVJKNoiIiIiIiIhIk1KyQURERERERESalJINIiIiIiIiItKklGwQERFpIKvVitlsxmw2k5iYiMPh4O9//zs2mw2A1NRU5/Ga/VJTU52vbTYbycnJOByOWn0cDgfJycnYbDZycnLYvn07AMnJyc5rm81ml/FqcjgcJCYmOttOnDgRm81GampqrWM17+mjjz5yuY7ZbHbGM3HiRJdjVarHVjVu9Xuv62siIiIiLZN3cwcgIiJyNSkpKWHXrl2kpaXh6+tb67zVaiU3N5cFCxY0aFyDwYDBYOC9994jPj6+3nbBwcGsX78eo9GIw+Hg2WefpVu3bkRFRbm0s9lszJw5k6lTp9aKxWAwkJKSQkhIiLNtXfdksViwWq3k5eURHx+PzWYjKSmJuXPnOvumpqaSmppKfHy8S2ypqamkp6cTHx+Pw+Fg165dGAwG8vPznX1FRESk5VJlg4iISAN4e3tjt9vJz8+vdS47O5uMjAwee+yxRo09atQoDhw4QE5OjlvtfX19mTRpEhkZGbXOpaenExcXVysJURc/P79676nmmOPGjXNJFowYMYLc3FyXKoYq3bp1AyA/Px+DwUBsbCxpaWkXjUdERESufko2iIiINICXlxczZsxg1apVLlMFCgoKWLFiBXfffXejx/bz8+Oee+5hx44dbvcxGo3Y7fZa0xMMBgMREREA5OTkMGbMGMaMGUNOTg52u50pU6Y4p0wAdd5TTQaDgcDAwHpjKSgoYOzYsZjNZgBnoiMzM5PIyEhCQ0MpKCiod3wRERFpOTSNQkREpIF8fX1ZsGABNpuNxYsX8+STTxIcHMzUqVNJSkpi3rx5GI3GRo0dEhJCZmYmn332mVvtbTYbBoOh1pQOu93OiRMnCAkJISQkhHfeeYeVK1cCtadRVKl5TzXvofqYdamaRmGz2Vi7di0jRozg7NmzpKWlkZeX52yXnZ3tVsWFiIiIXL1U2SAiItJIRqORnj17Ot+pDw0NZdy4cSxevLjOhRADAwM5cOCA81x2djZArUTBiBEj2LNnz0Wvb7PZWLZsGUOHDq11LiYmhjVr1rg9JaO+e7rYmCkpKZhMJpfEREhICAaDgX379pGdnU1cXBwWiwWLxUJKSkqd0z5ERESkZVFlg4iISAOUlJTwu9/9zvlO/dSpUwkJCeGTTz4BKqcO5OXlMXXqVJYsWVLrITw8PJy4uDigck2DJUuW1LqGr68vgwYNYsWKFbXOVU1VAOjQoQOLFi2qs9LAaDQyffp0Zs2axalTpwC48847nZUTU6ZMcY4xd+5cli1bVuue3Blz6tSpdS5oOX78eJKSkujatSt33XWX83iXLl0oKCggJydHC0WKiIi0YB6HD2VXNHcQIiIijWXqcWU+sObk5Lg8lFclFho7veJCqnaeqEoWXCgJIVc2m83G+++/73ydkJDg/Dz/SC6lpaXNEZaIiEiDqbJBRETkEqhaJ+FyMBqNrF69+rJcS0RERMQdWrNBRERERERERJqUkg0iIiIiIiIi0qSUbBARERERERGRJqVkg4iIiIiIiIg0KSUbRERERERERKRJKdkgIiIiIiIiIk1KW1+KiEir4XA4OHv2bL3n/fz88PX1vYwRiYiIiLRMSjaIiEirYbFYsFgs9OrVq87z0dHR9OvX7zJHJSIiItLyKNkgIiKtxrBhwzh48CCxsbGEhYU1dzgiIiIiLZbWbBARkVbD39+fCRMmsHLlSrKyspo7HBEREZEWS8kGERFpVYKCgpg8eTIrV66ksLCwwf2PHTtGamqqy7HU1FSsVisOh4PExESsVqvzXE5ODtu3b3dpb7PZmDhxImazGbPZTHJysvNccnKy8/jEiROx2Wy1YqjZPzU1lZycHCZOnEhOTo5LW6vVSmJiIg6Hg9TU1Fpj5+TkMGbMGOdxq9Va51hV91jzfhwOB8nJyS5xpqamutxTzWvUvK/qcY0ZM6bWPYiIiMjVR8kGERFpdcLCwhg9ejSvvvoqxcXFDerbvn17cnNzcTgcQOXDdm5uLqGhoezbtw+DwUBGRka9/W02G0lJScydO9e5hoTJZHImMIKDg1m/fj0Wi4W4uDjS09PrHMdsNjv7x8fHA3DttdeSmZnpbONwONi+fTvBwcEAGAwGUlJSsFgsTJ061Tn2Qw895BwrKioKgIiICNauXeu8T3fZbDYOHDiA3W53SShUv8bUqVNZvHixMwGSm5vrPPf666+zatWqOpMsIiIicvVQskFERFqlW265hU6dOrFt27YG9fPx8cFgMJCfnw/Avn37ADAajWRkZDBq1CgKCgrqfXc+PT2dcePGERIS4jw2YsQIcnNz63zA7tatm9ux3XzzzS7j5Ofn06NHjzrbBgYGcvz48XrHCg8PJzw8nPfee8/t6wNkZ2c7+9aXKImKiqJnz54cPHiQ3NxcpkyZ4jxnNBqJj4+vt6+IiIhcHZRsEBGRVumTTz7h+PHjDB8+vMF9IyMjSUtLAyAjI4O4uDhsNht2u53Q0FDCw8NdKgyqMxgMBAYG1jt2QUEBY8eOxWw2AzgrDWqyWCwuUx+gck0Kk8lEdna28x4HDhxYZ//MzEw6deoEwGuvvVbnFIb6kiBV7c1mM3FxcS73mpGRQUREBBERERw4cKDeyohOnTphs9kIDg7WdqMiIiItkHajEBGRVicrK4tNmzYxc+ZM/P39G9y/b9++7Nq1i5ycHOx2O126dOG9995jy5YtbNmyBYABAwYwYsSIWn3tdjsnTpxwqWyormoahc1mY+3atYwYMaLOh3Gz2cy9997rfF2VJIiJieGtt97Cz88Pu92O0Wh0uXZVFcGdd97JY489Rk5ODg899BCxsbG1xvL19SUuLo6NGzc6ExOAS3uHw0FKSoqz39atW1m3bh0AHTp0cFaA1HT8+HF69uzJF198gcPhUMJBRESkhVFlg4iItCqFhYWsXLmSyZMnExQU1KgxfH19MZlMpKWlYTKZAMjNzXWutWCxWOjZs2edD9oxMTGsWbPGpYIgJSUFk8nkkhgICQnBYDA4p2m4y2g0YjKZePvttxk6dKjLueprNjz22GNujRcSEkKnTp3Izc29aNvMzExmz57t/BrMnj27zgqP1NRU7HY7kZGRmEwmZ7ICKhMWa9asISYmxq34RERE5MqkZIOIiLQaxcXFvPnmm0yePJmwsLCfNFZERASZmZlERESQn5+PwWBwSRZUn2pRfdpBdnY206dPZ9asWc5jJpPJuchjdePHj6+VmKhSfRpF9Z0fqmIzGAx06dLFrXupHl/NnTagMkFS37SQKiUlJc6FMquEhoZitVo5deqUyzVyc3OdyY6q+64696c//Yl58+a5fC1FRETk6uNx+FB2RXMHISIi0limHnVPR6hLWloaFouFXr161Xk+Ojqafv36NVVoTcJmszFz5kzy8vKAyqkJixYtqncahlzdbDYb77//vvN1QkKC8/P8I7mUlpY2R1giIiINpjUbRESk1TCbzQwePLje835+fpcxGvcYjUZWr17d3GGIiIiINIiSDSIi0mr4+vpqIUIRERGRy0BrNoiIiIiIiIhIk1KyQURERERERESalJINIiIiIiIiItKklGwQERERERERkSalZIOIiIiIiIiINCklG0RERERERESkSWnrSxERaTUcDgdnz56t97yfn5+2xhQRERFpAko2iIhIq2GxWLBYLPTq1avO89HR0fTr1+8yRyUiIiLS8ijZICIircawYcM4ePAgsbGxhIWFNXc4IiIiIi2W1mwQEZFWw9/fnwkTJrBy5UqysrIaNcaxY8dITU11OZaamorVasXhcJCYmIjVanWey8nJYfv27S7tbTYbEydOxGw2YzabSU5Odp5LTk52Hp84cSI2m61WDDabjb///e8ux7Zv305OTs4Fx3c4HCQnJ7uMWRV79ThTU1OdfWvGB2C1WklMTMThcNR5vTFjxjhjqfoajBkzxnm+5tdPREREWh4lG0REpFUJCgpi8uTJrFy5ksLCwgb3b9++Pbm5uc4HbYfDQW5uLqGhoezbtw+DwUBGRka9/W02G0lJScydO9c5rcNkMjkfwIODg1m/fj0Wi4W4uDjS09MbFF9949dMGFyIwWAgJSXF2R9wxudwONi1axcGg4H8/HxnH7PZ7Gy/aNEili1bhs1mIycnh2XLlvH66687z+fm5rokZERERKTlUbJBRERanbCwMEaPHs2rr75KcXFxg/r6+Pi4PGjv27cPAKPRSEZGBqNGjaKgoMDlnf3q0tPTGTduHCEhIc5jI0aMIDc3t84qhm7dujUovvT0dIYMGVJrfICTJ082aKwq48ePdyZY8vPzMRgMxMbGkpaWVmf7kJAQhgwZQnZ2Njt27GD69OkYjUaX8Xbt2uVM2IiIiEjLo2SDiIi0SrfccgudOnVi27ZtDe4bGRnpfNDOyMggLi4Om82G3W4nNDSU8PBwMjMz6+xrMBgIDAysd+yCggLGjh2L2WwGICoqqsHx1ZWgsNvtdSYz3OHn5wfA2bNnyczMJDIyktDQUAoKCuods1u3buTl5WEwGFwSDSIiItI6KNkgIiKt0ieffMLx48cZPnx4g/v27dsXqFyLwG6306VLF9LT09myZQtxcXGsWLHCuYZDTXa7nRMnTtQ7dtU0ipSUFA4cONCod//z8vJqHfspD/1V24WWlJSQlpbGnDlzGDt2LJ9++inZ2dn1xtCtW7eflOQQERGRq5eSDSIi0upkZWWxadMmHn74Yfz9/Rvc39fXF5PJRFpaGiaTCYDc3FznWgsWi4WePXu6rGlQJSYmhjVr1rhMs0hJScFkMrkkA0JCQjAYDM5pGu6KiYlh586dtcYH6Ny5M4AzQeBwODhw4MAFKy0cDgeLFy9m0KBBHDlyhLi4OOc9pqSk1Lk+hdVqxWq10rdvX4YOHepcv6HmeL6+vg26NxEREbl6aOtLERFpVQoLC1m5ciWTJ08mKCio0eNERESQlpZGXFyccx2D6smCqqkWcXFxvPbaa7zwwgsALFy4kOnTpzNr1ixOnToFwNSpU4mPj691jfHjx5OUlERgYKDLGgwAFouF1atXO/sbDAagcu2ImuMPGDCAZ555xjnmzJkzndUPU6dOJSQkxCU5YbfbmTJlivP1woULiYqKYuXKlQwdOtR5vEuXLhQUFHD48GGXeKqu5+vrS0hICOPGjWPs2LG1xhMREZGWy+PwoeyK5g5CRESksUw9Qi7e6Lzi4mKWL19OfHw8YWFhlzCqpmOz2VySAx06dGDRokW1kg8XYrVamTNnTr1JDbly2Gw23n//fefrhIQE5+f5R3IpLS1tjrBEREQaTMkGERG5qjUk2ZCWlobFYqFXr151no+OjqZfv35NFZpIgynZICIiLYWmUYiISKthNpsZPHhwveerdl0QERERkZ9GyQYREWk1fH19tSihiIiIyGWg3ShEREREREREpEkp2SAiIiIiIiIiTUrJBhERERERERFpUko2iIiIiIiIiEiTUrJBRERERERERJqUdqMQEZFWw+FwcPbs2XrP+/n5abcKERERkSagZIOIiLQaFosFi8VCr1696jwfHR1Nv379LnNUIiIiIi2Pkg0iItJqDBs2jIMHDxIbG0tYWFhzhyMiIiLSYmnNBhERaTX8/f2ZMGECK1euJCsrq1FjHDt2jNTUVJdjqampWK1WHA4HiYmJWK1W57mcnBy2b9/u0t5mszFx4kTMZjNms5nk5GTnueTkZOfxiRMnYrPZasVQs3/1eFJTU13Gq6t9YmIiDofD7euJiIiINJSSDSIi0qoEBQUxefJkVq5cSWFhYYP7t2/fntzcXOfDusPhIDc3l9DQUPbt24fBYCAjI6Pe/jabjaSkJObOneuc1mEymZwJg+DgYNavX4/FYiEuLo709PQ6xzGbzVgsFtLS0sjNzcVms2Gz2Thw4AB2u92ZNMjJyWHmzJku11uwYAG+vr4kJydjMpmcx+fOncsrr7zivDcRERGRxlKyQUREWp2wsDBGjx7Nq6++SnFxcYP6+vj4YDAYyM/PB2Dfvn0AGI1GMjIyGDVqFAUFBeTk5NTZPz09nXHjxhESEuI8NmLECGfCoKZu3bpdMB5fX18MBgM2V6L2ngAAIABJREFUm43s7GzCw8MJDw93JinS0tKYOnWqy/WgMglhMBiIj493HgsJCSE8PNx5TyIiIiKNpWSDiIi0SrfccgudOnVi27ZtDe4bGRlJWloaABkZGcTFxWGz2bDb7YSGhhIeHk5mZmadfQ0GA4GBgfWOXVBQwNixYzGbzQBERUVdMBabzcahQ4ecyY6IiAgiIiI4cOAADoeD4OBgQkNDAbBarc7pEqdOncJkMjX43kVERETcoWSDiIi0Sp988gnHjx9n+PDhDe7bt29foLI6wG6306VLF9LT09myZQtxcXGsWLHCuYZDTXa7nRMnTtQ7dtU0ipSUFGfCoC4WiwWz2cyDDz7IpEmTsNlsbN26lSlTpjBlyhT27NlDfn6+y5SKqKgo0tLSiIiIACA3N7fB9y4iIiLiDiUbRESk1cnKymLTpk08/PDD+Pv7N7i/r68vJpOJtLQ0Z3VAbm6uc60Fi8VCz549nVMtqouJiWHNmjUu0yxSUlIwmUwYjUbnsZCQEAwGQ71TGqrWbHjnnXcICQkhMzOT2bNnO68/e/ZsMjMzGTp0KMuWLas1RaNHjx7Y7XaXxSWtVitWq9WZTBERERFpLCUbRESkVSksLGTlypVMnjyZoKCgRo8TERFBZmYmERER5OfnYzAYXJIF1adavPbaa84dH7Kzs5k+fTqzZs1yHjOZTC5rJ1QZP358rcREXaovUlklNDQUq9WK0Whk3LhxzqkZcXFxzsTGlClTnFMrqna1eOaZZ/D19W3010VEREQEwOPwoeyK5g5CRESksUw9Qi7e6Lzi4mKWL19OfHw8YWFhlzCqpmOz2Zg5cyZ5eXkAdOjQgUWLFtVa8FFaBpvNxvvvv+98nZCQ4Pw8/0gupaWlzRGWiIhIg3k3dwAiIiKXyz//+U/y8vLYvn0727dvr3U+Ojqafv36NUNk9TMajaxevbq5wxARERFpECUbRESk1TCbzQwePLje835+fpcxGhEREZGWS8kGERFpNXx9fbUegYi0KN7e3vgb2uHl7Y1Hcwcjcol4enpx5vQpSkrq3qFJrkxKNlwCHh4eeHnrSystV1lpKRUVWu5FRESkubX18aWjMbC5wxC55MrKy5RsuMroibiJtWvfnsBOjV/dXORqceJ4IUVnzjR3GCIiLYq/vz8dO3bk5MmTXHPNNc0djlwFlPyX1qJt27bNHYI0kJINTczbu01zhyByWeh7Xa4UJQ69yyEtyy0DBlBaVkYbb2+X7+82bdtqNwqppby8vLlDEBGpk5INIiJyVfPRGgzSwtT3PX3u2A+XORIREZHG82zuAFoalbJJa6HvdRERkSuA/j8WkSuUkg0iIiIiIiJyZVNe7aqjZEMT08+AtBb6XhcRERERkfoo2SAiIiIiIiIiTUoLRIqIiIiItEAlJSUsXbKYzz/f0+gxfvGL/syY+SQ+Pj5NGJmItAZKNoiIiIiItEDl5eUcO3ac/7rzTn7+8xsa3P/rr79h35dfantNuaTKy8txOBz4+/s3dyjSxJRsuKz2svqueWz+KUP8KolNk/s1VUAiIiIiIiKNUlRURFZWFidPnqR79+5cd911tG3btkFjbNmyheeff563336b7t27X6JIpTko2XCZFXwJA1+cQ4yx4X0Ldy5k5vGmj0mkJkcR+LZr7ihERESkKaxbu5Z27Rr+H3tRURF9+vSp81xBQQGLnn+ebdu2UlJSQkJCAn+YN5+0tM3s/mg3f1qwgPz8fH4/axbPL1pEaGgop0+f5rHp0/n1Pfdwxx13AJVbaS9dugSAUaNG8+DkSXz33XcAxMWNdI4zedJEvvvuO7y9vRk8+Db+MG8eXbt2dYkpOzvb2Q6gb9++TJw0idjY4Rd8AM7Ly2Pp0iW8b7FQUlJCUFAQK155lYiICLe/VufOnePVV1/h1uhb+UVUlNv9rkYVFRV88cUXLF26FD8/P375y19yzTXXsGXLFv71r3/Rv39/pkyZQlBQkFvjDRkyBJPJxHXXXXeJI5fLTckGaRkK97O3OJR+3Vv5fMKikxzK2sMhGxh79ie8a0d8G/hTfjJtGsaR8D+2l/lVx0sTpsgVofAwdy8t4t3zL+8yd2Xj0A4/YcBTvL30GD1nhMLbBzlk7sV97v2edRFlHPrwEKs8O/GnWxuRqRaRVu+Pzz7LgAEDGtzv008/Zd3atbWOl5WV8sqK5fj6+fLhrl106ODeLwwBAQHccsstfPjhBwwbNow2bdpgs9nYu2cPM2Y+iYeHB506/YyVq1YTGhrq0nfIkBh+P3s2ZWVlJM2fx6uvvsK8efNp06ZNne0APv/8cxb+9wK+/fZbfve7qXh5edWK6d///jePTptG3Mg4nnnmDxiNRjw8PNz9EjmVlpby7aFvueWWgQ3uezWpqKhg3bp1ZGZmsnjxYpeEwrBhw5g2bRp79+7lqaeeYs6cOfz85z+/6JgdOnQgMjLyUoYtzUS7UVx22aS9tpDnljT8Y9V72fUPe3gzSfdGc+P1YdxwfRhRy/cCsPf5MG54vvLzwo2TuWHyBgqr+hxYwdDrZ7D9dLVxyvbyXEQfnrOeb39+vBuuD+PBjYU/jlN1PCKaXz+fTmFZ7ZBc+/dnxCMLSTtwunbDH3uwYfKP16m0l+euD+M560W+qv94gvGvpFN79L08d/1kNhy9QOeyQj5e/ggjBlSLdeXeC1+wLoc38OATmym8eMsmd3LfuywYeyv/NWsx/3vAATg4kLaYJ0feyt3PvsuBk+6P1fH2mXy0eyZDlWiQVqC/uSsVC/tQsbAT/S3H2N3cAdVSxqGPDvG2ZyCTOM6Cj2zNHZCItAAHDhzg0WnTuLFvH264Powb+/bhoQcfZN++fW71r6gAe3Ex11xzDe3bBzTo2r8cMoSc7BxOnDgBQFZWFm3atCU0NMSt/u3ateOWgQM5W3yW0tLSetv5+fkxePBgfj97Du/97//y/fff12pz7tw5/vKXNzHHmnn44d8RGBhYK9Fw6FAO48c/QO/wXjzxxOMcP36csrIyNqxfz6Bbo+kd3ouPdu1ibmIiaWmbGXf/fSx+4QXsdjuJT8/hxr59GPLL29i2bSsAZWVlbEpNZcgvb+PGvn1ITHyakycb8ItaM/voo4/4/vvvefbZZ52JhvLycoqLiwHw8PCgf//+PP/886xevZrCwub4zViuFKpsuOyiefy1lSR0bnjPwo2TGZRV15kjrH5oBvtHbmDHm/0IcvfN/fAYEq5byrZd84kdcf4/ir1b+ZvxEdb1Aw4DQxaya2UCNd+cG/Lcbl6/O6jyAXvkZJ67aQ9LRtT+z6aqXcnpI+xfv5AHRyaQtWEzT0Q2bQVC6ORtfNmYjmVH2DB1OH88PYnXN+yhX9cAfGonvd1TmMXOM2GN7Nx4hzZMZtoHQ1n82kckVk8Q3P4r7nsUTu57m7n3TWboipXc1cONAdv1JLplJ+VF6hbkTU9g99tfceuXAF78bcb56oTqVRA3dqLCXFKtKqJau+q+zMbD4gB8+WhhKNF1jc1h7raU0v9LB3tqVVacTzTQicRbjUAH7vvoEAs+4vxrEZGGO3XqJAv/ewF33hnHH+b9AW/vNpSWnuNfO/7Fouef46WXX75opYK3tzfxo+OZNespvvn6Gx6dPp3rr7/erYqA7t2707FjBw4c2E9wcDCfW60MGDCAgIAOHDt2nOPHjzHijuEAPPTQFJ586qla8X/44YeEh4fj6+t70etdd911lJWVc/z48VrTLoqKivj64EFmzJhZZ9VDcXExr7/2OnPmPE2vXr1455132LB+PXfccQdbt77Hpn9sdj5w9+vfH4Bf33MPAwYMoKysjN/PnsOC/17Il198wSuvvkJ09K1kZGSwYcN61q5bT/v27UmaP49XXlnBrFm/rzOGK0lJSQn/93//x4QJE/D2rnyM/Pjjj3nuuedo164d7du3549//CNBQUFcc801xMbG8uGHHxIfH3/RcY8fP861117bqKoSuXKpsuEKUPjxKmZWq0q4ISKa0Y+s4GO3E4F2Th2FoOu6up9oAKA3sRN7k/bxHkrOH9n7zzUEJcTQ291/67rHEHsznC4uuWAzn4Cu9Ju8lJfHH+GVv9RVgeCGoxt48Po5vLLyAaKuD+PGkUvZW3w+7uerVUQU7+WVhP7ccH0fRv95K2cuMOTp7UtJ/Hocr6+awcDudSUaSti/cjKDIsK4YUACSe8dqTxcmM5zVX9nUzZTaF3IDfeugp1zGFRVSVGczYZ5CURdH8YNA4Yz8+3s81/nygqOxOeXMjqismrjyMaqyor+/HreNrerIxzWBTx5cBIbl91HeLXfCxxFP37ese99vLx+EgdmLWCvw82BRVqJPZYjeMz5Co85dobO6E7nr7JZ3Lmq2qEjhyxHgaMsWFrKkwv7VB6/z4+3/3qWu2ecfz3Dj41/PYxrAVUZ9x81ULGwD9+bz7F4xymoc2zgSxi6sM9FEg0AXvS8tSf3qcJBRH6C8vIKzp49ywsvLOLRadN4YdH5P19YxNmzZykvr3BrnOhbbyV10z/o0bMH997za/6xaRMVFRfvazAYuGXgQHbv3s2JEyf4/HMrtw4a5HzI7NTpZ7y3dRvf/DvLJdGwc2c6ETfdyC9vu43Bgwfz299OdPvBtE3bNrWmW1Tndf7B+Z13Njirct95ZwPff/89mZkZJCY+TcKYMaxbuxab7QQGgwEPDw+WLF7MN998U+d9l5WVsW3bNu6/716mT3+U48eOUVZWxqeffEK/fv259tpradeuHf9155188/U32O12t+6lOR09ehRvb2+Cg4MBOHXqFP/4xz9YtWoVa9as4YEHHmDdunXO9uHh4Xz99df88MMPFxx3y5Yt3HXXXRw6dOiSxi+Xn5INza1wM08/kE7Xh9ew49M9WD/dg3XbGp64fjfj57pbkv9zEpKG8/FTw/n1vDXsvdCUgRpCB4+l99vpfFwClO3n4/eCSPhl7x8b7JzDoPP/6NY1laEkZxvbd4bSv7c7E5N9CO0dDXuzOeJ+iDXs4VTf5VgP7uHlfqtY8V7Nr9Bptv9xHBv6Lcd68CvWDetAncUg52V/sRliYxhYz047JbsWMrNgEu/tyeKb9Bn4PL+U7adh798eYX/cBr78dxbfpIwkKGoO3/x9UmUlyL9XktC5hI+XjOQVnxnsOJjFNxsmc/r5kTy368ekzO6yaN7ak8XsKAgaupD3Ps3im4MbGP7lQt454M7X4iT/u/osjzwVTVVe35GxnPuH/hfTpv8Xw+5bzt6qpEO7aGb+7iyr3nOnTO8kR49cPeV8Ij9F1TSKj250sOMrOPqfc7zrTEAcZ+7REo4WlrDnRgPRzl5nOYQfQ6v+2QvqyN2U4vorkhd/M1eWsHW+pvIX3DrHBnAZG+pONPw4rhIOIvJTBQQE8OfkZB5/YgbD/t//4/EnZvDn5GQCAho2JeJnP/sZM2c+yfOLXmDturWcPn3KrX433zyAA/v38/Hu3Xh6etGzZ8+L9hkyJIaMzC9YvHgJ72zYQEFBgVvXOnjgAP5+fnTuXLus2MfHh2uu6cxXX31FRUUFY8YkkPnFl8TFjXS26datG2+88QbvbNzIOxs3MufpRIKCg3np5eXcPOBmpk17hK1bt9Yae8eOHRw4sJ9Vq99g5arVBHSoe00gn7ZXz3pjgYGBjBo1ylmBcfLkSQIDA+nYsfIdrx49elBUVORMLnTq1MmlfX3uvPNO3n33Xbe+D+TqomRDcysrAXbzylNTeXDSHF788xzGT53KzOW7z59zT9fRy7F+sJzhp9czfvhIXrS62TckmoQbN5BuLYH96WxgLENurHZ+yEJ2/TuLb/5d+VBcZefs6Mo5fuP2ELttA78LdztUCAyg8f+sxjB8YAB4BdD7pmh2ZtVMW2SzZ2MJsbHRBHiBz43RXHSjUK/zj+pHN/BgVXXJ+bUt9n+4hsKdCxmfMJLR4xbycWAWR3Ig9OfD2fvnOTy3cW+d61XAftLf+jEOuo9k3OgSdn7547obznNAyeFtJD0yktG/GseK7COccie5ffIjdrQbyq3OCsK9LH/6JE9u/x9Wrv4f/jnjJHNf/3HtCd/oofhaPuJiaYSTqU9ybbcnefeYGzGItBDR5nbs2XYYrmnDXc51HPpQMaM7nYN86P+lvdp6Dn705Cw7qnKdhSfZSOUUjAvpXNfYdbaswC80+AJTJSoTDo+E6r9wEWkcTy8vOne+loEDBzJs2DAGDhxI587X4tmIMv5z585RUPAf/Hz98PBw79+lHj16YDQaeemllxg0eJDbSQ4PDw+GDhvG4Ntu4+WXXuLs2bP1trXb7ezYsYM///lFJk6aRGBgYK02/v7+3H///bz1lzfZtm0bp0+f5uTJk5w5U1kX+7OfdaK0tJSPP/6Y8vJyl75+fn7cddfd/Pa3v+Xrgwedx0+frqzfLSo6g9FopE2bNmRk7OX0qcpETJ++fdm7dw/ff/89RUVFvPvuRgZGD6R9+/ZufQ2aU/v27bnhhhucrzt37ozD4eCzzz7Dbrfz3nvv0bt3b+fOHz4+PoSHh1802eDj40OXLl00haIF0m8qV4RxvL7hRWbPTCBmyDhmz3yRTSnjGj5M52gmvriZTY/DK6+7W4ofysDRobyzYzcf/996uCeG3hfvxJDndvPNwd28PuIrnn9tt5vTIk7z8c50fG7pQ2id533o0B6yqy8kU5hHNtGEXuvWBRosqFs/+GQP2WVA5wRe/3cWu56LcWnT73er2PTuZufHxEgIGLGUXWsnEfzhPIb+agX760w4VOeDT30ZltPbSPrNV0T/aTObtm3m9ze7GbxvfyZN7O+sauDk9xzqG0141UosfaMJ//f3PyYXaravR8f4xXyft5i7fuZmHCItQVB3lkee5dpMA08erao++Iq7d5wCOpM4Dm49f8zj7bPc94AfG5eef720lCfrTRxU0ye0jrHr4k3nay72i7cXHa/5KTtniIg0XmlpKUlJ8+kd3ouIm27kfYuFmU8+WWfSoGoNhhuuD+P2mCFkZ2fj7+/PgFsGcurUSW6+ecBF21fn5eXF2LG/Ji8vl/T09FrXq5puMfCWAaS++y5/Tl5GbOzweu9lYHQ0y5a9xPp1axl4ywBGxt2Jv78fN90UQYcOHXnsscdJefVVev38BgbdGk1mZibfHjrEHcOH06d3OP/a8S/GJCRUbgE5ZAhPPP4Yf37xRW6+eQC7P9rNL28bTHZWtnPr0djYWMyxsYyMu5Pogbfws6AgHnhg/FX5oO3j48P06dOxWq08/PDDdO3alV/96lfNHZZcQbRA5BXBh4DuvenXvdpjvrWR7/2XFHLk+9Pg7+N29UDokLH0HrmQJGMAk1a7k2o4zyuIIbOe4/6R45i5KZ3XR9c/laLEdoS9f3mCpz9OYMm2+moNAhg4bDhHEpfyt0ELietawt5Xl7MzZBRPdAb3siddCR0Cq/+5m6n9ouGzreyEepIb0HX000z8SwLT/juU16dFE+RTwhHbj2V5oX2Gs3PTZvYPnUTvGv9/BoTEMHGxD3m9VpF9gsokzYnTnC6DIK9Q+t/pw3PbK+MIOLKBVetCSVjbu/aNFJ/mtDGAoADgu3S2fwahD7txq76d6der2uuOt/Irx5P8LaM/k/rC3r++jWPEYn5cyqEj4W5t+9yRzl0v3krkqhfUncShP77sPLQXlbNuO1Nr9m2fUCoWuh7auLBmow7cN+N8AuC+Xj9OjegTysbz29RH39enxtgd2Hhf48IXEWkMT08PSkpK+Oabb+jRowdeXl6UlZXxzTffUFJSgqfnxR96vb29mTdvPvPmza91bsyYBMaMSQAgNDSUf6XvrHOM+++/n/vvv9/l2IXaz09Kcn4eHBzM397+e602F+pfHw8PD2686SZWv/FmnedvvOkm3k3dVOv41m3bah0bNWoUo0aNcr5++++1YwSYMOG3TJjw2wbFeaXq0KED06ZNY9q0aY0e49SpUxw6dIi+ffs6F56UlkGVDS3C16we3r+y/L/vcJ77bixvPT2cOt8Xq7YGg3MbzO4xjLwhm+zAsQysuetQXe2r8+nH1KRxZM9byPY6pg87p1sMn8SakgdY9/5CYi+wiHrAiPm89RCsGBdN1IDhPL0/mpdXT3V/wUqCSEhaSu8tk4nqH83MfR3of6Hm/v2YvWEzE0uX8+uYPtwYEc20zd2YeHd/As7H8/r1Wxn/izBuuL4Pg56qrBjZu/z81zt6PqeT5hAbBNx4B0+ULmVEr8mkFQYQu2AD4w7PYFCvMG5IWE/X51bVPd2kcwwJg9MZ36sPo18pJPQmd++1po786r8TufaDudx931w+6prI4jjtXykiIiI/CgjowIMPPsTy5S8T3uvn3HB9GOG9fs7y5S/z4IMPERDQMqumCgoKSHn1VZYlJzs/Dh3Kae6wBNi5cyePPPII3333XXOHIk3M4/ChbPeWnBW3BHQ00rFjfU/Te3nu+uWEflBt68vCzTx462ai313KxBvPpwfKTrP/rRmM/ngku1JGOredrNz68hG++f1FVyEQabyiQ+zeB/0G9rzglIuTJ22cPqkF6qT5mXq4tze7yNUu/0gupaWlzR2GXGF8fHy55toudZ47e/YscxMTndsxVldRUcGZM2coKyvDy8uL9u3b1yrl//TTT1m3di1/WrAAPz+/S3YP0rqVl5fjcDjw969nxfbzShwO/nM0/zJFJU1BdSrNLWg4s5/bw9OT+vNctee2gMhxLFgwHHf2eLganbauYdWH1VcR7kPC48O5lNX7R7YvZcP+ageCb2fSff3qrgBpxU7+awm3joT/sb3Mr1QYISIictV7d+NGPt69++INa8jP14OdXHqenp4XTTTI1UnJhmbnQ+jd81l393xKbKcpAfAJIKCF/7wFRI3jCbfWD2g6XWNn8ETs5b3m1ahj3MucPQO+7Zo7EhEREfkpvL29GTR4EEfyGrfpeJcuXejaravm0YtIo+hfjssui+2vL+VII3a3OX0gC1QtLJeBEg0iIiJXvzZt2nDXXXc3dxgi0kop2XBZBdH/kZFu7xJRU0D4SH7Xu6VOrBAREREREZGWQsmGy6orsY/PQJX8IiIi0nAX35JQRETkSqGtL0VE5Kp2/FghJQ5Hc4chcknZThwHtIGYiIhcPVTZICIiVzV70RnsRWeaO4wrTkVFBeXl5Zw7d442bdvSMySsQf2PHSvkxLFC2rRpg6enZ60t8Wpeq6KigtLSUorPnuWmiIZt0Wy3F3Ek9zBt2rbF6yLXEhERkauDKhtERERaqAoq9y+vqOcN8fnz53P77bfX07kyWeHue+nlVe3Ly+s8n56eftGERb2BioiIyFVHlQ0iIiItVUUFFZx/kD/v22+/pUePHnU2r3mu4vwY7iovL6e8/Mf2J0+eBKBjx47uXUtEGqVY1V3SCpTXk8yWK5eSDZdAfe/qiIiINLfk5GQ2b97MH/7wB+ex9PR0kpKSyMrKIi8vr3EDVyU2qqUNNm3axPTp05k5cyYRERFAZZIhKSmJjRs38sUXX9Sb+BAR99iL7XToaGzuMEQuubKyH5o7BGkgJRuamKeHB2dOn2zuMEQuOU8PzcISuRq9+OKLjBo1iqSkJNLT02nfvj0jR45k2bJlTJgwoUmvNWHCBGJiYnj88cdZsmQJADfddBMzZswgNze3zooHEWmYsrIyfP38mjsMkUvu3LlzzR2CNJCSDU2svKKCjh0DmzsMkUvu5Elbc4cgIo3Uo0cPZ0XBmTNniImJuWQVBh07dqRfv37s2LEDgKCgIHr27KlEg4iISAuntyZFRERakT//+c/cdNNNdO/enccff5yYmBh+85vf8MADDzB69OgmvVZ6ejomk4lDhw6xbNkyAFatWsXcuXO5/fbb+fbbb5v0eiIiInLlULJBRESkFYmMjOSLL75g/vz5dOjQAaic7vDll182+TSKHj16sHnzZt58801n5URMTAx5eXn85je/0XoNIiIiLZimUYiIiLQiMTExdR7v2LFjk1c2VJ+uUVNTJzZERETkyqJkg4iISCs1f/78phvMwwMPwMPDo87TMTExLltwioiISMumaRQiIiIt1UUSABfSmFW/PT098fTwxOFwNKhfeZm2jBYREWlpVNkgIiLSQnlQmQAoOnOa3MPf4uPjQ/XaAntREcXFxQQFB7v0Ky8ro9huxwPAzUSFp4cHnp6etGnjTcF/jta6Vum5cxw9epSu3bq5dqyo4Mzp0w26loiIiFz5lGwQERFpoTw8PPDy8qJN27YcKyygtLSMimopgPz8fAr+U0Bkv8gf++CBhwd4t2lDO4MBdx7/qyonPL288PLy4vixQkpLS6mowHm9Yrudzz6zMiRmyE+6loiIiFwdlGwQERFpgZwJAE9P2nh742kwUF5eTkVFhXPtBH9/f/z8fGlnMLj08fD0xMvTEy8vrwZNwfD08MDb2xt/f3/ntQDnn76+Pk12LRFpmKKiIs6dO8ff/vY3Bg8eTPfu3Wu12bp1K9deey0RERF4e3vTrl07/VyKSKMp2dBMik4VAZ/y0u+PkvD8SDrXanGUzb/fQOfnH2UAgF872rW93FGKiMjVzOP81AaoTDpUTzQAnD51ipKSEnx8fFz6QGUSwNPDA4/zH+5cC6hMGnh6UlFeuQ5D1fVOnjqFn59fk1xLRBrutddew9fXl6+++oozZ844t76tLisri/bt27N3716Kiop46qmn8PX1bYZoRaQlULKhmTy2+A0iOx8l61gRm9ccp02tFufIOpZFuzVv8NXRDLJ+sYDk0bVTEiIiIhdSPeFQczeIzp2vBcDbu/avA85EQAMe/p0JBw8PKmr06xAQQEVFRZNdS0QaJiQkhNGjR5OTk0NwcDDt2rWr1ea7777Dz88PDw8P3nrrrWaIUkRaEiUbmknk6Ed59BcnyBr0A6bIztQuWviBo4NyaRsZRuDnL/FYXjMEKSLUULvYAAAgAElEQVQiLUL1h/nqCYeqZ/uaD/k/5aG//mvVnVBQgkHk8tizZw+bN292q21ZWRkmk6ne88XFxUybNo28vMpfUDt06MCiRYsICQkBwOFw8OyzzxIfH0/fvn159tln+fTTT539q9objUaSkpKYPn26s29NqamprFixAoBu3bqxZMkStm7dyh133IHNZuNPf/oTc+fOdelvtVpJTU3lmWeeUWWGSDNSsqGZbF30AJ+6+2+f4wSB9yZc0nhERKR1qP5w73GJpy5czmuJyIX179+fP/7xj87X586do6ysDB8fH4qLi/H396ekpAQvLy+KioouWtlgNpu59957AcjJyWHZsmXMmzcPo9HIvn37MBgMZGRkEBUVxYIFC3A4HKSkpDB+/HiMRiNQmUjo2bMnmZmZ9SYbDAYDKSkp9Z6/9tprXfo7HA62b99OcI1ddkTk8lOyoZncMeuvPPqLagfOFvFD23a05QeKfmhLOz/4oegH2rZrCxerbDi+k8fu+RP7nQdG8oLlUX5cWzyDl8xv0H1NMiOvyeAl81O45rWr2ldvV/elMpaZeSrt/IvwR/nrMhMblsGj0yM5uukxHtgxjL8uc12DImOZmTdMf9U0EBEREZErxHfffYfNZqNv3758/PHHREdH8/XXX2M0Gutcz+FCQkJCGDJkCNnZ2URFRZGRkcGoUaP4xz/+QU5OTp2JAofDQW5uLnFxcaxatYqYmBhnEqIhbr75Zg4fPozNZsNoNJKfn0+PHj0oLCxs8Fgi0rQ8mzsAqZS7ayv7i4Ci/WzdlQsUsf9/PyTXzf5hj/wVi8VS+fEcPDV9M0fPnzu66Q2IC+Ofu48CkTxqsWCxvMDI8Ef5q8WC5XxiwrVdfUbyQtV1ltVc2DKM3vyTT/9T7dB/NvNGVm/C3LwPEREREbl0Pvjgg0vyIN6tWzfy8vKw2WzY7XZCQ0MJDw8nMzOzzvb5+fkYDAZCQkIIDg4mOzu7znZ2u50pU6ZgNptJTEzE4XC4nPf398dkMjn7f/LJJwwcOLBpb05EGkXJhmaVy471GRQ19bC/eJQXwqoe+o/y6Y4wbpt+G2HLN5BRbyd3213YsN8M45/rfux9dPdhhg0NI6uR44mIiIhI07nuuuvw8/MjICCA4OBgPD09MZlMeHt7ExwcTEBAQKPGzcvLo1u3bqSnp7Nlyxbi4uJYsWIFVqu1VoIAIC0tjXXr1mE2m9myZQu7du2qc9yqaRQWi4UFCxbUuQZDTEwMu3bt4quvvsJutzeqQkJEmp6SDc2qHaYbKheHbNczjM5tgbadCevZDmhL5xtM1F4n2D2dTXD4CPCfT/ln2G1EEsltcZv54PN6Orjbjs08ZTZjNpsxL6sjJdF1AMOyPjifrMhgQ+5tjOzWyJsQERERkSb12WefceLECb777ju++uorSktL+fDDDzl79ixfffUV3333XYPHtFqtWK1WwsLCyM3NZf369c6K2549e5Kfn+/S3mazAZUJB4vFQlpamsvxhjIajZhMJt5++22GDh3aqDFEpOkp2dCsjvJB2l6KgKM7/8HeIqBoL//YeRQoYm/aB1xoQsMFR86F7l0hY91L7E97CrO5cq2Fzbvqrllwt53LNIrpkXWc78zI38Abm45WTssYVFcbEREREWkOcXFxdOnShV69evHLX/6Stm3bMnbsWAICAoiNjeXGG290axyLxVL55pPZ7Nz54cSJExgMBpfKgsjISGcyoUp2djYmk8lZpeDr64vJZCI9Pb3R9xUREYHBYKBLly6NHkNEmpYWiGxWvbn/iTDaAoH3ziSsLcAwZt5buRHmiGd+26hRj256jKf4LZZrMngp61H+aqlaW+Eom6dvIINIXFMAGXzgVjs3/SKBYX9ZyMKwYcwZDdRbJSEiIiKXQ/VtSN2hXUOan9t/Zw38u/3888/p1asXdru91gKR/v7+bo3h7+/P6tWrax0PCQmptRhkVFQUUVFRADz22GO1jlWJj48nNTUVs9nsPHbnnXc6+1RXtQuG0Wh0Xi8kJISnn34aqExe1NVPRC4vJRuaVS4f/u8JBoyN5MSurZy4eQyR7GfrZ4GM+X/1721cl6zlD2Befv5F3AuVVQefv0TW0IRqizh2ZsDQLBZuOkry6GqdP//gAu0as4NEZwYMhX8yAO0/IXJ10wOKyNWtoqLC+QFwsZ/oqp9gbVXafJx/V1V/d5Uv6m7s4UF5eblb4+bk5LBixQoAvvzyS+fx3bt3A/D11187j5WUlFBU1OSril1UfHw88fHxl/26InJpeBw+lN2w3yTlggI6GunY8eKL0kx65iUi3X0SP5pB1i8WXPatI122uQR6P6LtK+VHJ20nOHWy4XMr9Yvr1UEPKK1DXl4e33//PQMGDLjk1yoqKmLXrl0MHz78kl9LKlX9DJeVlQEe5/+8+E+zdxtvKsrL8fLy0s/zZVb1d1ZeUUFZaSmnT5+hvLzsQrkGyssruCX61ouOXVRUxLlz59yOxdvbm3bt2unvX64YZ06fxnbiWHOHIQ2gyoZmkvxkA6dI+DV2qcjG+//t3XtwVOXh//H35rK5LblwCUEgQBIviE5SktJSZGqx25a2CQSrFQsKOh1/YpO0Wtoy6tgW+KJinSYZ7Y/+2mKF2q/XQEJbdAXjINIvBl2+Nl7aJJhEYCOXJZBAdnPZ3x+bXTZkEzZxk03g85phJOc855xnc9zlPJ99LlmFFiyFw35ZGSVcLrofXANgMGDgfNCgB5eRzbeBEuWZ9TuAtKGrq4t2p5Pw8HD3Jt1nkZDxNlq7ujCEhTN+/HjiExIDOrblzBnsJ0/Q3u4kLMw9vZfez0PP955FRccw9orxxMTEXPS4c+fOBXR+k2n4nyVF5PKmsCFETAn6wJfRzWg0MnXajIDKnjt3luZTp9wPrt3b9OA6Mvk+7MbGmRg7bjxRUVEAnD17tt/xvC0tZzjW1ERXV5caKCIjwPnQ0Nhv0NDe3k7VO/uZ+5V5AJjGjOHs2Vba2s6pZ8Mw89wzo9EYUNAgIjKSaTUKERmUqOhoIiMjA/oTH59AfEICnR0dA54DQIaf52E30mj0Bg0A+//nnzQ3N/d5nMk0BgzuHi+6zyKh5yKw9+P2ba/0Prb7c0Dv5OHlwt1LTJ+hInIpUNggIsPC8225Hp9GPk8Dxd8g4e1lL9PW1neXXc/wGt1nkRHAM7lgP+/Iiu3bOFRX5//w7nPIMOqer6EvzzzzDD/5yU+GsUIiIoOnsEFEguaTTz5h5co+5iNxdc+wrQfXkc/bQOmtqamJbWWv9Dn7+UVnTpfLmsPhCHUVxMerO//BRx99GOpqSACeeeYZMjMzOXjwIFarNdTVEREJiOZsEJHP7ZNPPuHHP/4xANu3b2fz5s1+y6n5eWlobGhg+7ZXyF/yvVBXRT6n/obFBJvJZGLy5Mns3buX7OzsYbvu5cozDMLpdBIZaey1v/KN3fzvwb4brR0dnTja2nqsSiFD69y5c0RGRuJ0Ouno6DkB84oVK1ixYgWVlZUKG0Rk1FDYICKfW2JiIr/97W+ZPn26HkgvEzX/+Q9/31HBt7+bG+qqyCAdO3aM2traYW34Z2dn88477/D666/rs2KIeYaudXR0cNXV15Bx5VXefZ82NvLugap+j//000b2vb2XiIgIwsLCdL+GgTHKyLmz5+jo6GDeDfO5YvLkoJ7fs/TlX/7yF2644QamTZvWq8zOnTuZNGkSmZmZWvpSRD43hQ0h0tLcAuyn9Oc2bnksj5ReJWyU//xFUh4rYA5AjAlT7y8mREaExMREEhP7X1LtqO0o5du3ExER4V0aUUYe3wbK183fYPyE5D7LnjhxAofD0WMSyXffPUBdba0aKKNAfHw82dnZTJkyZViv+8UvfnFYr3e58vRscDidvVaRmTJ1Kovyl/DKSy/2efz06dOJjx9DlNGong3DxPeejRs3Pujn//3vf090dDTV1dWcOXOGhISEXmVqamoYM2YM7733Hi0tLaxevZpozxLIIiIDpLAhRIqe2ExWio2a4y2Ubz1BZK8S7dQcr8G0dTPVNis12espXtw7khAZLVJSUsjNzcVoNGIwGBQ4jFC+Xa8nJE/ss1zS2LEsyl/SI2gA+MIXZjPr2msxqoEyKniWKJXLT3p6Bt/JzeNvFeWhrooMk7S0NBYvXkxdXR3JycmYTL2XYT98+DAxMTEYDAaeffbZENRSRC4lChtCJGtxAQXZJ6mZ5yQ1K4XenRac2OY1YMzKYOyBUooaQ1BJkSAyYMAQFkZYWJgaoSOYy+XC5XJh6KdXQlxcHIsXLyE+Pr7XPoPh/H1WzwaRke3aa2fhdDiwvPZqqKsiw+Ddd9+lvDywcKmzs5PU1NQ+9589e5Yf/ehHNDa6H1ATEhJ4/PHHSUtLA6CtrY21a9eSn5/Pddddx9q1a9m/f7/3eE/5pKQkfvWrX1FYWOg99kKvvfYaGRkZJCUl8cADD7Bq1SpycnIAqKqqorGxkfz8fP7617/yrW99i6SkpIBeo4gMPYUNIbLz8eXsD7RXWttJxi69ZUjrIyISiIiICBYtXsL4CRNCXRURCYKsL8zG4XD0ucKMjCzTp0/nzjvvHNSxs2fP5te//rX35/b2djo7O4mKiuLs2bPExsbicDgIDw+npaXloj0bzGYzS5cuBaCuro6SkhIeeeQRkpKS+Ne//kVcXBxWq5WcnBzWr19PW1sbmzZt4o477vAGAmVlZcyYMYODBw/2GTb4yszMpKysjPT0dIUKIqOAwoYQ+dbPtlDgOyfXuRacRhNGnLQ4jZhiwNnixGgywsV6Npx4k6Lb1vGBd0MeGy0FZHl/tlJq3sy0rcXkTbRSal5Nz1zbU963nP9LWUtKodBTdjU8ajn/Og6UUtR4C8WLbZSWQEFhlv+TyCXtkUceCXUVZAgtyl/C5GEe4y8ig2QwYMDds6yjo4OICP+PfV/68lz2vb23xzaFD6Hl6mP54OnTp7NixYqgXOPw4cPY7Xauu+46/vnPfzJ37lw+/vhjkpKS/M7n0J+0tDS++tWvUltbS05ODlarlUWLFrF9+3bq6ur8BgltbW00NDSQm5vLH//4R2688caLBgjJycnMmzePZ599lqKiogHVUUSGnwZrjhANe3fyQQvQ8gE79zYALXzw97doCPD4jPu2YLFY3H8ehdWF5di699m2bYbcDHbtswFZFFgsWCwbyZtZwBaLBUt3MNGzXABy8+AXpWgBpstTXw+iv/zlL/1u7+vBSUag7gZKR0dHj/s8efIU0tLS+zzs3Llz7mEU3ecQkdAy4J6X49QpOydOHOfMmdN9/rnu+uu9fz9+7BiffHJI7+VQ6P4MPXP6NGfPnuVcgH8GYs+ePRw7dizoVZ86dSqNjY3Y7XZaW1tJT09n5syZHDx40G/5I0eOEBcXR1paGsnJydTW1gZ0nZycHOLi4qirqwtm9UVkCKhnQ0g1sPuFk8y5Ncg9ALIL2Li3iP1NeeRNtLF/dwbzS+aD+UWsi317PPgKtJyv+RQ8ugdziRWLejFcdpxOZ8CTy7U7nZw4fkwPrqOEp4HyWZMNl8tFeHg4LiA+IZ6mJv9hpAFwOBy0nDlNdHQ0ussioeeZjDfSaORwYwMdHZ246D/4NWDAYIDo6Gj3/DrDVFdxMwDh4eGcaTlD9fsHcbm46D3r7OjkKzfMD/gakydPJiYmxv3/RmQkYWFhpKamEhERQXJyMjExMYOqe2NjI1OnTqWyspIdO3awY8cOAObMmcPChQt7la+oqGDHjh08//zz3m2euRgu5uabb+bZZ59l9uzZg6qriAwPhQ0hZSL1KiNGwDQjA6MRIIWMGUbASMpVqX4mjgxMSirs+RRgP7sy5lNMFuSuZs+BArL8LaneFGC5C3UHG+VNxeQNsq4yOrW2nOGDf70f8INrRGQkprg4PbiOAr4NlKNHDgfcQImICCcmNlYTgIqMAJ73YFhYGJEREYTFxdHV1eWdBLa/YwxhYYRrMt+Q8Hz+xsXG0tnVhau7d1l/96y9vX1A13jnnXeYO3cuzc3NHD16lPHjx/PWW2+RnJxMdXU1kyZNGvCSuFVVVVRVVfG1r32NvXv38sILL3iHRPzhD3/gyJEjXHHFFd7ydrsdcAcO0dHR3vkc7HZ7QHMxJCUlMW/ePF577bWAAwoRGX4KG0LKxp6KehZlLcT25nbqc7NYyHtsf3MaWekpvFexh2lZGYwdzJkbYNpcsD5fygcVYK7w7LFSkN27F0Kg5fzJKlzJnsJybIObr0hGqYiISMaMMenB9RIz2AaKwWDwrjTiWYVC91oktDzvS3C/p/t7H/seA+7P7bDu97Hey8PD9/M3IjKS8IsEDRceFyjPMtSTJk3iyiuvxGg0cuuttxIbG8s3vvEN4HwY0B+LxcKf/vQnwN174eGHH/YOjfANDLKysqioqOCee+7xbqutrSU1NZXoaPds6dHR0aSmplJZWUl+fn5Ar+O6666jrKyM1tbWgF+7iAwvhQ0hdS0/+EkGRmDs0gfIMALcxANL3f0ZFj68clBntW0rYjUrsUy0UlpTwBZLHinuPZQXvoiVrAuGSFjZE1C5vmRRcOceivZCRt+rJMklJizMgNFo1IPrJWiwDRTf0EH3WGRk8H0/D2TuHO9nt97Lw8rz+w43GHAF+Lsf6GSeBw4c4JprrqG1tbXXBJGxsbEBnSM2NtYbNPhKS0vrNRlkTk6Ot/eBZ1JH320e+fn5lJWVYTabvdu++93v9pgI0rP6BbgDivXr1/vdJyIjg8KGkGrgrb+752w4uXcnJ7/4PbL4gJ3vjOV7Xx9Yq73mqeWYn+r+IXejew6FA6XULLilO0AASGHOgho2bLNRvNjn4AN7+imXQkCyb+GmPy9nV6qW6LxceLp6DqS8739lZBtMA0X3WGRk8n1vBvJ+1ns4tIbqftXV1fH0008D8P7773u379u3D4CPP/7Yu83hcNDS0hJwnYMlPz8/4J4NIjLyGeoP1WqK+CCKT0wiMfHiY83ufriUrADb8dis1GSvD7zhHyTWEjOrK87/fO19W4a9DjJynTpl5/Qpux5cLxPB7sYrIiLB4XA6ufKqay5arqWlZUDzO0RERGAymfT5LiPGmdOnsZ88HupqyAAobAiyQMOGluYBpsUxJkyDnS1SZAh4wgYREREJnUDDBpHRTmHD6KNhFCFiSjCFugoiIiIiIiIiQyIs1BUQERERERERkUuLwgYRERERERERCSqFDSIiIiIiIiISVAobRERERERERCSoFDaIiIiIiIiISFApbBARERERERGRoFLYICIiIiIiIiJBpbBBRERERERERIIqItQVEBERERGR0aW4uJgdO3YAsGrVKm688UZ27tzJ0qVLaWtrY+3ateTk5JCfn9/rWLvdzgMPPEBjYyMAc+bM4eGHH2bTpk3ec/rbtmrVKgCefvrpHudbtWoVCxcuZO3ateTn55OTk+PdV1ZW5i2fkJDA448/TlpaWpB/GyLij8KGS8IJygtvo/RD9095j1ooyLZSWgIFhVmAjfLC5exasIXixSk9jrSWFNHw/WLyJnZvOFBKUeMtFC+2UWpeDY9aKMi+cF8K1pJSKCwgq6mcomWlfOA9Yx4bLQVk9VXVA6WYf1Hu/fHa+7Z4r1XeY1sK1hIzqys8257kpt33e19j91YKthaTR886eI6nqY/t4P2d1N/p8/pERERE5KLq6+tJTU3FYrF4t9ntdu/fN23a1KvR71FXV8e6det46KGHejX6k5OTeeGFF0hKSgKgqqqq13UA8vPzKSsrY+rUqd5rVFVVERcXh9Vq9W4rKyujoaHBe7zdbueJJ57gpz/9qfcaIjJ0FDZcAk5Ubqb+TguWPhrN1hJ3o7p4oI3q3Dz4RSnW/sIDIMO3EX+gFHNhOVtK8ki5oJxtWxHLd9/EFovlgn02yN2IpdDnKgdK2Zy6BYvFp+RiC3nYKC98kdSS7jo1lVO0rJ6VFou3jtYSM6UHLBRM8a2blVLzi1gXdx934EV2ZeTBXitk9/fqRERERMRXbGwsH374IQsXLiQ6OrrHvrKyMubNm+c3aACoqKhg1apVAfUuGDt2LK+99prf61zIarWyaNEitm/fTl1dHUlJSTQ0NHDPPfd4yyQlJZGfn09lZaXfHhciElyas+ESMC5lKuV7rX732bYVsWfeYL+9n0/Bo7C6xP+5/couYGPGLvY3XbjDyotPZbDRTwjh15RpsHs/tosUsz6/i5u29gxDsgo3wp/Lex87c5r32ta9Ndz0/Vu4qWYz5b3qKiIiIiJ9mTBhArfddhvLli2juLjYu91isdDQ0NBn0ADu3gvp6emAuzeC2Wzmrrvuwm6389lnn3HrrbdiNpspLi4mLS3N73UuZLfbaW1tJT09nZkzZ3Lw4EHvtS4WUojI0FHYcCm45vtY5u3BbDZTtM2niV2xmuUNKz/fMIHsAjYysAZ5SirUf+pnR+78Hr0PzGYzZk+QUbHa/bPZTOkBYGIexQ/CBt8yfmWQOrHvvTVPLe8+7x7me4MOK3tqbmLOxBTmLIBd+y4WaYiIiIiIr7S0NF566SXmzZvnDQLMZjOpqan9BgOtra3eIRc5OTlUVFSQmZkJnB9GYbFYKCoq6vM6F6qsrGTHjh3k5uby9NNPU1VVhcPh4LPPPqOtrS2YL1tEBkBhw6UiuwCLxcIaNpwPHHI3siV180Ua6xeXVbiS+vV+egr0wdYA06b42VHT4D1HVqEFy9YCrvXsy92IxWLBYvHphTExj2KLxR2k9PkaamjoJwjJuG8LFouFjbnl7DnQXb9tmyn/sJTlZjPLn/qADwLoQSEiIiIivXl6KTgcDgDv8ISysjK/5RcsWEBJSUmPOR4Gcp0Lw4O2tjYaGhq8IYXFYmHGjBmcPXuW1NRUNm3a5C1bV1fH1q1bufHGGwd0bREZHIUNl5iUuTdBw/mmc8riYjayumePB9/yqT2/2bfuLSdj6oUDHbIouLOeDXsh4yLXt20rYjUrz0846XOOWxbsYvlggo/s+eT5BBU9zvr9m9i1rJTzZ7VRXrga7uw5XCPr+wXU/LkcGzb2785gY/c/RhaLpY9hHyIiIiLiT319vbdH6g9/+ENyc3OJiory7r/nnnuoqqry2xMhLS2NZcuWeYdL5ObmkpqaSlJSUo9hFHfddReVlZW9rnPhsIgjR44QFxfXY8LHrKwsKioqvMGH5xzr1q3jkUce0eSQIsPEUH+o1hXqSlxK4hOTSEwc3g+wE5VPcNv6V7t/8qwG0Xs1itKMCyZhhPP7PKs8eCdq9D3+fDnPihZ9rkZx4USPF/BdYcK7msREa4/VKMjd6O7N4F21wlPOUw+fCSKh1woXeZ4VNJrKKd03h4LuyStt24pY/tHVXBv7FYovmIzSvHd+v/WW3k6dsnP61MC+lRAREZHgcjidXHnVNaGuhl91dXX87Gc/o7m5GYCpU6fym9/8Ro19GZQzp09jP3k81NWQAVDYEGShCBsCZdtWxPKnzi9SebFgYLRcS0JDYYOIiEjojeSwQSSYFDaMPgobgmwkhw0iwaSwQUREJPQUNsjlQmHD6KM5G0REREREREQkqBQ2iIiIiIiIiEhQRYS6AiIiIiIiMjgGDLS3t4e6GiJDzhBmCHUVZIAUNgRZRHi4PvDlshARHh7qKoiIiFz2XLiIjIwMdTVEhlzbuXOhroIMkMKGIOvo7MSkD3y5DLS2toS6CiIiIiIiMkJpzgYRERERERERCSqFDSIiIiIiIiISVAobRERERERERCSoFDaIiIiIiIiISFApbBARERERERGRoFLYICIiIiIiIiJBpbBBRERERERERIJKYYOIiIiIyGXo3m1HMaypxrCmmu88U0+rs2tIr3fwaBs//0cTTS0dfOeZeppaOvyW+/AzB3vrz/Z7rjcPtfLv486hqKaIBInCBrm4jxv5e1NnPwU6OfR2I+/5//dCREREREagqQkR2B68GteGWfxtxTTijMPTNJhoiuBvK6Yx0RThd3/GOCOW/7Swq7bV7/5dta28UdvKjKTIoaymiHxOChtGDBvru5Nlw5pqbt7dPPSXrK51X6e6FsNztr7LXWmi7R+H+ggcOjn09iGecpr4gv9/L0RERERkFLh321FK3j7h/fur/27h5/9oYv0bxzCsqWbCuo84eLTNu9/z3Prqv1s4eLSNe7cd5TvP1GNYU+09z8GjbUxY9xGGNdU89uZxAFqdXdy77ShNLR38/B9N3P7fnzLzyRpvT4fIcAMPfm0Cew619gocdtW2sudQKw9+bQKR4Ybh+tWIyCAobBhJrh+Ha8MsXBtm8fKChOG77qx0XLen9L0/LIkld4zzEzh4goZxPHFj0pBXU0RERESCp7G5g5T1H2NYU829247yxLcn8uFnTp45cIqZyUa+eZWJ044uPm3uwLVhFq/fPZ3H3jxOq7OL3y2ehGvDLKyF6ezuDgTeqGvlv745EduDV/Pqv1s4ZHfy2JvHef3u6bg2zOLLqTGcdvQcqnHa0cWXU2P48P6MHj0d/AUOChpERhd9Fz2C7XuumidSpvDyggT2PVfN7swpzHj1OGS18wNLJxDN2xvSmYuN9WtO8BCc31Zdy81NEcy2tPAQsG7ZLB6chbsXw1Z3Ir3u+mhIAY7Vc7Mlipdvj+G5J49zKKWNh2wmjt4/DW8EEZbEkjvglWcP8feFM/j2RBQ0iIiIiIxinmEUvo38//OlJB578zj/b8kVAMRHhXF7lvtLsIxxRhKiw2lxdvHHKjtFFe6esd++2sS59jEsmjmGzEnRtDq7SE000ursIiE6nIxxRgC+OiOOw809x93GR4Xx1RlxfuvnCRzWv3GMXTUtGLt/VtAgMjqoZ8NI8v4Jb3e09dUw9/Yp3Gw9zr7qWp5ImeIOC2jjZdxJsmsZfOU5G5DCg909Io6a29ld7T7dK5YOFmyYhet+E+++Wo8NG/Z6EecAAAPWSURBVOu3wtvdZRfQ5qcSbZA5C5dv0ODh08Phqe0KGkREREQuJa3OLv7v/9j5xpUm/lhlB9w9D2xn3AFBzQknzW2dHDrpJD4q3NuzISE63O/54oxhNLd1UnPCPZHjm4dae/VsuBhP4PD1DJOCBpFRRj0bRpLrx10wnCGB25ef4uYt8NT9CUAzEM1PPUMsZsWx7lUHNprZ/eSn/OCYe/MSczNMhCXm8cwFmBDFbBxwzMG718fxYPfZ52ZGQ9OFlYhmwax+6tjdw2Hf+3BfpoIGERERkdHKM4wC4JoJUXxpagxLMxO4YXostz7XyNXjo4iPCqNoh42PjzkYHxfO63dPJ2VMBCtfOsLKlw5z9YQoZl8R7ff8sZFh3Dk7kaySWgCWZiYwNWHgkzpGhhtYkO6/94OIjFwKG0a0Zp7b0sFPvwn37W7m5QUA7Rw6BnMnANWtPJQSx927j8PyWbgmgG33R9zX1+kmRDH7/Vb2AXOBfQfb6N19IQBhSczNHNwrEhEREZGR4XeLJ/G7xZP87vvbimkA7K5t5fmlU8ic1DNQ+PD+jF7HfDk1FnD3aPCc95tXmXBt6P1Nlmf/YwsnDv4FiMiIprBhJHn/BIY17pl7uX4cb3OCQ9+cxe2zmrn51U9ZP3EKM4CXt1R392KI5u0NKaRU1/KDJ6v5AbBkQjhk9XWBFO42f8SkNe5xFuuu959Ci4iIiIiIiHwehvpDta5QV+JSEp+YRGLiUA0vaOa5J48z4/509/AIkRA6dcrO6VP2UFdDRETksuZwOrnyqmtCXQ2RIXfm9GnsJ4+HuhoyAJogUkRERERERESCSsMoRpUEbr8/IdSVEBEREREREemXejaIiIiIiIiISFApbBARERERERGRoFLYICIiIiIySnV1aa53uTy0tztDXQUZIM3ZICIiIiIySsVER9FQ/wmJiYlgMIS6OiJDot3p5JTdTmSkmq+jie5WkDkdjlBXQWRY6P91ERGREcLVxSn7yVDXQmRIKWgYfXTHgqyrs5OjRw4TZjDgAlwudW2TS4fBYMAAdLlc6LsTERERERHpi8KGIHM69W2viIiIiIiIXN40QaSIiIiIiIiIBJXCBhEREREREREJKoUNIiIiIiIiIhJUChtEREREREREJKgUNoiIiIiIiIhIUClsEBEREREREZGgUtggIiIiIiIiIkGlsEFEREREREREgkphg4iIiIiIiIgElcIGEREREREREQkqhQ0iIiIiIiIiElQKG0REREREREQkqBQ2iIiIiIiIiEhQKWwQERERERERkaBS2CAiIiIiIiIiQfX/AUE4FIGSf69DAAAAAElFTkSuQmCC)"
            ],
            "metadata": {
                "azdata_cell_guid": "bbee97e9-069b-40a8-8f55-73857c050b8e"
            },
            "attachments": {}
        },
        {
            "cell_type": "markdown",
            "source": [
                "**<mark>\\--- PARTE 2 - Conhecimentos de SQL e T-SQL(DML) ---</mark>**"
            ],
            "metadata": {
                "azdata_cell_guid": "a0b57cf3-3e33-4d7b-9bcb-9ae0a9c70337"
            },
            "attachments": {}
        },
        {
            "cell_type": "markdown",
            "source": [
                "**1- Qual o total em Jan/2022 Valor Pago (R$) para cada Órgão Superior?**"
            ],
            "metadata": {
                "azdata_cell_guid": "667f5c2f-4a81-43c6-9d50-6bb92a482ac4",
                "language": ""
            },
            "attachments": {}
        },
        {
            "cell_type": "code",
            "source": [
                "USE DW_38\r\n",
                "GO\r\n",
                "\r\n",
                "SELECT \r\n",
                "    TEMPO.ANO_MES AS ANO_MES, \r\n",
                "    SUPERIOR.ID_COD AS COD_ORG_SUPERIOR, \r\n",
                "    SUPERIOR.NOME_ORG_SUPERIOR, \r\n",
                "    FORMAT(SUM([FATO].VALOR_PAGO), 'C', 'pt-br') AS VALOR_PAGO \r\n",
                "\r\n",
                "FROM [DW_38].[GOLD].[F_Despesa] FATO\r\n",
                "    INNER JOIN [DW_38].[SILVER].[D_Org_Superior] SUPERIOR \r\n",
                "    ON FATO.SK_ORG_SUPERIOR = SUPERIOR.SK_ORG_SUPERIOR\r\n",
                "    INNER JOIN [DW_38].SILVER.DIM_TEMPO TEMPO \r\n",
                "    ON FATO.SK_DATA=TEMPO.SK_DATA\r\n",
                "    WHERE TEMPO.MES = 1\r\n",
                "\r\n",
                "    GROUP BY TEMPO.ANO_MES , SUPERIOR.ID_COD, SUPERIOR.NOME_ORG_SUPERIOR\r\n",
                "    ORDER BY SUM([FATO].VALOR_PAGO) desc\r\n",
                "GO"
            ],
            "metadata": {
                "azdata_cell_guid": "9558fb71-f7b0-4ad4-a7ba-aad671ca5644",
                "language": "sql"
            },
            "outputs": [
                {
                    "output_type": "display_data",
                    "data": {
                        "text/html": "Commands completed successfully."
                    },
                    "metadata": {}
                },
                {
                    "output_type": "display_data",
                    "data": {
                        "text/html": "(0 rows affected)"
                    },
                    "metadata": {}
                },
                {
                    "output_type": "display_data",
                    "data": {
                        "text/html": "Total execution time: 00:00:00.343"
                    },
                    "metadata": {}
                },
                {
                    "output_type": "execute_result",
                    "metadata": {},
                    "execution_count": 22,
                    "data": {
                        "application/vnd.dataresource+json": {
                            "schema": {
                                "fields": [
                                    {
                                        "name": "ANO_MES"
                                    },
                                    {
                                        "name": "COD_ORG_SUPERIOR"
                                    },
                                    {
                                        "name": "NOME_ORG_SUPERIOR"
                                    },
                                    {
                                        "name": "VALOR_PAGO"
                                    }
                                ]
                            },
                            "data": []
                        },
                        "text/html": [
                            "<table>",
                            "<tr><th>ANO_MES</th><th>COD_ORG_SUPERIOR</th><th>NOME_ORG_SUPERIOR</th><th>VALOR_PAGO</th></tr>",
                            "</table>"
                        ]
                    }
                }
            ],
            "execution_count": 22
        },
        {
            "cell_type": "markdown",
            "source": [
                "**2- Quais os top 10 Órgãos Superiores referente a Jan/2022 em Valor Pago (R$)**"
            ],
            "metadata": {
                "azdata_cell_guid": "c0116321-e3e5-4eca-9843-2af462206edf"
            },
            "attachments": {}
        },
        {
            "cell_type": "code",
            "source": [
                "USE DW_38\r\n",
                "GO\r\n",
                "\r\n",
                "SELECT TOP 10\r\n",
                "    TEMPO.ANO_MES AS ANO_MES, \r\n",
                "    SUPERIOR.ID_COD AS COD_ORG_SUPERIOR, \r\n",
                "    SUPERIOR.NOME_ORG_SUPERIOR, \r\n",
                "    FORMAT(SUM([FATO].VALOR_PAGO), 'C', 'pt-br') AS VALOR_PAGO \r\n",
                "\r\n",
                "FROM [DW_38].[GOLD].[F_Despesa] FATO\r\n",
                "    INNER JOIN [DW_38].[SILVER].[D_Org_Superior] SUPERIOR \r\n",
                "    ON FATO.SK_ORG_SUPERIOR = SUPERIOR.SK_ORG_SUPERIOR\r\n",
                "    INNER JOIN [DW_38].SILVER.DIM_TEMPO TEMPO \r\n",
                "    ON FATO.SK_DATA=TEMPO.SK_DATA\r\n",
                "    WHERE TEMPO.MES = 1\r\n",
                "\r\n",
                "    GROUP BY TEMPO.ANO_MES , SUPERIOR.ID_COD, SUPERIOR.NOME_ORG_SUPERIOR\r\n",
                "    ORDER BY SUM([FATO].VALOR_PAGO) desc\r\n",
                "GO"
            ],
            "metadata": {
                "azdata_cell_guid": "e2c14227-06f5-4fa6-bdcb-b55bcbcab0bd",
                "language": "sql"
            },
            "outputs": [
                {
                    "output_type": "display_data",
                    "data": {
                        "text/html": "Commands completed successfully."
                    },
                    "metadata": {}
                },
                {
                    "output_type": "display_data",
                    "data": {
                        "text/html": "(0 rows affected)"
                    },
                    "metadata": {}
                },
                {
                    "output_type": "display_data",
                    "data": {
                        "text/html": "Total execution time: 00:00:00.327"
                    },
                    "metadata": {}
                },
                {
                    "output_type": "execute_result",
                    "metadata": {},
                    "execution_count": 23,
                    "data": {
                        "application/vnd.dataresource+json": {
                            "schema": {
                                "fields": [
                                    {
                                        "name": "ANO_MES"
                                    },
                                    {
                                        "name": "COD_ORG_SUPERIOR"
                                    },
                                    {
                                        "name": "NOME_ORG_SUPERIOR"
                                    },
                                    {
                                        "name": "VALOR_PAGO"
                                    }
                                ]
                            },
                            "data": []
                        },
                        "text/html": [
                            "<table>",
                            "<tr><th>ANO_MES</th><th>COD_ORG_SUPERIOR</th><th>NOME_ORG_SUPERIOR</th><th>VALOR_PAGO</th></tr>",
                            "</table>"
                        ]
                    }
                }
            ],
            "execution_count": 23
        },
        {
            "cell_type": "markdown",
            "source": [
                "**3- Qual o total no Trimestre do Valor Empenhado (R$) para cada Gestão?**"
            ],
            "metadata": {
                "azdata_cell_guid": "f4e4f635-6d0b-4192-9e85-7425f579b296"
            },
            "attachments": {}
        },
        {
            "cell_type": "code",
            "source": [
                "USE DW_38\r\n",
                "GO\r\n",
                "\r\n",
                "SELECT \r\n",
                "    GESTAO.ID_COD AS COD_GESTAO, \r\n",
                "    GESTAO.NOME_GESTAO, \r\n",
                "    FORMAT(SUM([FATO].VALOR_EMPENHADO), 'C', 'pt-br') AS VALOR_EMPENHADO \r\n",
                "\r\n",
                "FROM [DW_38].[GOLD].[F_Despesa] FATO\r\n",
                "    INNER JOIN [DW_38].[SILVER].[D_Gestao] GESTAO \r\n",
                "        ON FATO.SK_GESTAO = GESTAO.SK_GESTAO\r\n",
                "     INNER JOIN [DW_38].[SILVER].[DIM_TEMPO] TEMPO \r\n",
                "        ON FATO.SK_DATA=TEMPO.SK_DATA\r\n",
                "    WHERE TEMPO.TRIMESTRE = 1    \r\n",
                "    GROUP BY GESTAO.ID_COD, GESTAO.NOME_GESTAO\r\n",
                "    ORDER BY SUM([FATO].VALOR_EMPENHADO) DESC\r\n",
                "GO"
            ],
            "metadata": {
                "azdata_cell_guid": "f7688152-69fa-4a27-8a5c-ba2be66a3fe8",
                "language": "sql"
            },
            "outputs": [
                {
                    "output_type": "display_data",
                    "data": {
                        "text/html": "Commands completed successfully."
                    },
                    "metadata": {}
                },
                {
                    "output_type": "display_data",
                    "data": {
                        "text/html": "(0 rows affected)"
                    },
                    "metadata": {}
                },
                {
                    "output_type": "display_data",
                    "data": {
                        "text/html": "Total execution time: 00:00:00.332"
                    },
                    "metadata": {}
                },
                {
                    "output_type": "execute_result",
                    "metadata": {},
                    "execution_count": 24,
                    "data": {
                        "application/vnd.dataresource+json": {
                            "schema": {
                                "fields": [
                                    {
                                        "name": "COD_GESTAO"
                                    },
                                    {
                                        "name": "NOME_GESTAO"
                                    },
                                    {
                                        "name": "VALOR_EMPENHADO"
                                    }
                                ]
                            },
                            "data": []
                        },
                        "text/html": [
                            "<table>",
                            "<tr><th>COD_GESTAO</th><th>NOME_GESTAO</th><th>VALOR_EMPENHADO</th></tr>",
                            "</table>"
                        ]
                    }
                }
            ],
            "execution_count": 24
        },
        {
            "cell_type": "markdown",
            "source": [
                "**4- Quais as Top 10 Gestão no Trimestre referente a valor empenhado?**"
            ],
            "metadata": {
                "azdata_cell_guid": "09dd8305-066b-4bef-ac0c-96c4e81c4666"
            },
            "attachments": {}
        },
        {
            "cell_type": "code",
            "source": [
                "USE DW_38\r\n",
                "GO\r\n",
                "\r\n",
                "SELECT TOP 10\r\n",
                "    GESTAO.ID_COD AS COD_GESTAO, \r\n",
                "    GESTAO.NOME_GESTAO, \r\n",
                "    FORMAT(SUM([FATO].VALOR_EMPENHADO), 'C', 'pt-br') AS VALOR_EMPENHADO \r\n",
                "\r\n",
                "FROM [DW_38].[GOLD].[F_Despesa] FATO\r\n",
                "    INNER JOIN [DW_38].[SILVER].[D_Gestao] GESTAO \r\n",
                "        ON FATO.SK_GESTAO = GESTAO.SK_GESTAO\r\n",
                "     INNER JOIN [DW_38].[SILVER].[DIM_TEMPO] TEMPO \r\n",
                "        ON FATO.SK_DATA=TEMPO.SK_DATA\r\n",
                "    WHERE TEMPO.TRIMESTRE = 1    \r\n",
                "    GROUP BY GESTAO.ID_COD, GESTAO.NOME_GESTAO\r\n",
                "    ORDER BY SUM([FATO].VALOR_EMPENHADO) DESC\r\n",
                "GO"
            ],
            "metadata": {
                "azdata_cell_guid": "f844cd1c-c30c-4e8c-b264-bba0bebd0726",
                "language": "sql"
            },
            "outputs": [
                {
                    "output_type": "display_data",
                    "data": {
                        "text/html": "Commands completed successfully."
                    },
                    "metadata": {}
                },
                {
                    "output_type": "display_data",
                    "data": {
                        "text/html": "(0 rows affected)"
                    },
                    "metadata": {}
                },
                {
                    "output_type": "display_data",
                    "data": {
                        "text/html": "Total execution time: 00:00:00.334"
                    },
                    "metadata": {}
                },
                {
                    "output_type": "execute_result",
                    "metadata": {},
                    "execution_count": 25,
                    "data": {
                        "application/vnd.dataresource+json": {
                            "schema": {
                                "fields": [
                                    {
                                        "name": "COD_GESTAO"
                                    },
                                    {
                                        "name": "NOME_GESTAO"
                                    },
                                    {
                                        "name": "VALOR_EMPENHADO"
                                    }
                                ]
                            },
                            "data": []
                        },
                        "text/html": [
                            "<table>",
                            "<tr><th>COD_GESTAO</th><th>NOME_GESTAO</th><th>VALOR_EMPENHADO</th></tr>",
                            "</table>"
                        ]
                    }
                }
            ],
            "execution_count": 25
        },
        {
            "cell_type": "markdown",
            "source": [
                "**5- Qual o total mês a mês de Valor Liquidado (R$) para cada Grupo de Despesa?**"
            ],
            "metadata": {
                "azdata_cell_guid": "4da99acd-e362-41f3-9eb1-396c87486fcb"
            },
            "attachments": {}
        },
        {
            "cell_type": "code",
            "source": [
                "USE DW_38\r\n",
                "GO\r\n",
                "\r\n",
                "SELECT \r\n",
                "    TEMPO.ANO_MES AS MES, \r\n",
                "    DESPESA.ID_COD AS COD_GRP_DESPESA, \r\n",
                "    DESPESA.NOME_GRP_DESPESA, \r\n",
                "    FORMAT(SUM([FATO].VALOR_LIQUIDADO), 'C', 'pt-br') AS VALOR_LIQUIDADO \r\n",
                "\r\n",
                "FROM [DW_38].[GOLD].[F_Despesa] FATO\r\n",
                "    INNER JOIN [DW_38].[SILVER].[D_Grp_Despesa] DESPESA \r\n",
                "        ON FATO.SK_GRP_DESPESA = DESPESA.SK_GRP_DESPESA\r\n",
                "     INNER JOIN [DW_38].[SILVER].[DIM_TEMPO] TEMPO \r\n",
                "        ON FATO.SK_DATA=TEMPO.SK_DATA    \r\n",
                "\r\n",
                "    GROUP BY TEMPO.ANO_MES, DESPESA.ID_COD, DESPESA.NOME_GRP_DESPESA\r\n",
                "    ORDER BY DESPESA.ID_COD ASC, TEMPO.ANO_MES ASC\r\n",
                "GO"
            ],
            "metadata": {
                "azdata_cell_guid": "fbd50c32-b8b6-4176-bf48-c2708f6d35ba",
                "language": "sql"
            },
            "outputs": [
                {
                    "output_type": "display_data",
                    "data": {
                        "text/html": "Commands completed successfully."
                    },
                    "metadata": {}
                },
                {
                    "output_type": "display_data",
                    "data": {
                        "text/html": "(0 rows affected)"
                    },
                    "metadata": {}
                },
                {
                    "output_type": "display_data",
                    "data": {
                        "text/html": "Total execution time: 00:00:00.337"
                    },
                    "metadata": {}
                },
                {
                    "output_type": "execute_result",
                    "metadata": {},
                    "execution_count": 26,
                    "data": {
                        "application/vnd.dataresource+json": {
                            "schema": {
                                "fields": [
                                    {
                                        "name": "MES"
                                    },
                                    {
                                        "name": "COD_GRP_DESPESA"
                                    },
                                    {
                                        "name": "NOME_GRP_DESPESA"
                                    },
                                    {
                                        "name": "VALOR_LIQUIDADO"
                                    }
                                ]
                            },
                            "data": []
                        },
                        "text/html": [
                            "<table>",
                            "<tr><th>MES</th><th>COD_GRP_DESPESA</th><th>NOME_GRP_DESPESA</th><th>VALOR_LIQUIDADO</th></tr>",
                            "</table>"
                        ]
                    }
                }
            ],
            "execution_count": 26
        },
        {
            "cell_type": "markdown",
            "source": [
                "**6- Quais os TOP 10 Grupo de Despesas referente a valor Liquidado (R$) em Fev/2022?**"
            ],
            "metadata": {
                "azdata_cell_guid": "ffd01863-8674-4562-a8b6-74aa805c5370"
            },
            "attachments": {}
        },
        {
            "cell_type": "code",
            "source": [
                "USE DW_38\r\n",
                "GO\r\n",
                "\r\n",
                "SELECT TOP 10\r\n",
                "    TEMPO.ANO_MES AS MES, \r\n",
                "    DESPESA.ID_COD AS COD_GRP_DESPESA, \r\n",
                "    DESPESA.NOME_GRP_DESPESA, \r\n",
                "    FORMAT(SUM([FATO].VALOR_LIQUIDADO), 'C', 'pt-br') AS VALOR_LIQUIDADO \r\n",
                "\r\n",
                "FROM [DW_38].[GOLD].[F_Despesa] FATO\r\n",
                "    INNER JOIN [DW_38].[SILVER].[D_Grp_Despesa] DESPESA \r\n",
                "        ON FATO.SK_GRP_DESPESA = DESPESA.SK_GRP_DESPESA\r\n",
                "     INNER JOIN [DW_38].[SILVER].[DIM_TEMPO] TEMPO \r\n",
                "        ON FATO.SK_DATA=TEMPO.SK_DATA    \r\n",
                "  WHERE TEMPO.ANO=2022\r\n",
                "    AND TEMPO.MES=2\r\n",
                "    GROUP BY TEMPO.ANO_MES, DESPESA.ID_COD, DESPESA.NOME_GRP_DESPESA\r\n",
                "    ORDER BY  SUM([FATO].VALOR_LIQUIDADO) DESC\r\n",
                "GO"
            ],
            "metadata": {
                "azdata_cell_guid": "a8abf7db-576d-4fa3-b57e-1470b3e4857d",
                "language": "sql"
            },
            "outputs": [
                {
                    "output_type": "display_data",
                    "data": {
                        "text/html": "Commands completed successfully."
                    },
                    "metadata": {}
                },
                {
                    "output_type": "display_data",
                    "data": {
                        "text/html": "(0 rows affected)"
                    },
                    "metadata": {}
                },
                {
                    "output_type": "display_data",
                    "data": {
                        "text/html": "Total execution time: 00:00:00.330"
                    },
                    "metadata": {}
                },
                {
                    "output_type": "execute_result",
                    "metadata": {},
                    "execution_count": 27,
                    "data": {
                        "application/vnd.dataresource+json": {
                            "schema": {
                                "fields": [
                                    {
                                        "name": "MES"
                                    },
                                    {
                                        "name": "COD_GRP_DESPESA"
                                    },
                                    {
                                        "name": "NOME_GRP_DESPESA"
                                    },
                                    {
                                        "name": "VALOR_LIQUIDADO"
                                    }
                                ]
                            },
                            "data": []
                        },
                        "text/html": [
                            "<table>",
                            "<tr><th>MES</th><th>COD_GRP_DESPESA</th><th>NOME_GRP_DESPESA</th><th>VALOR_LIQUIDADO</th></tr>",
                            "</table>"
                        ]
                    }
                }
            ],
            "execution_count": 27
        },
        {
            "cell_type": "markdown",
            "source": [
                "**7- Qual a variação %(MoM) de Valor Empenhado (R$) de Mar/2022 para Fev/2022 por Unidade Gestora**"
            ],
            "metadata": {
                "azdata_cell_guid": "176c312b-a8bd-4389-b21b-5b6316bc6193"
            },
            "attachments": {}
        },
        {
            "cell_type": "code",
            "source": [
                "USE DW_38\r\n",
                "GO\r\n",
                "\r\n",
                "-- CRIAÇÃO DA TABELA COM A SOMA DO VALOR EMPENHADO POR UNIDADE GESTORA NO MÊS DE FEVEREIRO\r\n",
                "WITH ORG_SUP_EMPENHADO AS (\r\n",
                "    SELECT GESTORA.ID_COD AS COD_UNID_GESTORA, GESTORA.SK_UNID_GESTORA, GESTORA.NOME_UNID_GESTORA, \r\n",
                "    SUM([FATO].VALOR_EMPENHADO) AS VALOR_EMPENHADO , \r\n",
                "    SUM([FATO].VALOR_EMPENHADO) AS VALOR_DIV\r\n",
                "    FROM [DW_38].[GOLD].[F_Despesa] FATO\r\n",
                "    INNER JOIN [DW_38].[SILVER].[D_Unid_Gestora] GESTORA \r\n",
                "        ON [FATO].SK_UNID_GESTORA = GESTORA.SK_UNID_GESTORA\r\n",
                "\r\n",
                "    INNER JOIN [DW_38].[SILVER].[DIM_TEMPO] TEMPO \r\n",
                "        ON FATO.SK_DATA=TEMPO.SK_DATA    \r\n",
                "        WHERE TEMPO.ANO=2022\r\n",
                "        AND TEMPO.MES=2\r\n",
                "\r\n",
                "    GROUP BY TEMPO.[ANO_MES], GESTORA.SK_UNID_GESTORA, GESTORA.ID_COD, GESTORA.NOME_UNID_GESTORA    \r\n",
                ")\r\n",
                "\r\n",
                "SELECT \r\n",
                "    GESTORA.ID_COD AS COD_UNID_GESTORA, \r\n",
                "    GESTORA.NOME_UNID_GESTORA,    \r\n",
                "    FORMAT(ORG_SUP_EMPENHADO.VALOR_EMPENHADO, 'C', 'pt-br') AS VALOR_EMPENHADO_FEV,\r\n",
                "    FORMAT(SUM([FATO].VALOR_EMPENHADO), 'C', 'pt-br') AS VALOR_EMPENHADO_MAR,\r\n",
                "    CASE WHEN ORG_SUP_EMPENHADO.VALOR_DIV = 0 THEN NULL ELSE\r\n",
                "    FORMAT(((SUM([FATO].VALOR_EMPENHADO)-ORG_SUP_EMPENHADO.VALOR_EMPENHADO)/ORG_SUP_EMPENHADO.VALOR_DIV), 'P') END AS PORCENTAGEM_MOM,\r\n",
                "    FORMAT((SUM([FATO].VALOR_EMPENHADO)-ORG_SUP_EMPENHADO.VALOR_EMPENHADO), 'C', 'pt-br') AS VARIACAO_VALOR_EMPENHADO \r\n",
                "\r\n",
                "FROM [DW_38].[GOLD].[F_Despesa] FATO\r\n",
                "    INNER JOIN [DW_38].[SILVER].[D_Unid_Gestora] GESTORA \r\n",
                "        ON [FATO].SK_UNID_GESTORA = GESTORA.SK_UNID_GESTORA\r\n",
                "    INNER JOIN ORG_SUP_EMPENHADO \r\n",
                "        ON [FATO].SK_UNID_GESTORA = ORG_SUP_EMPENHADO.SK_UNID_GESTORA\r\n",
                "    INNER JOIN [DW_38].[SILVER].[DIM_TEMPO] TEMPO \r\n",
                "        ON FATO.SK_DATA=TEMPO.SK_DATA    \r\n",
                "        WHERE TEMPO.ANO=2022\r\n",
                "        AND TEMPO.MES=3\r\n",
                "    \r\n",
                "    GROUP BY GESTORA.ID_COD, GESTORA.NOME_UNID_GESTORA, ORG_SUP_EMPENHADO.VALOR_EMPENHADO, ORG_SUP_EMPENHADO.VALOR_DIV\r\n",
                "    ORDER BY VARIACAO_VALOR_EMPENHADO DESC\r\n",
                "GO\r\n",
                ""
            ],
            "metadata": {
                "azdata_cell_guid": "74b3db67-c07c-4d9c-b7f2-6b9564d18193",
                "language": "sql"
            },
            "outputs": [
                {
                    "output_type": "display_data",
                    "data": {
                        "text/html": "Commands completed successfully."
                    },
                    "metadata": {}
                },
                {
                    "output_type": "display_data",
                    "data": {
                        "text/html": "(0 rows affected)"
                    },
                    "metadata": {}
                },
                {
                    "output_type": "display_data",
                    "data": {
                        "text/html": "Total execution time: 00:00:00.324"
                    },
                    "metadata": {}
                },
                {
                    "output_type": "execute_result",
                    "metadata": {},
                    "execution_count": 28,
                    "data": {
                        "application/vnd.dataresource+json": {
                            "schema": {
                                "fields": [
                                    {
                                        "name": "COD_UNID_GESTORA"
                                    },
                                    {
                                        "name": "NOME_UNID_GESTORA"
                                    },
                                    {
                                        "name": "VALOR_EMPENHADO_FEV"
                                    },
                                    {
                                        "name": "VALOR_EMPENHADO_MAR"
                                    },
                                    {
                                        "name": "PORCENTAGEM_MOM"
                                    },
                                    {
                                        "name": "VARIACAO_VALOR_EMPENHADO"
                                    }
                                ]
                            },
                            "data": []
                        },
                        "text/html": [
                            "<table>",
                            "<tr><th>COD_UNID_GESTORA</th><th>NOME_UNID_GESTORA</th><th>VALOR_EMPENHADO_FEV</th><th>VALOR_EMPENHADO_MAR</th><th>PORCENTAGEM_MOM</th><th>VARIACAO_VALOR_EMPENHADO</th></tr>",
                            "</table>"
                        ]
                    }
                }
            ],
            "execution_count": 28
        },
        {
            "cell_type": "markdown",
            "source": [
                "**8- Retorno o maior Valor Empenhado (R$) de Grupo de despesas em Fev/2022 para cada Órgão Superior**"
            ],
            "metadata": {
                "azdata_cell_guid": "58790a15-e55f-4e37-88f6-65a656a41a67"
            },
            "attachments": {}
        },
        {
            "cell_type": "code",
            "source": [
                "USE DW_38\r\n",
                "GO\r\n",
                "\r\n",
                "-- TABELA COM PARTIÇÃO POR ÓRGÃO SUPERIOR \r\n",
                "WITH ORG_SUP_EMPENHADO AS (\r\n",
                "    SELECT DISTINCT RANK() OVER (PARTITION BY SK_ORG_SUPERIOR ORDER BY SUM(VALOR_EMPENHADO) DESC) AS RANK_SUP_EMPENHADO, \r\n",
                "    TEMPO.SK_DATA,TEMPO.ANO_MES, SK_ORG_SUPERIOR, SK_GRP_DESPESA, SUM(VALOR_EMPENHADO) AS VALOR_SUM_EMPENHADO \r\n",
                "\r\n",
                "    FROM [DW_38].[GOLD].[F_Despesa] FATO\r\n",
                "     INNER JOIN [DW_38].[SILVER].[DIM_TEMPO] TEMPO \r\n",
                "        ON FATO.SK_DATA=TEMPO.SK_DATA    \r\n",
                "        WHERE TEMPO.ANO=2022\r\n",
                "          AND TEMPO.MES = 2\r\n",
                "            GROUP BY TEMPO.SK_DATA,TEMPO.ANO_MES, SK_ORG_SUPERIOR, SK_GRP_DESPESA\r\n",
                ")\r\n",
                "\r\n",
                "SELECT \r\n",
                "    TEMPO.ANO_MES AS ANO_MES, \r\n",
                "    SUPERIOR.ID_COD AS COD_ORD_SUPERIOR, \r\n",
                "    SUPERIOR.NOME_ORG_SUPERIOR, \r\n",
                "    DESPESA.ID_COD AS COD_GRP_DESPESA, \r\n",
                "    DESPESA.NOME_GRP_DESPESA, \r\n",
                "    FORMAT(MAX([ORG_SUP_EMPENHADO].VALOR_SUM_EMPENHADO), 'C', 'pt-br') AS MAIOR_VALOR_EMPENHADO \r\n",
                "FROM [ORG_SUP_EMPENHADO]\r\n",
                "    INNER JOIN [DW_38].[SILVER].[D_Org_Superior] SUPERIOR \r\n",
                "        ON [ORG_SUP_EMPENHADO].SK_ORG_SUPERIOR = SUPERIOR.SK_ORG_SUPERIOR\r\n",
                "    INNER JOIN [DW_38].[SILVER].[D_Grp_Despesa] DESPESA \r\n",
                "        ON [ORG_SUP_EMPENHADO].SK_GRP_DESPESA = DESPESA.SK_GRP_DESPESA\r\n",
                "     INNER JOIN [DW_38].[SILVER].[DIM_TEMPO] TEMPO \r\n",
                "        ON ORG_SUP_EMPENHADO.SK_DATA=TEMPO.SK_DATA       \r\n",
                "    WHERE TEMPO.MES = 2 \r\n",
                "    AND TEMPO.ANO=2022\r\n",
                "    AND RANK_SUP_EMPENHADO = 1\r\n",
                "    GROUP BY [TEMPO].ANO_MES, SUPERIOR.ID_COD, SUPERIOR.NOME_ORG_SUPERIOR, DESPESA.ID_COD, DESPESA.NOME_GRP_DESPESA\r\n",
                "    ORDER BY SUM([ORG_SUP_EMPENHADO].VALOR_SUM_EMPENHADO) ASC"
            ],
            "metadata": {
                "azdata_cell_guid": "ebdb2abd-38b6-4805-a9e8-1008080061e1",
                "language": "sql"
            },
            "outputs": [
                {
                    "output_type": "display_data",
                    "data": {
                        "text/html": "Commands completed successfully."
                    },
                    "metadata": {}
                },
                {
                    "output_type": "display_data",
                    "data": {
                        "text/html": "(0 rows affected)"
                    },
                    "metadata": {}
                },
                {
                    "output_type": "display_data",
                    "data": {
                        "text/html": "Total execution time: 00:00:00.333"
                    },
                    "metadata": {}
                },
                {
                    "output_type": "execute_result",
                    "metadata": {},
                    "execution_count": 29,
                    "data": {
                        "application/vnd.dataresource+json": {
                            "schema": {
                                "fields": [
                                    {
                                        "name": "ANO_MES"
                                    },
                                    {
                                        "name": "COD_ORD_SUPERIOR"
                                    },
                                    {
                                        "name": "NOME_ORG_SUPERIOR"
                                    },
                                    {
                                        "name": "COD_GRP_DESPESA"
                                    },
                                    {
                                        "name": "NOME_GRP_DESPESA"
                                    },
                                    {
                                        "name": "MAIOR_VALOR_EMPENHADO"
                                    }
                                ]
                            },
                            "data": []
                        },
                        "text/html": [
                            "<table>",
                            "<tr><th>ANO_MES</th><th>COD_ORD_SUPERIOR</th><th>NOME_ORG_SUPERIOR</th><th>COD_GRP_DESPESA</th><th>NOME_GRP_DESPESA</th><th>MAIOR_VALOR_EMPENHADO</th></tr>",
                            "</table>"
                        ]
                    }
                }
            ],
            "execution_count": 29
        },
        {
            "cell_type": "markdown",
            "source": [
                "**9- Retorne o % de Valor Pago (R$) sobre o total, por Gestão Fev/2022**"
            ],
            "metadata": {
                "language": "sql",
                "azdata_cell_guid": "f1fe6a61-6ae2-4af7-a226-8cc06eb0a01f"
            },
            "attachments": {}
        },
        {
            "cell_type": "code",
            "source": [
                "USE DW_38\r\n",
                "GO\r\n",
                "--DECLARA VARIAVEL DE VALOR TOTAL\r\n",
                "DECLARE @V_TOTAL_GERAL FLOAT\r\n",
                "--ATRIBUI VALOR A TOTAL A VARIAVEL\r\n",
                " SET @V_TOTAL_GERAL = (SELECT SUM([FATO].VALOR_PAGO) FROM [DW_38].[GOLD].[F_Despesa] FATO \r\n",
                "                               INNER JOIN SILVER.DIM_TEMPO TEMPO\r\n",
                "                               ON FATO.SK_DATA=TEMPO.SK_DATA\r\n",
                "                               WHERE TEMPO.ANO=2022\r\n",
                "                               AND TEMPO.MES=2)\r\n",
                "\r\n",
                "SELECT FORMAT(@V_TOTAL_GERAL,'C', 'pt-br') AS 'TOTAL GERAL'\r\n",
                "\r\n",
                "SELECT \r\n",
                "    TEMPO.ANO_MES, \r\n",
                "    GESTAO.ID_COD AS COD_GESTAO, \r\n",
                "    GESTAO.NOME_GESTAO, \r\n",
                "    FORMAT(SUM([FATO].VALOR_PAGO), 'C', 'pt-br') AS VALOR_PAGO ,\r\n",
                "    FORMAT(SUM([FATO].VALOR_PAGO)/@V_TOTAL_GERAL, 'P') AS PORCENTAGEM\r\n",
                "    \r\n",
                "\r\n",
                "FROM [DW_38].[GOLD].[F_Despesa] FATO\r\n",
                "    INNER JOIN [DW_38].[SILVER].[D_Gestao] GESTAO \r\n",
                "        ON FATO.SK_GESTAO = GESTAO.SK_GESTAO\r\n",
                "    INNER JOIN SILVER.DIM_TEMPO TEMPO\r\n",
                "        ON FATO.SK_DATA=TEMPO.SK_DATA\r\n",
                "           WHERE TEMPO.ANO=2022\r\n",
                "           AND TEMPO.MES=2    \r\n",
                "    \r\n",
                "    GROUP BY TEMPO.ANO_MES, GESTAO.ID_COD, GESTAO.NOME_GESTAO\r\n",
                "    ORDER BY SUM([FATO].VALOR_PAGO) DESC\r\n",
                "GO"
            ],
            "metadata": {
                "language": "sql",
                "azdata_cell_guid": "fe07f6e7-18d1-4345-9b52-25a52154f8a4"
            },
            "outputs": [
                {
                    "output_type": "display_data",
                    "data": {
                        "text/html": "Commands completed successfully."
                    },
                    "metadata": {}
                },
                {
                    "output_type": "display_data",
                    "data": {
                        "text/html": "(1 row affected)"
                    },
                    "metadata": {}
                },
                {
                    "output_type": "display_data",
                    "data": {
                        "text/html": "(0 rows affected)"
                    },
                    "metadata": {}
                },
                {
                    "output_type": "display_data",
                    "data": {
                        "text/html": "Total execution time: 00:00:00.362"
                    },
                    "metadata": {}
                },
                {
                    "output_type": "execute_result",
                    "metadata": {},
                    "execution_count": 30,
                    "data": {
                        "application/vnd.dataresource+json": {
                            "schema": {
                                "fields": [
                                    {
                                        "name": "TOTAL GERAL"
                                    }
                                ]
                            },
                            "data": [
                                {
                                    "0": "NULL"
                                }
                            ]
                        },
                        "text/html": [
                            "<table>",
                            "<tr><th>TOTAL GERAL</th></tr>",
                            "<tr><td>NULL</td></tr>",
                            "</table>"
                        ]
                    }
                },
                {
                    "output_type": "execute_result",
                    "metadata": {},
                    "execution_count": 30,
                    "data": {
                        "application/vnd.dataresource+json": {
                            "schema": {
                                "fields": [
                                    {
                                        "name": "ANO_MES"
                                    },
                                    {
                                        "name": "COD_GESTAO"
                                    },
                                    {
                                        "name": "NOME_GESTAO"
                                    },
                                    {
                                        "name": "VALOR_PAGO"
                                    },
                                    {
                                        "name": "PORCENTAGEM"
                                    }
                                ]
                            },
                            "data": []
                        },
                        "text/html": [
                            "<table>",
                            "<tr><th>ANO_MES</th><th>COD_GESTAO</th><th>NOME_GESTAO</th><th>VALOR_PAGO</th><th>PORCENTAGEM</th></tr>",
                            "</table>"
                        ]
                    }
                }
            ],
            "execution_count": 30
        },
        {
            "cell_type": "markdown",
            "source": [
                "**10- Retorne o valor média de Valor Pago (R$) por despesa agrupado por Gestão**"
            ],
            "metadata": {
                "language": "sql",
                "azdata_cell_guid": "8ab66af4-1ad8-43bc-8506-27300a39454a"
            },
            "attachments": {}
        },
        {
            "cell_type": "code",
            "source": [
                "USE DW_38\r\n",
                "GO\r\n",
                "\r\n",
                "-- TABELA COM PARTIÇÃO POR GESTAO MES A MES\r\n",
                "WITH GEST_PAGO AS (\r\n",
                "    SELECT TEMPO.ANO_MES, FATO.SK_GESTAO, SK_GRP_DESPESA, SUM(VALOR_PAGO) AS VALOR_SUM_PAGO \r\n",
                "    FROM [DW_38].[GOLD].[F_Despesa] FATO\r\n",
                "        INNER JOIN SILVER.DIM_TEMPO TEMPO\r\n",
                "         ON FATO.SK_DATA=TEMPO.SK_DATA\r\n",
                "            GROUP BY TEMPO.ANO_MES, FATO.SK_GESTAO, FATO.SK_GRP_DESPESA\r\n",
                ")\r\n",
                "\r\n",
                "SELECT \r\n",
                "    GESTAO.ID_COD AS COD_GESTAO, \r\n",
                "    GESTAO.NOME_GESTAO, \r\n",
                "    DESPESA.ID_COD AS COD_GRP_DESPESA, \r\n",
                "    DESPESA.NOME_GRP_DESPESA, \r\n",
                "    FORMAT(AVG([GEST_PAGO].VALOR_SUM_PAGO), 'C', 'pt-br') AS MEDIA_VALOR_PAGO \r\n",
                "FROM [GEST_PAGO]\r\n",
                "    INNER JOIN [DW_38].[SILVER].[D_Gestao] GESTAO ON [GEST_PAGO].SK_GESTAO = GESTAO.SK_GESTAO\r\n",
                "    INNER JOIN [DW_38].[SILVER].[D_Grp_Despesa] DESPESA ON [GEST_PAGO].SK_GRP_DESPESA = DESPESA.SK_GRP_DESPESA\r\n",
                "    GROUP BY GESTAO.ID_COD, GESTAO.NOME_GESTAO, DESPESA.ID_COD, DESPESA.NOME_GRP_DESPESA\r\n",
                "    ORDER BY GESTAO.NOME_GESTAO ASC, SUM([GEST_PAGO].VALOR_SUM_PAGO) ASC"
            ],
            "metadata": {
                "language": "sql",
                "azdata_cell_guid": "d77bb8c1-8327-4e12-af50-9c9b96713739"
            },
            "outputs": [
                {
                    "output_type": "display_data",
                    "data": {
                        "text/html": "Commands completed successfully."
                    },
                    "metadata": {}
                },
                {
                    "output_type": "display_data",
                    "data": {
                        "text/html": "(0 rows affected)"
                    },
                    "metadata": {}
                },
                {
                    "output_type": "display_data",
                    "data": {
                        "text/html": "Total execution time: 00:00:00.342"
                    },
                    "metadata": {}
                },
                {
                    "output_type": "execute_result",
                    "metadata": {},
                    "execution_count": 31,
                    "data": {
                        "application/vnd.dataresource+json": {
                            "schema": {
                                "fields": [
                                    {
                                        "name": "COD_GESTAO"
                                    },
                                    {
                                        "name": "NOME_GESTAO"
                                    },
                                    {
                                        "name": "COD_GRP_DESPESA"
                                    },
                                    {
                                        "name": "NOME_GRP_DESPESA"
                                    },
                                    {
                                        "name": "MEDIA_VALOR_PAGO"
                                    }
                                ]
                            },
                            "data": []
                        },
                        "text/html": [
                            "<table>",
                            "<tr><th>COD_GESTAO</th><th>NOME_GESTAO</th><th>COD_GRP_DESPESA</th><th>NOME_GRP_DESPESA</th><th>MEDIA_VALOR_PAGO</th></tr>",
                            "</table>"
                        ]
                    }
                }
            ],
            "execution_count": 31
        }
    ]
}